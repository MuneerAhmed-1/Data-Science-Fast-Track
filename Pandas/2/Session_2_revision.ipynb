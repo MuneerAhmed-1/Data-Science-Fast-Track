{
 "cells": [
  {
   "cell_type": "code",
   "execution_count": 1,
   "id": "ded66a71",
   "metadata": {},
   "outputs": [],
   "source": [
    "import pandas as pd\n",
    "import csv"
   ]
  },
  {
   "cell_type": "code",
   "execution_count": 3,
   "id": "1b90a759",
   "metadata": {},
   "outputs": [],
   "source": [
    "dataset = pd.read_csv('Laptops.csv', encoding = 'windows-1251')"
   ]
  },
  {
   "cell_type": "code",
   "execution_count": 4,
   "id": "4756a76f",
   "metadata": {},
   "outputs": [
    {
     "data": {
      "text/html": [
       "<div>\n",
       "<style scoped>\n",
       "    .dataframe tbody tr th:only-of-type {\n",
       "        vertical-align: middle;\n",
       "    }\n",
       "\n",
       "    .dataframe tbody tr th {\n",
       "        vertical-align: top;\n",
       "    }\n",
       "\n",
       "    .dataframe thead th {\n",
       "        text-align: right;\n",
       "    }\n",
       "</style>\n",
       "<table border=\"1\" class=\"dataframe\">\n",
       "  <thead>\n",
       "    <tr style=\"text-align: right;\">\n",
       "      <th></th>\n",
       "      <th>Manufacturer</th>\n",
       "      <th>Model Name</th>\n",
       "      <th>Category</th>\n",
       "      <th>Screen Size</th>\n",
       "      <th>Screen</th>\n",
       "      <th>CPU</th>\n",
       "      <th>RAM</th>\n",
       "      <th>Storage</th>\n",
       "      <th>GPU</th>\n",
       "      <th>Operating System</th>\n",
       "      <th>Operating System Version</th>\n",
       "      <th>Weight</th>\n",
       "      <th>Price (Euros)</th>\n",
       "    </tr>\n",
       "  </thead>\n",
       "  <tbody>\n",
       "    <tr>\n",
       "      <th>0</th>\n",
       "      <td>Apple</td>\n",
       "      <td>MacBook Pro</td>\n",
       "      <td>Ultrabook</td>\n",
       "      <td>13.3\"</td>\n",
       "      <td>IPS Panel Retina Display 2560x1600</td>\n",
       "      <td>Intel Core i5 2.3GHz</td>\n",
       "      <td>8GB</td>\n",
       "      <td>128GB SSD</td>\n",
       "      <td>Intel Iris Plus Graphics 640</td>\n",
       "      <td>macOS</td>\n",
       "      <td>NaN</td>\n",
       "      <td>1.37kg</td>\n",
       "      <td>1339,69</td>\n",
       "    </tr>\n",
       "    <tr>\n",
       "      <th>1</th>\n",
       "      <td>Apple</td>\n",
       "      <td>Macbook Air</td>\n",
       "      <td>Ultrabook</td>\n",
       "      <td>13.3\"</td>\n",
       "      <td>1440x900</td>\n",
       "      <td>Intel Core i5 1.8GHz</td>\n",
       "      <td>8GB</td>\n",
       "      <td>128GB Flash Storage</td>\n",
       "      <td>Intel HD Graphics 6000</td>\n",
       "      <td>macOS</td>\n",
       "      <td>NaN</td>\n",
       "      <td>1.34kg</td>\n",
       "      <td>898,94</td>\n",
       "    </tr>\n",
       "    <tr>\n",
       "      <th>2</th>\n",
       "      <td>HP</td>\n",
       "      <td>250 G6</td>\n",
       "      <td>Notebook</td>\n",
       "      <td>15.6\"</td>\n",
       "      <td>Full HD 1920x1080</td>\n",
       "      <td>Intel Core i5 7200U 2.5GHz</td>\n",
       "      <td>8GB</td>\n",
       "      <td>256GB SSD</td>\n",
       "      <td>Intel HD Graphics 620</td>\n",
       "      <td>No OS</td>\n",
       "      <td>NaN</td>\n",
       "      <td>1.86kg</td>\n",
       "      <td>575,00</td>\n",
       "    </tr>\n",
       "    <tr>\n",
       "      <th>3</th>\n",
       "      <td>Apple</td>\n",
       "      <td>MacBook Pro</td>\n",
       "      <td>Ultrabook</td>\n",
       "      <td>15.4\"</td>\n",
       "      <td>IPS Panel Retina Display 2880x1800</td>\n",
       "      <td>Intel Core i7 2.7GHz</td>\n",
       "      <td>16GB</td>\n",
       "      <td>512GB SSD</td>\n",
       "      <td>AMD Radeon Pro 455</td>\n",
       "      <td>macOS</td>\n",
       "      <td>NaN</td>\n",
       "      <td>1.83kg</td>\n",
       "      <td>2537,45</td>\n",
       "    </tr>\n",
       "    <tr>\n",
       "      <th>4</th>\n",
       "      <td>Apple</td>\n",
       "      <td>MacBook Pro</td>\n",
       "      <td>Ultrabook</td>\n",
       "      <td>13.3\"</td>\n",
       "      <td>IPS Panel Retina Display 2560x1600</td>\n",
       "      <td>Intel Core i5 3.1GHz</td>\n",
       "      <td>8GB</td>\n",
       "      <td>256GB SSD</td>\n",
       "      <td>Intel Iris Plus Graphics 650</td>\n",
       "      <td>macOS</td>\n",
       "      <td>NaN</td>\n",
       "      <td>1.37kg</td>\n",
       "      <td>1803,60</td>\n",
       "    </tr>\n",
       "    <tr>\n",
       "      <th>...</th>\n",
       "      <td>...</td>\n",
       "      <td>...</td>\n",
       "      <td>...</td>\n",
       "      <td>...</td>\n",
       "      <td>...</td>\n",
       "      <td>...</td>\n",
       "      <td>...</td>\n",
       "      <td>...</td>\n",
       "      <td>...</td>\n",
       "      <td>...</td>\n",
       "      <td>...</td>\n",
       "      <td>...</td>\n",
       "      <td>...</td>\n",
       "    </tr>\n",
       "    <tr>\n",
       "      <th>1298</th>\n",
       "      <td>Lenovo</td>\n",
       "      <td>Yoga 500-14ISK</td>\n",
       "      <td>2 in 1 Convertible</td>\n",
       "      <td>14.0\"</td>\n",
       "      <td>IPS Panel Full HD / Touchscreen 1920x1080</td>\n",
       "      <td>Intel Core i7 6500U 2.5GHz</td>\n",
       "      <td>4GB</td>\n",
       "      <td>128GB SSD</td>\n",
       "      <td>Intel HD Graphics 520</td>\n",
       "      <td>Windows</td>\n",
       "      <td>10</td>\n",
       "      <td>1.8kg</td>\n",
       "      <td>638,00</td>\n",
       "    </tr>\n",
       "    <tr>\n",
       "      <th>1299</th>\n",
       "      <td>Lenovo</td>\n",
       "      <td>Yoga 900-13ISK</td>\n",
       "      <td>2 in 1 Convertible</td>\n",
       "      <td>13.3\"</td>\n",
       "      <td>IPS Panel Quad HD+ / Touchscreen 3200x1800</td>\n",
       "      <td>Intel Core i7 6500U 2.5GHz</td>\n",
       "      <td>16GB</td>\n",
       "      <td>512GB SSD</td>\n",
       "      <td>Intel HD Graphics 520</td>\n",
       "      <td>Windows</td>\n",
       "      <td>10</td>\n",
       "      <td>1.3kg</td>\n",
       "      <td>1499,00</td>\n",
       "    </tr>\n",
       "    <tr>\n",
       "      <th>1300</th>\n",
       "      <td>Lenovo</td>\n",
       "      <td>IdeaPad 100S-14IBR</td>\n",
       "      <td>Notebook</td>\n",
       "      <td>14.0\"</td>\n",
       "      <td>1366x768</td>\n",
       "      <td>Intel Celeron Dual Core N3050 1.6GHz</td>\n",
       "      <td>2GB</td>\n",
       "      <td>64GB Flash Storage</td>\n",
       "      <td>Intel HD Graphics</td>\n",
       "      <td>Windows</td>\n",
       "      <td>10</td>\n",
       "      <td>1.5kg</td>\n",
       "      <td>229,00</td>\n",
       "    </tr>\n",
       "    <tr>\n",
       "      <th>1301</th>\n",
       "      <td>HP</td>\n",
       "      <td>15-AC110nv (i7-6500U/6GB/1TB/Radeon</td>\n",
       "      <td>Notebook</td>\n",
       "      <td>15.6\"</td>\n",
       "      <td>1366x768</td>\n",
       "      <td>Intel Core i7 6500U 2.5GHz</td>\n",
       "      <td>6GB</td>\n",
       "      <td>1TB HDD</td>\n",
       "      <td>AMD Radeon R5 M330</td>\n",
       "      <td>Windows</td>\n",
       "      <td>10</td>\n",
       "      <td>2.19kg</td>\n",
       "      <td>764,00</td>\n",
       "    </tr>\n",
       "    <tr>\n",
       "      <th>1302</th>\n",
       "      <td>Asus</td>\n",
       "      <td>X553SA-XX031T (N3050/4GB/500GB/W10)</td>\n",
       "      <td>Notebook</td>\n",
       "      <td>15.6\"</td>\n",
       "      <td>1366x768</td>\n",
       "      <td>Intel Celeron Dual Core N3050 1.6GHz</td>\n",
       "      <td>4GB</td>\n",
       "      <td>500GB HDD</td>\n",
       "      <td>Intel HD Graphics</td>\n",
       "      <td>Windows</td>\n",
       "      <td>10</td>\n",
       "      <td>2.2kg</td>\n",
       "      <td>369,00</td>\n",
       "    </tr>\n",
       "  </tbody>\n",
       "</table>\n",
       "<p>1303 rows × 13 columns</p>\n",
       "</div>"
      ],
      "text/plain": [
       "     Manufacturer                           Model Name            Category  \\\n",
       "0           Apple                          MacBook Pro           Ultrabook   \n",
       "1           Apple                          Macbook Air           Ultrabook   \n",
       "2              HP                               250 G6            Notebook   \n",
       "3           Apple                          MacBook Pro           Ultrabook   \n",
       "4           Apple                          MacBook Pro           Ultrabook   \n",
       "...           ...                                  ...                 ...   \n",
       "1298       Lenovo                       Yoga 500-14ISK  2 in 1 Convertible   \n",
       "1299       Lenovo                       Yoga 900-13ISK  2 in 1 Convertible   \n",
       "1300       Lenovo                   IdeaPad 100S-14IBR            Notebook   \n",
       "1301           HP  15-AC110nv (i7-6500U/6GB/1TB/Radeon            Notebook   \n",
       "1302         Asus  X553SA-XX031T (N3050/4GB/500GB/W10)            Notebook   \n",
       "\n",
       "     Screen Size                                      Screen  \\\n",
       "0          13.3\"          IPS Panel Retina Display 2560x1600   \n",
       "1          13.3\"                                    1440x900   \n",
       "2          15.6\"                           Full HD 1920x1080   \n",
       "3          15.4\"          IPS Panel Retina Display 2880x1800   \n",
       "4          13.3\"          IPS Panel Retina Display 2560x1600   \n",
       "...          ...                                         ...   \n",
       "1298       14.0\"   IPS Panel Full HD / Touchscreen 1920x1080   \n",
       "1299       13.3\"  IPS Panel Quad HD+ / Touchscreen 3200x1800   \n",
       "1300       14.0\"                                    1366x768   \n",
       "1301       15.6\"                                    1366x768   \n",
       "1302       15.6\"                                    1366x768   \n",
       "\n",
       "                                       CPU   RAM              Storage  \\\n",
       "0                     Intel Core i5 2.3GHz   8GB            128GB SSD   \n",
       "1                     Intel Core i5 1.8GHz   8GB  128GB Flash Storage   \n",
       "2               Intel Core i5 7200U 2.5GHz   8GB            256GB SSD   \n",
       "3                     Intel Core i7 2.7GHz  16GB            512GB SSD   \n",
       "4                     Intel Core i5 3.1GHz   8GB            256GB SSD   \n",
       "...                                    ...   ...                  ...   \n",
       "1298            Intel Core i7 6500U 2.5GHz   4GB            128GB SSD   \n",
       "1299            Intel Core i7 6500U 2.5GHz  16GB            512GB SSD   \n",
       "1300  Intel Celeron Dual Core N3050 1.6GHz   2GB   64GB Flash Storage   \n",
       "1301            Intel Core i7 6500U 2.5GHz   6GB              1TB HDD   \n",
       "1302  Intel Celeron Dual Core N3050 1.6GHz   4GB            500GB HDD   \n",
       "\n",
       "                               GPU Operating System Operating System Version  \\\n",
       "0     Intel Iris Plus Graphics 640            macOS                      NaN   \n",
       "1           Intel HD Graphics 6000            macOS                      NaN   \n",
       "2            Intel HD Graphics 620            No OS                      NaN   \n",
       "3               AMD Radeon Pro 455            macOS                      NaN   \n",
       "4     Intel Iris Plus Graphics 650            macOS                      NaN   \n",
       "...                            ...              ...                      ...   \n",
       "1298         Intel HD Graphics 520          Windows                       10   \n",
       "1299         Intel HD Graphics 520          Windows                       10   \n",
       "1300             Intel HD Graphics          Windows                       10   \n",
       "1301            AMD Radeon R5 M330          Windows                       10   \n",
       "1302             Intel HD Graphics          Windows                       10   \n",
       "\n",
       "      Weight Price (Euros)  \n",
       "0     1.37kg       1339,69  \n",
       "1     1.34kg        898,94  \n",
       "2     1.86kg        575,00  \n",
       "3     1.83kg       2537,45  \n",
       "4     1.37kg       1803,60  \n",
       "...      ...           ...  \n",
       "1298   1.8kg        638,00  \n",
       "1299   1.3kg       1499,00  \n",
       "1300   1.5kg        229,00  \n",
       "1301  2.19kg        764,00  \n",
       "1302   2.2kg        369,00  \n",
       "\n",
       "[1303 rows x 13 columns]"
      ]
     },
     "execution_count": 4,
     "metadata": {},
     "output_type": "execute_result"
    }
   ],
   "source": [
    "dataset"
   ]
  },
  {
   "cell_type": "code",
   "execution_count": 5,
   "id": "91d6536c",
   "metadata": {},
   "outputs": [
    {
     "data": {
      "text/plain": [
       "Index(['Manufacturer', 'Model Name', 'Category', 'Screen Size', 'Screen',\n",
       "       'CPU', 'RAM', ' Storage', 'GPU', 'Operating System',\n",
       "       'Operating System Version', 'Weight', 'Price (Euros)'],\n",
       "      dtype='object')"
      ]
     },
     "execution_count": 5,
     "metadata": {},
     "output_type": "execute_result"
    }
   ],
   "source": [
    "dataset.columns"
   ]
  },
  {
   "cell_type": "code",
   "execution_count": 8,
   "id": "a328dc06",
   "metadata": {},
   "outputs": [
    {
     "name": "stdout",
     "output_type": "stream",
     "text": [
      "<class 'pandas.core.frame.DataFrame'>\n",
      "RangeIndex: 1303 entries, 0 to 1302\n",
      "Data columns (total 13 columns):\n",
      " #   Column                    Non-Null Count  Dtype \n",
      "---  ------                    --------------  ----- \n",
      " 0   Manufacturer              1303 non-null   object\n",
      " 1   Model Name                1303 non-null   object\n",
      " 2   Category                  1303 non-null   object\n",
      " 3   Screen Size               1303 non-null   object\n",
      " 4   Screen                    1303 non-null   object\n",
      " 5   CPU                       1303 non-null   object\n",
      " 6   RAM                       1303 non-null   object\n",
      " 7    Storage                  1303 non-null   object\n",
      " 8   GPU                       1303 non-null   object\n",
      " 9   Operating System          1303 non-null   object\n",
      " 10  Operating System Version  1133 non-null   object\n",
      " 11  Weight                    1303 non-null   object\n",
      " 12  Price (Euros)             1303 non-null   object\n",
      "dtypes: object(13)\n",
      "memory usage: 132.5+ KB\n"
     ]
    }
   ],
   "source": [
    "dataset.info()"
   ]
  },
  {
   "cell_type": "code",
   "execution_count": 9,
   "id": "4b48502d",
   "metadata": {},
   "outputs": [
    {
     "name": "stdout",
     "output_type": "stream",
     "text": [
      "<class 'pandas.core.frame.DataFrame'>\n",
      "RangeIndex: 1303 entries, 0 to 1302\n",
      "Data columns (total 13 columns):\n",
      " #   Column                    Dtype \n",
      "---  ------                    ----- \n",
      " 0   Manufacturer              object\n",
      " 1   Model Name                object\n",
      " 2   Category                  object\n",
      " 3   Screen Size               object\n",
      " 4   Screen                    object\n",
      " 5   CPU                       object\n",
      " 6   RAM                       object\n",
      " 7    Storage                  object\n",
      " 8   GPU                       object\n",
      " 9   Operating System          object\n",
      " 10  Operating System Version  object\n",
      " 11  Weight                    object\n",
      " 12  Price (Euros)             object\n",
      "dtypes: object(13)\n",
      "memory usage: 132.5+ KB\n"
     ]
    }
   ],
   "source": [
    "dataset.info(show_counts = False)"
   ]
  },
  {
   "cell_type": "code",
   "execution_count": 12,
   "id": "6dafb8ab",
   "metadata": {},
   "outputs": [
    {
     "data": {
      "text/html": [
       "<div>\n",
       "<style scoped>\n",
       "    .dataframe tbody tr th:only-of-type {\n",
       "        vertical-align: middle;\n",
       "    }\n",
       "\n",
       "    .dataframe tbody tr th {\n",
       "        vertical-align: top;\n",
       "    }\n",
       "\n",
       "    .dataframe thead th {\n",
       "        text-align: right;\n",
       "    }\n",
       "</style>\n",
       "<table border=\"1\" class=\"dataframe\">\n",
       "  <thead>\n",
       "    <tr style=\"text-align: right;\">\n",
       "      <th></th>\n",
       "      <th>Manufacturer</th>\n",
       "      <th>Model Name</th>\n",
       "      <th>Category</th>\n",
       "      <th>Screen Size</th>\n",
       "      <th>Screen</th>\n",
       "      <th>CPU</th>\n",
       "      <th>RAM</th>\n",
       "      <th>Storage</th>\n",
       "      <th>GPU</th>\n",
       "      <th>Operating System</th>\n",
       "      <th>Operating System Version</th>\n",
       "      <th>Weight</th>\n",
       "      <th>Price (Euros)</th>\n",
       "    </tr>\n",
       "  </thead>\n",
       "  <tbody>\n",
       "    <tr>\n",
       "      <th>count</th>\n",
       "      <td>1303</td>\n",
       "      <td>1303</td>\n",
       "      <td>1303</td>\n",
       "      <td>1303</td>\n",
       "      <td>1303</td>\n",
       "      <td>1303</td>\n",
       "      <td>1303</td>\n",
       "      <td>1303</td>\n",
       "      <td>1303</td>\n",
       "      <td>1303</td>\n",
       "      <td>1133</td>\n",
       "      <td>1303</td>\n",
       "      <td>1303</td>\n",
       "    </tr>\n",
       "    <tr>\n",
       "      <th>unique</th>\n",
       "      <td>19</td>\n",
       "      <td>618</td>\n",
       "      <td>6</td>\n",
       "      <td>18</td>\n",
       "      <td>40</td>\n",
       "      <td>118</td>\n",
       "      <td>9</td>\n",
       "      <td>38</td>\n",
       "      <td>110</td>\n",
       "      <td>7</td>\n",
       "      <td>4</td>\n",
       "      <td>179</td>\n",
       "      <td>791</td>\n",
       "    </tr>\n",
       "    <tr>\n",
       "      <th>top</th>\n",
       "      <td>Dell</td>\n",
       "      <td>XPS 13</td>\n",
       "      <td>Notebook</td>\n",
       "      <td>15.6\"</td>\n",
       "      <td>Full HD 1920x1080</td>\n",
       "      <td>Intel Core i5 7200U 2.5GHz</td>\n",
       "      <td>8GB</td>\n",
       "      <td>256GB SSD</td>\n",
       "      <td>Intel HD Graphics 620</td>\n",
       "      <td>Windows</td>\n",
       "      <td>10</td>\n",
       "      <td>2.2kg</td>\n",
       "      <td>1499,00</td>\n",
       "    </tr>\n",
       "    <tr>\n",
       "      <th>freq</th>\n",
       "      <td>297</td>\n",
       "      <td>30</td>\n",
       "      <td>727</td>\n",
       "      <td>665</td>\n",
       "      <td>507</td>\n",
       "      <td>190</td>\n",
       "      <td>619</td>\n",
       "      <td>412</td>\n",
       "      <td>281</td>\n",
       "      <td>1125</td>\n",
       "      <td>1072</td>\n",
       "      <td>121</td>\n",
       "      <td>14</td>\n",
       "    </tr>\n",
       "  </tbody>\n",
       "</table>\n",
       "</div>"
      ],
      "text/plain": [
       "       Manufacturer Model Name  Category Screen Size             Screen  \\\n",
       "count          1303       1303      1303        1303               1303   \n",
       "unique           19        618         6          18                 40   \n",
       "top            Dell     XPS 13  Notebook       15.6\"  Full HD 1920x1080   \n",
       "freq            297         30       727         665                507   \n",
       "\n",
       "                               CPU   RAM    Storage                    GPU  \\\n",
       "count                         1303  1303       1303                   1303   \n",
       "unique                         118     9         38                    110   \n",
       "top     Intel Core i5 7200U 2.5GHz   8GB  256GB SSD  Intel HD Graphics 620   \n",
       "freq                           190   619        412                    281   \n",
       "\n",
       "       Operating System Operating System Version Weight Price (Euros)  \n",
       "count              1303                     1133   1303          1303  \n",
       "unique                7                        4    179           791  \n",
       "top             Windows                       10  2.2kg       1499,00  \n",
       "freq               1125                     1072    121            14  "
      ]
     },
     "execution_count": 12,
     "metadata": {},
     "output_type": "execute_result"
    }
   ],
   "source": [
    "dataset.describe()"
   ]
  },
  {
   "cell_type": "code",
   "execution_count": 13,
   "id": "0a1fbe7c",
   "metadata": {},
   "outputs": [
    {
     "data": {
      "text/html": [
       "<div>\n",
       "<style scoped>\n",
       "    .dataframe tbody tr th:only-of-type {\n",
       "        vertical-align: middle;\n",
       "    }\n",
       "\n",
       "    .dataframe tbody tr th {\n",
       "        vertical-align: top;\n",
       "    }\n",
       "\n",
       "    .dataframe thead th {\n",
       "        text-align: right;\n",
       "    }\n",
       "</style>\n",
       "<table border=\"1\" class=\"dataframe\">\n",
       "  <thead>\n",
       "    <tr style=\"text-align: right;\">\n",
       "      <th></th>\n",
       "      <th>Manufacturer</th>\n",
       "      <th>Model Name</th>\n",
       "      <th>Category</th>\n",
       "      <th>Screen Size</th>\n",
       "      <th>Screen</th>\n",
       "      <th>CPU</th>\n",
       "      <th>RAM</th>\n",
       "      <th>Storage</th>\n",
       "      <th>GPU</th>\n",
       "      <th>Operating System</th>\n",
       "      <th>Operating System Version</th>\n",
       "      <th>Weight</th>\n",
       "      <th>Price (Euros)</th>\n",
       "    </tr>\n",
       "  </thead>\n",
       "  <tbody>\n",
       "    <tr>\n",
       "      <th>0</th>\n",
       "      <td>Apple</td>\n",
       "      <td>MacBook Pro</td>\n",
       "      <td>Ultrabook</td>\n",
       "      <td>13.3\"</td>\n",
       "      <td>IPS Panel Retina Display 2560x1600</td>\n",
       "      <td>Intel Core i5 2.3GHz</td>\n",
       "      <td>8GB</td>\n",
       "      <td>128GB SSD</td>\n",
       "      <td>Intel Iris Plus Graphics 640</td>\n",
       "      <td>macOS</td>\n",
       "      <td>NaN</td>\n",
       "      <td>1.37kg</td>\n",
       "      <td>1339,69</td>\n",
       "    </tr>\n",
       "    <tr>\n",
       "      <th>1</th>\n",
       "      <td>Apple</td>\n",
       "      <td>Macbook Air</td>\n",
       "      <td>Ultrabook</td>\n",
       "      <td>13.3\"</td>\n",
       "      <td>1440x900</td>\n",
       "      <td>Intel Core i5 1.8GHz</td>\n",
       "      <td>8GB</td>\n",
       "      <td>128GB Flash Storage</td>\n",
       "      <td>Intel HD Graphics 6000</td>\n",
       "      <td>macOS</td>\n",
       "      <td>NaN</td>\n",
       "      <td>1.34kg</td>\n",
       "      <td>898,94</td>\n",
       "    </tr>\n",
       "    <tr>\n",
       "      <th>2</th>\n",
       "      <td>HP</td>\n",
       "      <td>250 G6</td>\n",
       "      <td>Notebook</td>\n",
       "      <td>15.6\"</td>\n",
       "      <td>Full HD 1920x1080</td>\n",
       "      <td>Intel Core i5 7200U 2.5GHz</td>\n",
       "      <td>8GB</td>\n",
       "      <td>256GB SSD</td>\n",
       "      <td>Intel HD Graphics 620</td>\n",
       "      <td>No OS</td>\n",
       "      <td>NaN</td>\n",
       "      <td>1.86kg</td>\n",
       "      <td>575,00</td>\n",
       "    </tr>\n",
       "  </tbody>\n",
       "</table>\n",
       "</div>"
      ],
      "text/plain": [
       "  Manufacturer   Model Name   Category Screen Size  \\\n",
       "0        Apple  MacBook Pro  Ultrabook       13.3\"   \n",
       "1        Apple  Macbook Air  Ultrabook       13.3\"   \n",
       "2           HP       250 G6   Notebook       15.6\"   \n",
       "\n",
       "                               Screen                         CPU  RAM  \\\n",
       "0  IPS Panel Retina Display 2560x1600        Intel Core i5 2.3GHz  8GB   \n",
       "1                            1440x900        Intel Core i5 1.8GHz  8GB   \n",
       "2                   Full HD 1920x1080  Intel Core i5 7200U 2.5GHz  8GB   \n",
       "\n",
       "               Storage                           GPU Operating System  \\\n",
       "0            128GB SSD  Intel Iris Plus Graphics 640            macOS   \n",
       "1  128GB Flash Storage        Intel HD Graphics 6000            macOS   \n",
       "2            256GB SSD         Intel HD Graphics 620            No OS   \n",
       "\n",
       "  Operating System Version  Weight Price (Euros)  \n",
       "0                      NaN  1.37kg       1339,69  \n",
       "1                      NaN  1.34kg        898,94  \n",
       "2                      NaN  1.86kg        575,00  "
      ]
     },
     "execution_count": 13,
     "metadata": {},
     "output_type": "execute_result"
    }
   ],
   "source": [
    "dataset.head(3)"
   ]
  },
  {
   "cell_type": "code",
   "execution_count": 14,
   "id": "6722b826",
   "metadata": {},
   "outputs": [
    {
     "data": {
      "text/plain": [
       "(1303, 13)"
      ]
     },
     "execution_count": 14,
     "metadata": {},
     "output_type": "execute_result"
    }
   ],
   "source": [
    "dataset.shape"
   ]
  },
  {
   "cell_type": "code",
   "execution_count": 26,
   "id": "020ce1d9",
   "metadata": {},
   "outputs": [
    {
     "data": {
      "text/plain": [
       "'Techma Zone'"
      ]
     },
     "execution_count": 26,
     "metadata": {},
     "output_type": "execute_result"
    }
   ],
   "source": [
    "\"    Techma Zone \".strip()"
   ]
  },
  {
   "cell_type": "code",
   "execution_count": 18,
   "id": "fdfc2010",
   "metadata": {},
   "outputs": [
    {
     "data": {
      "text/plain": [
       "'Techma Zone'"
      ]
     },
     "execution_count": 18,
     "metadata": {},
     "output_type": "execute_result"
    }
   ],
   "source": [
    "\"{{[(   Techma Zone {}]   ]))\".strip(' (){}[]')"
   ]
  },
  {
   "cell_type": "code",
   "execution_count": 19,
   "id": "cefb90be",
   "metadata": {},
   "outputs": [
    {
     "data": {
      "text/plain": [
       "'Zechma Zone'"
      ]
     },
     "execution_count": 19,
     "metadata": {},
     "output_type": "execute_result"
    }
   ],
   "source": [
    "\"Techma Zone\".replace('T', 'Z')"
   ]
  },
  {
   "cell_type": "code",
   "execution_count": 20,
   "id": "2b70f410",
   "metadata": {},
   "outputs": [
    {
     "data": {
      "text/plain": [
       "'Techma Zone'"
      ]
     },
     "execution_count": 20,
     "metadata": {},
     "output_type": "execute_result"
    }
   ],
   "source": [
    "\"Techma Zone**\".replace('**', '')"
   ]
  },
  {
   "cell_type": "code",
   "execution_count": 21,
   "id": "64508bdf",
   "metadata": {},
   "outputs": [
    {
     "data": {
      "text/plain": [
       "'techma zone'"
      ]
     },
     "execution_count": 21,
     "metadata": {},
     "output_type": "execute_result"
    }
   ],
   "source": [
    "'TECHMA ZONE'.lower()"
   ]
  },
  {
   "cell_type": "code",
   "execution_count": 22,
   "id": "1bad3932",
   "metadata": {},
   "outputs": [
    {
     "data": {
      "text/plain": [
       "'TECHMA ZONE'"
      ]
     },
     "execution_count": 22,
     "metadata": {},
     "output_type": "execute_result"
    }
   ],
   "source": [
    "'techma zone'.upper()"
   ]
  },
  {
   "cell_type": "code",
   "execution_count": 24,
   "id": "9517593d",
   "metadata": {},
   "outputs": [
    {
     "data": {
      "text/html": [
       "<div>\n",
       "<style scoped>\n",
       "    .dataframe tbody tr th:only-of-type {\n",
       "        vertical-align: middle;\n",
       "    }\n",
       "\n",
       "    .dataframe tbody tr th {\n",
       "        vertical-align: top;\n",
       "    }\n",
       "\n",
       "    .dataframe thead th {\n",
       "        text-align: right;\n",
       "    }\n",
       "</style>\n",
       "<table border=\"1\" class=\"dataframe\">\n",
       "  <thead>\n",
       "    <tr style=\"text-align: right;\">\n",
       "      <th></th>\n",
       "      <th>Manufacturer</th>\n",
       "      <th>Model Name</th>\n",
       "      <th>Category</th>\n",
       "      <th>Screen Size</th>\n",
       "      <th>Screen</th>\n",
       "      <th>CPU</th>\n",
       "      <th>RAM</th>\n",
       "      <th>Storage</th>\n",
       "      <th>GPU</th>\n",
       "      <th>Operating System</th>\n",
       "      <th>Operating System Version</th>\n",
       "      <th>Weight</th>\n",
       "      <th>Price (Euros)</th>\n",
       "    </tr>\n",
       "  </thead>\n",
       "  <tbody>\n",
       "    <tr>\n",
       "      <th>0</th>\n",
       "      <td>Apple</td>\n",
       "      <td>MacBook Pro</td>\n",
       "      <td>Ultrabook</td>\n",
       "      <td>13.3\"</td>\n",
       "      <td>IPS Panel Retina Display 2560x1600</td>\n",
       "      <td>Intel Core i5 2.3GHz</td>\n",
       "      <td>8GB</td>\n",
       "      <td>128GB SSD</td>\n",
       "      <td>Intel Iris Plus Graphics 640</td>\n",
       "      <td>macOS</td>\n",
       "      <td>NaN</td>\n",
       "      <td>1.37kg</td>\n",
       "      <td>1339,69</td>\n",
       "    </tr>\n",
       "    <tr>\n",
       "      <th>1</th>\n",
       "      <td>Apple</td>\n",
       "      <td>Macbook Air</td>\n",
       "      <td>Ultrabook</td>\n",
       "      <td>13.3\"</td>\n",
       "      <td>1440x900</td>\n",
       "      <td>Intel Core i5 1.8GHz</td>\n",
       "      <td>8GB</td>\n",
       "      <td>128GB Flash Storage</td>\n",
       "      <td>Intel HD Graphics 6000</td>\n",
       "      <td>macOS</td>\n",
       "      <td>NaN</td>\n",
       "      <td>1.34kg</td>\n",
       "      <td>898,94</td>\n",
       "    </tr>\n",
       "  </tbody>\n",
       "</table>\n",
       "</div>"
      ],
      "text/plain": [
       "  Manufacturer   Model Name   Category Screen Size  \\\n",
       "0        Apple  MacBook Pro  Ultrabook       13.3\"   \n",
       "1        Apple  Macbook Air  Ultrabook       13.3\"   \n",
       "\n",
       "                               Screen                   CPU  RAM  \\\n",
       "0  IPS Panel Retina Display 2560x1600  Intel Core i5 2.3GHz  8GB   \n",
       "1                            1440x900  Intel Core i5 1.8GHz  8GB   \n",
       "\n",
       "               Storage                           GPU Operating System  \\\n",
       "0            128GB SSD  Intel Iris Plus Graphics 640            macOS   \n",
       "1  128GB Flash Storage        Intel HD Graphics 6000            macOS   \n",
       "\n",
       "  Operating System Version  Weight Price (Euros)  \n",
       "0                      NaN  1.37kg       1339,69  \n",
       "1                      NaN  1.34kg        898,94  "
      ]
     },
     "execution_count": 24,
     "metadata": {},
     "output_type": "execute_result"
    }
   ],
   "source": [
    "dataset.head(2)"
   ]
  },
  {
   "cell_type": "code",
   "execution_count": 27,
   "id": "2cf22f56",
   "metadata": {},
   "outputs": [],
   "source": [
    "def clean_label(label):\n",
    "    label = label.strip()\n",
    "    label = label.lower()\n",
    "    label = label.replace(' ', '_')\n",
    "    label = label.replace('(', '')\n",
    "    label = label.replace(')', '')\n",
    "    label = label.replace('operating_system', 'os')\n",
    "    return label"
   ]
  },
  {
   "cell_type": "code",
   "execution_count": 32,
   "id": "9aff2084",
   "metadata": {},
   "outputs": [
    {
     "data": {
      "text/plain": [
       "pandas.core.indexes.base.Index"
      ]
     },
     "execution_count": 32,
     "metadata": {},
     "output_type": "execute_result"
    }
   ],
   "source": [
    "type(dataset.columns)"
   ]
  },
  {
   "cell_type": "code",
   "execution_count": 31,
   "id": "67df7849",
   "metadata": {},
   "outputs": [
    {
     "name": "stdout",
     "output_type": "stream",
     "text": [
      "<class 'pandas.core.frame.DataFrame'>\n",
      "RangeIndex: 1303 entries, 0 to 1302\n",
      "Data columns (total 13 columns):\n",
      " #   Column                    Non-Null Count  Dtype \n",
      "---  ------                    --------------  ----- \n",
      " 0   Manufacturer              1303 non-null   object\n",
      " 1   Model Name                1303 non-null   object\n",
      " 2   Category                  1303 non-null   object\n",
      " 3   Screen Size               1303 non-null   object\n",
      " 4   Screen                    1303 non-null   object\n",
      " 5   CPU                       1303 non-null   object\n",
      " 6   RAM                       1303 non-null   object\n",
      " 7    Storage                  1303 non-null   object\n",
      " 8   GPU                       1303 non-null   object\n",
      " 9   Operating System          1303 non-null   object\n",
      " 10  Operating System Version  1133 non-null   object\n",
      " 11  Weight                    1303 non-null   object\n",
      " 12  Price (Euros)             1303 non-null   object\n",
      "dtypes: object(13)\n",
      "memory usage: 132.5+ KB\n"
     ]
    }
   ],
   "source": [
    "dataset.info()"
   ]
  },
  {
   "cell_type": "code",
   "execution_count": 36,
   "id": "5cbbac5d",
   "metadata": {},
   "outputs": [
    {
     "data": {
      "text/plain": [
       "0                 Manufacturer\n",
       "1                   Model Name\n",
       "2                     Category\n",
       "3                  Screen Size\n",
       "4                       Screen\n",
       "5                          CPU\n",
       "6                          RAM\n",
       "7                      Storage\n",
       "8                          GPU\n",
       "9             Operating System\n",
       "10    Operating System Version\n",
       "11                      Weight\n",
       "12               Price (Euros)\n",
       "dtype: object"
      ]
     },
     "execution_count": 36,
     "metadata": {},
     "output_type": "execute_result"
    }
   ],
   "source": [
    "pd.Series(dataset.columns)"
   ]
  },
  {
   "cell_type": "code",
   "execution_count": 39,
   "id": "c5712532",
   "metadata": {},
   "outputs": [],
   "source": [
    "dataset.columns = pd.Series(dataset.columns).apply(clean_label)"
   ]
  },
  {
   "cell_type": "code",
   "execution_count": 40,
   "id": "b07815af",
   "metadata": {},
   "outputs": [
    {
     "data": {
      "text/plain": [
       "Index(['manufacturer', 'model_name', 'category', 'screen_size', 'screen',\n",
       "       'cpu', 'ram', 'storage', 'gpu', 'os', 'os_version', 'weight',\n",
       "       'price_euros'],\n",
       "      dtype='object')"
      ]
     },
     "execution_count": 40,
     "metadata": {},
     "output_type": "execute_result"
    }
   ],
   "source": [
    "dataset.columns"
   ]
  },
  {
   "cell_type": "code",
   "execution_count": 46,
   "id": "b084e668",
   "metadata": {},
   "outputs": [
    {
     "data": {
      "text/plain": [
       "0       False\n",
       "1       False\n",
       "2       False\n",
       "3       False\n",
       "4       False\n",
       "        ...  \n",
       "1298    False\n",
       "1299    False\n",
       "1300    False\n",
       "1301    False\n",
       "1302    False\n",
       "Name: manufacturer, Length: 1303, dtype: bool"
      ]
     },
     "execution_count": 46,
     "metadata": {},
     "output_type": "execute_result"
    }
   ],
   "source": [
    "dataset['manufacturer'].isnull()"
   ]
  },
  {
   "cell_type": "code",
   "execution_count": 48,
   "id": "5895e4b4",
   "metadata": {},
   "outputs": [
    {
     "data": {
      "text/plain": [
       "0        True\n",
       "1        True\n",
       "2        True\n",
       "3        True\n",
       "4        True\n",
       "        ...  \n",
       "1298    False\n",
       "1299    False\n",
       "1300    False\n",
       "1301    False\n",
       "1302    False\n",
       "Name: os_version, Length: 1303, dtype: bool"
      ]
     },
     "execution_count": 48,
     "metadata": {},
     "output_type": "execute_result"
    }
   ],
   "source": [
    "dataset['os_version'].isnull()"
   ]
  },
  {
   "cell_type": "code",
   "execution_count": 49,
   "id": "82ae254a",
   "metadata": {},
   "outputs": [
    {
     "data": {
      "text/plain": [
       "170"
      ]
     },
     "execution_count": 49,
     "metadata": {},
     "output_type": "execute_result"
    }
   ],
   "source": [
    "dataset['os_version'].isnull().sum()"
   ]
  },
  {
   "cell_type": "code",
   "execution_count": 50,
   "id": "8086a56e",
   "metadata": {},
   "outputs": [
    {
     "data": {
      "text/plain": [
       "manufacturer      0\n",
       "model_name        0\n",
       "category          0\n",
       "screen_size       0\n",
       "screen            0\n",
       "cpu               0\n",
       "ram               0\n",
       "storage           0\n",
       "gpu               0\n",
       "os                0\n",
       "os_version      170\n",
       "weight            0\n",
       "price_euros       0\n",
       "dtype: int64"
      ]
     },
     "execution_count": 50,
     "metadata": {},
     "output_type": "execute_result"
    }
   ],
   "source": [
    "dataset.isnull().sum()"
   ]
  },
  {
   "cell_type": "code",
   "execution_count": 55,
   "id": "1a51f25f",
   "metadata": {},
   "outputs": [
    {
     "data": {
      "text/html": [
       "<div>\n",
       "<style scoped>\n",
       "    .dataframe tbody tr th:only-of-type {\n",
       "        vertical-align: middle;\n",
       "    }\n",
       "\n",
       "    .dataframe tbody tr th {\n",
       "        vertical-align: top;\n",
       "    }\n",
       "\n",
       "    .dataframe thead th {\n",
       "        text-align: right;\n",
       "    }\n",
       "</style>\n",
       "<table border=\"1\" class=\"dataframe\">\n",
       "  <thead>\n",
       "    <tr style=\"text-align: right;\">\n",
       "      <th></th>\n",
       "      <th>manufacturer</th>\n",
       "      <th>model_name</th>\n",
       "      <th>category</th>\n",
       "      <th>screen_size</th>\n",
       "      <th>screen</th>\n",
       "      <th>cpu</th>\n",
       "      <th>ram</th>\n",
       "      <th>storage</th>\n",
       "      <th>gpu</th>\n",
       "      <th>os</th>\n",
       "      <th>os_version</th>\n",
       "      <th>weight</th>\n",
       "      <th>price_euros</th>\n",
       "    </tr>\n",
       "  </thead>\n",
       "  <tbody>\n",
       "    <tr>\n",
       "      <th>0</th>\n",
       "      <td>Apple</td>\n",
       "      <td>MacBook Pro</td>\n",
       "      <td>Ultrabook</td>\n",
       "      <td>13.3\"</td>\n",
       "      <td>IPS Panel Retina Display 2560x1600</td>\n",
       "      <td>Intel Core i5 2.3GHz</td>\n",
       "      <td>8GB</td>\n",
       "      <td>128GB SSD</td>\n",
       "      <td>Intel Iris Plus Graphics 640</td>\n",
       "      <td>macOS</td>\n",
       "      <td>NaN</td>\n",
       "      <td>1.37kg</td>\n",
       "      <td>1339,69</td>\n",
       "    </tr>\n",
       "    <tr>\n",
       "      <th>1</th>\n",
       "      <td>Apple</td>\n",
       "      <td>Macbook Air</td>\n",
       "      <td>Ultrabook</td>\n",
       "      <td>13.3\"</td>\n",
       "      <td>1440x900</td>\n",
       "      <td>Intel Core i5 1.8GHz</td>\n",
       "      <td>8GB</td>\n",
       "      <td>128GB Flash Storage</td>\n",
       "      <td>Intel HD Graphics 6000</td>\n",
       "      <td>macOS</td>\n",
       "      <td>NaN</td>\n",
       "      <td>1.34kg</td>\n",
       "      <td>898,94</td>\n",
       "    </tr>\n",
       "    <tr>\n",
       "      <th>2</th>\n",
       "      <td>HP</td>\n",
       "      <td>250 G6</td>\n",
       "      <td>Notebook</td>\n",
       "      <td>15.6\"</td>\n",
       "      <td>Full HD 1920x1080</td>\n",
       "      <td>Intel Core i5 7200U 2.5GHz</td>\n",
       "      <td>8GB</td>\n",
       "      <td>256GB SSD</td>\n",
       "      <td>Intel HD Graphics 620</td>\n",
       "      <td>No OS</td>\n",
       "      <td>NaN</td>\n",
       "      <td>1.86kg</td>\n",
       "      <td>575,00</td>\n",
       "    </tr>\n",
       "  </tbody>\n",
       "</table>\n",
       "</div>"
      ],
      "text/plain": [
       "  manufacturer   model_name   category screen_size  \\\n",
       "0        Apple  MacBook Pro  Ultrabook       13.3\"   \n",
       "1        Apple  Macbook Air  Ultrabook       13.3\"   \n",
       "2           HP       250 G6   Notebook       15.6\"   \n",
       "\n",
       "                               screen                         cpu  ram  \\\n",
       "0  IPS Panel Retina Display 2560x1600        Intel Core i5 2.3GHz  8GB   \n",
       "1                            1440x900        Intel Core i5 1.8GHz  8GB   \n",
       "2                   Full HD 1920x1080  Intel Core i5 7200U 2.5GHz  8GB   \n",
       "\n",
       "               storage                           gpu     os os_version  \\\n",
       "0            128GB SSD  Intel Iris Plus Graphics 640  macOS        NaN   \n",
       "1  128GB Flash Storage        Intel HD Graphics 6000  macOS        NaN   \n",
       "2            256GB SSD         Intel HD Graphics 620  No OS        NaN   \n",
       "\n",
       "   weight price_euros  \n",
       "0  1.37kg     1339,69  \n",
       "1  1.34kg      898,94  \n",
       "2  1.86kg      575,00  "
      ]
     },
     "execution_count": 55,
     "metadata": {},
     "output_type": "execute_result"
    }
   ],
   "source": [
    "dataset[dataset['os_version'].isnull()].head(3)"
   ]
  },
  {
   "cell_type": "code",
   "execution_count": 57,
   "id": "ac4fee04",
   "metadata": {},
   "outputs": [],
   "source": [
    "dataset['os_version'] = dataset['os_version'].fillna('version_unknown')"
   ]
  },
  {
   "cell_type": "code",
   "execution_count": 58,
   "id": "0fedcf82",
   "metadata": {},
   "outputs": [
    {
     "data": {
      "text/plain": [
       "0       version_unknown\n",
       "1       version_unknown\n",
       "2       version_unknown\n",
       "3       version_unknown\n",
       "4       version_unknown\n",
       "             ...       \n",
       "1298                 10\n",
       "1299                 10\n",
       "1300                 10\n",
       "1301                 10\n",
       "1302                 10\n",
       "Name: os_version, Length: 1303, dtype: object"
      ]
     },
     "execution_count": 58,
     "metadata": {},
     "output_type": "execute_result"
    }
   ],
   "source": [
    "dataset['os_version'] "
   ]
  },
  {
   "cell_type": "code",
   "execution_count": 60,
   "id": "199ac902",
   "metadata": {},
   "outputs": [
    {
     "data": {
      "text/plain": [
       "manufacturer    0\n",
       "model_name      0\n",
       "category        0\n",
       "screen_size     0\n",
       "screen          0\n",
       "cpu             0\n",
       "ram             0\n",
       "storage         0\n",
       "gpu             0\n",
       "os              0\n",
       "os_version      0\n",
       "weight          0\n",
       "price_euros     0\n",
       "dtype: int64"
      ]
     },
     "execution_count": 60,
     "metadata": {},
     "output_type": "execute_result"
    }
   ],
   "source": [
    "dataset.isnull().sum()"
   ]
  },
  {
   "cell_type": "markdown",
   "id": "5c4dc63e",
   "metadata": {},
   "source": [
    "# Clean the RAM column i.e. remove GBs from each entry\n"
   ]
  },
  {
   "cell_type": "markdown",
   "id": "af5377c0",
   "metadata": {},
   "source": [
    "# Clean the screen_size column i.e. remove inches from entry"
   ]
  },
  {
   "cell_type": "code",
   "execution_count": 61,
   "id": "44fbeb52",
   "metadata": {},
   "outputs": [
    {
     "data": {
      "text/plain": [
       "Index(['manufacturer', 'model_name', 'category', 'screen_size', 'screen',\n",
       "       'cpu', 'ram', 'storage', 'gpu', 'os', 'os_version', 'weight',\n",
       "       'price_euros'],\n",
       "      dtype='object')"
      ]
     },
     "execution_count": 61,
     "metadata": {},
     "output_type": "execute_result"
    }
   ],
   "source": [
    "dataset.columns"
   ]
  },
  {
   "cell_type": "code",
   "execution_count": 71,
   "id": "6ac87758",
   "metadata": {},
   "outputs": [],
   "source": [
    "dataset['ram'] = dataset['ram'].str.replace('GB', '').astype(int)"
   ]
  },
  {
   "cell_type": "code",
   "execution_count": 72,
   "id": "edc945ec",
   "metadata": {},
   "outputs": [
    {
     "data": {
      "text/plain": [
       "0        8\n",
       "1        8\n",
       "2        8\n",
       "3       16\n",
       "4        8\n",
       "        ..\n",
       "1298     4\n",
       "1299    16\n",
       "1300     2\n",
       "1301     6\n",
       "1302     4\n",
       "Name: ram, Length: 1303, dtype: int32"
      ]
     },
     "execution_count": 72,
     "metadata": {},
     "output_type": "execute_result"
    }
   ],
   "source": [
    "dataset['ram']"
   ]
  },
  {
   "cell_type": "code",
   "execution_count": 77,
   "id": "a2cb096a",
   "metadata": {},
   "outputs": [],
   "source": [
    "dataset['screen_size'] = dataset['screen_size'].str.replace('\"', '').astype(float)"
   ]
  },
  {
   "cell_type": "code",
   "execution_count": 78,
   "id": "64e7b81b",
   "metadata": {},
   "outputs": [
    {
     "data": {
      "text/plain": [
       "0       13.3\n",
       "1       13.3\n",
       "2       15.6\n",
       "3       15.4\n",
       "4       13.3\n",
       "        ... \n",
       "1298    14.0\n",
       "1299    13.3\n",
       "1300    14.0\n",
       "1301    15.6\n",
       "1302    15.6\n",
       "Name: screen_size, Length: 1303, dtype: float64"
      ]
     },
     "execution_count": 78,
     "metadata": {},
     "output_type": "execute_result"
    }
   ],
   "source": [
    "dataset['screen_size']"
   ]
  },
  {
   "cell_type": "code",
   "execution_count": 80,
   "id": "a5ecb3fb",
   "metadata": {},
   "outputs": [
    {
     "data": {
      "text/plain": [
       "8     619\n",
       "4     375\n",
       "16    200\n",
       "6      41\n",
       "12     25\n",
       "2      22\n",
       "32     17\n",
       "24      3\n",
       "64      1\n",
       "Name: ram, dtype: int64"
      ]
     },
     "execution_count": 80,
     "metadata": {},
     "output_type": "execute_result"
    }
   ],
   "source": [
    "dataset['ram'].value_counts()"
   ]
  },
  {
   "cell_type": "code",
   "execution_count": 81,
   "id": "312e25e3",
   "metadata": {},
   "outputs": [
    {
     "data": {
      "text/plain": [
       "15.6    665\n",
       "14.0    197\n",
       "13.3    164\n",
       "17.3    164\n",
       "12.5     39\n",
       "11.6     33\n",
       "12.0      6\n",
       "13.5      6\n",
       "13.9      6\n",
       "12.3      5\n",
       "10.1      4\n",
       "15.4      4\n",
       "15.0      4\n",
       "13.0      2\n",
       "18.4      1\n",
       "17.0      1\n",
       "14.1      1\n",
       "11.3      1\n",
       "Name: screen_size, dtype: int64"
      ]
     },
     "execution_count": 81,
     "metadata": {},
     "output_type": "execute_result"
    }
   ],
   "source": [
    "dataset['screen_size'].value_counts()"
   ]
  },
  {
   "cell_type": "code",
   "execution_count": 84,
   "id": "c1ef5d5d",
   "metadata": {},
   "outputs": [
    {
     "data": {
      "text/plain": [
       "Index(['manufacturer', 'model_name', 'category', 'screen_size', 'screen',\n",
       "       'cpu', 'ram', 'storage', 'gpu', 'os', 'os_version', 'weight',\n",
       "       'price_euros'],\n",
       "      dtype='object')"
      ]
     },
     "execution_count": 84,
     "metadata": {},
     "output_type": "execute_result"
    }
   ],
   "source": [
    "dataset.columns"
   ]
  },
  {
   "cell_type": "code",
   "execution_count": 88,
   "id": "47ad4990",
   "metadata": {},
   "outputs": [],
   "source": [
    "dataset.rename({'screen_size':'screen_size_inches', 'ram':'ram_gb'}, axis=1, inplace=True)"
   ]
  },
  {
   "cell_type": "code",
   "execution_count": 90,
   "id": "ba7e67cf",
   "metadata": {},
   "outputs": [
    {
     "data": {
      "text/plain": [
       "Index(['manufacturer', 'model_name', 'category', 'screen_size_inches',\n",
       "       'screen', 'cpu', 'ram_gb', 'storage', 'gpu', 'os', 'os_version',\n",
       "       'weight', 'price_euros'],\n",
       "      dtype='object')"
      ]
     },
     "execution_count": 90,
     "metadata": {},
     "output_type": "execute_result"
    }
   ],
   "source": [
    "dataset.columns"
   ]
  },
  {
   "cell_type": "code",
   "execution_count": 91,
   "id": "33fb07e0",
   "metadata": {},
   "outputs": [],
   "source": [
    "name = 'Techma Zone Danial fastTrack'"
   ]
  },
  {
   "cell_type": "code",
   "execution_count": 92,
   "id": "052db1b4",
   "metadata": {},
   "outputs": [
    {
     "data": {
      "text/plain": [
       "['Techma', 'Zone', 'Danial', 'fastTrack']"
      ]
     },
     "execution_count": 92,
     "metadata": {},
     "output_type": "execute_result"
    }
   ],
   "source": [
    "name.split()"
   ]
  },
  {
   "cell_type": "markdown",
   "id": "908bb3cb",
   "metadata": {},
   "source": [
    "# Find out the number of GPU manufactured by each manufacturer"
   ]
  },
  {
   "cell_type": "code",
   "execution_count": 93,
   "id": "c3c5c511",
   "metadata": {},
   "outputs": [
    {
     "data": {
      "text/plain": [
       "0       Intel Iris Plus Graphics 640\n",
       "1             Intel HD Graphics 6000\n",
       "2              Intel HD Graphics 620\n",
       "3                 AMD Radeon Pro 455\n",
       "4       Intel Iris Plus Graphics 650\n",
       "                    ...             \n",
       "1298           Intel HD Graphics 520\n",
       "1299           Intel HD Graphics 520\n",
       "1300               Intel HD Graphics\n",
       "1301              AMD Radeon R5 M330\n",
       "1302               Intel HD Graphics\n",
       "Name: gpu, Length: 1303, dtype: object"
      ]
     },
     "execution_count": 93,
     "metadata": {},
     "output_type": "execute_result"
    }
   ],
   "source": [
    "dataset['gpu']"
   ]
  },
  {
   "cell_type": "code",
   "execution_count": 108,
   "id": "abf1ae00",
   "metadata": {},
   "outputs": [],
   "source": [
    "dataset['gpu_company'] = dataset['gpu'].str.split(n=1, expand=True)[0]"
   ]
  },
  {
   "cell_type": "code",
   "execution_count": 109,
   "id": "76e0f24d",
   "metadata": {},
   "outputs": [],
   "source": [
    "dataset['gpu'] = dataset['gpu'].str.split(n=1, expand=True)[1]"
   ]
  },
  {
   "cell_type": "code",
   "execution_count": 112,
   "id": "599d398c",
   "metadata": {},
   "outputs": [],
   "source": [
    "dataset['cpu_company'] = dataset['cpu'].str.split(n=1, expand=True)[0]"
   ]
  },
  {
   "cell_type": "code",
   "execution_count": 113,
   "id": "31509386",
   "metadata": {},
   "outputs": [],
   "source": [
    "dataset['cpu'] = dataset['cpu'].str.split(n=1, expand=True)[1]"
   ]
  },
  {
   "cell_type": "code",
   "execution_count": 114,
   "id": "564f9116",
   "metadata": {},
   "outputs": [
    {
     "data": {
      "text/html": [
       "<div>\n",
       "<style scoped>\n",
       "    .dataframe tbody tr th:only-of-type {\n",
       "        vertical-align: middle;\n",
       "    }\n",
       "\n",
       "    .dataframe tbody tr th {\n",
       "        vertical-align: top;\n",
       "    }\n",
       "\n",
       "    .dataframe thead th {\n",
       "        text-align: right;\n",
       "    }\n",
       "</style>\n",
       "<table border=\"1\" class=\"dataframe\">\n",
       "  <thead>\n",
       "    <tr style=\"text-align: right;\">\n",
       "      <th></th>\n",
       "      <th>manufacturer</th>\n",
       "      <th>model_name</th>\n",
       "      <th>category</th>\n",
       "      <th>screen_size_inches</th>\n",
       "      <th>screen</th>\n",
       "      <th>cpu</th>\n",
       "      <th>ram_gb</th>\n",
       "      <th>storage</th>\n",
       "      <th>gpu</th>\n",
       "      <th>os</th>\n",
       "      <th>os_version</th>\n",
       "      <th>weight</th>\n",
       "      <th>price_euros</th>\n",
       "      <th>gpucompany</th>\n",
       "      <th>gpu_company</th>\n",
       "      <th>cpu_company</th>\n",
       "    </tr>\n",
       "  </thead>\n",
       "  <tbody>\n",
       "    <tr>\n",
       "      <th>0</th>\n",
       "      <td>Apple</td>\n",
       "      <td>MacBook Pro</td>\n",
       "      <td>Ultrabook</td>\n",
       "      <td>13.3</td>\n",
       "      <td>IPS Panel Retina Display 2560x1600</td>\n",
       "      <td>Core i5 2.3GHz</td>\n",
       "      <td>8</td>\n",
       "      <td>128GB SSD</td>\n",
       "      <td>Plus Graphics 640</td>\n",
       "      <td>macOS</td>\n",
       "      <td>version_unknown</td>\n",
       "      <td>1.37kg</td>\n",
       "      <td>1339,69</td>\n",
       "      <td>Intel</td>\n",
       "      <td>Iris</td>\n",
       "      <td>Intel</td>\n",
       "    </tr>\n",
       "    <tr>\n",
       "      <th>1</th>\n",
       "      <td>Apple</td>\n",
       "      <td>Macbook Air</td>\n",
       "      <td>Ultrabook</td>\n",
       "      <td>13.3</td>\n",
       "      <td>1440x900</td>\n",
       "      <td>Core i5 1.8GHz</td>\n",
       "      <td>8</td>\n",
       "      <td>128GB Flash Storage</td>\n",
       "      <td>Graphics 6000</td>\n",
       "      <td>macOS</td>\n",
       "      <td>version_unknown</td>\n",
       "      <td>1.34kg</td>\n",
       "      <td>898,94</td>\n",
       "      <td>Intel</td>\n",
       "      <td>HD</td>\n",
       "      <td>Intel</td>\n",
       "    </tr>\n",
       "    <tr>\n",
       "      <th>2</th>\n",
       "      <td>HP</td>\n",
       "      <td>250 G6</td>\n",
       "      <td>Notebook</td>\n",
       "      <td>15.6</td>\n",
       "      <td>Full HD 1920x1080</td>\n",
       "      <td>Core i5 7200U 2.5GHz</td>\n",
       "      <td>8</td>\n",
       "      <td>256GB SSD</td>\n",
       "      <td>Graphics 620</td>\n",
       "      <td>No OS</td>\n",
       "      <td>version_unknown</td>\n",
       "      <td>1.86kg</td>\n",
       "      <td>575,00</td>\n",
       "      <td>Intel</td>\n",
       "      <td>HD</td>\n",
       "      <td>Intel</td>\n",
       "    </tr>\n",
       "  </tbody>\n",
       "</table>\n",
       "</div>"
      ],
      "text/plain": [
       "  manufacturer   model_name   category  screen_size_inches  \\\n",
       "0        Apple  MacBook Pro  Ultrabook                13.3   \n",
       "1        Apple  Macbook Air  Ultrabook                13.3   \n",
       "2           HP       250 G6   Notebook                15.6   \n",
       "\n",
       "                               screen                   cpu  ram_gb  \\\n",
       "0  IPS Panel Retina Display 2560x1600        Core i5 2.3GHz       8   \n",
       "1                            1440x900        Core i5 1.8GHz       8   \n",
       "2                   Full HD 1920x1080  Core i5 7200U 2.5GHz       8   \n",
       "\n",
       "               storage                gpu     os       os_version  weight  \\\n",
       "0            128GB SSD  Plus Graphics 640  macOS  version_unknown  1.37kg   \n",
       "1  128GB Flash Storage      Graphics 6000  macOS  version_unknown  1.34kg   \n",
       "2            256GB SSD       Graphics 620  No OS  version_unknown  1.86kg   \n",
       "\n",
       "  price_euros gpucompany gpu_company cpu_company  \n",
       "0     1339,69      Intel        Iris       Intel  \n",
       "1      898,94      Intel          HD       Intel  \n",
       "2      575,00      Intel          HD       Intel  "
      ]
     },
     "execution_count": 114,
     "metadata": {},
     "output_type": "execute_result"
    }
   ],
   "source": [
    "dataset.head(3)"
   ]
  },
  {
   "cell_type": "code",
   "execution_count": null,
   "id": "9a544707",
   "metadata": {},
   "outputs": [],
   "source": []
  }
 ],
 "metadata": {
  "kernelspec": {
   "display_name": "Python 3 (ipykernel)",
   "language": "python",
   "name": "python3"
  },
  "language_info": {
   "codemirror_mode": {
    "name": "ipython",
    "version": 3
   },
   "file_extension": ".py",
   "mimetype": "text/x-python",
   "name": "python",
   "nbconvert_exporter": "python",
   "pygments_lexer": "ipython3",
   "version": "3.9.7"
  }
 },
 "nbformat": 4,
 "nbformat_minor": 5
}
