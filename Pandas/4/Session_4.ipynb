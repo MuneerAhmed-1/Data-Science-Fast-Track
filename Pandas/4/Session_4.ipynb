{
 "cells": [
  {
   "cell_type": "markdown",
   "id": "322013e5",
   "metadata": {},
   "source": [
    "# Session_4"
   ]
  },
  {
   "cell_type": "code",
   "execution_count": 1,
   "id": "cae75b6f",
   "metadata": {},
   "outputs": [],
   "source": [
    "import pandas as pd"
   ]
  },
  {
   "cell_type": "code",
   "execution_count": 2,
   "id": "613e52cf",
   "metadata": {},
   "outputs": [],
   "source": [
    "dataset = pd.read_csv('hacker.csv')"
   ]
  },
  {
   "cell_type": "code",
   "execution_count": 3,
   "id": "339a7caa",
   "metadata": {},
   "outputs": [
    {
     "data": {
      "text/html": [
       "<div>\n",
       "<style scoped>\n",
       "    .dataframe tbody tr th:only-of-type {\n",
       "        vertical-align: middle;\n",
       "    }\n",
       "\n",
       "    .dataframe tbody tr th {\n",
       "        vertical-align: top;\n",
       "    }\n",
       "\n",
       "    .dataframe thead th {\n",
       "        text-align: right;\n",
       "    }\n",
       "</style>\n",
       "<table border=\"1\" class=\"dataframe\">\n",
       "  <thead>\n",
       "    <tr style=\"text-align: right;\">\n",
       "      <th></th>\n",
       "      <th>id</th>\n",
       "      <th>title</th>\n",
       "      <th>url</th>\n",
       "      <th>num_points</th>\n",
       "      <th>num_comments</th>\n",
       "      <th>author</th>\n",
       "      <th>created_at</th>\n",
       "    </tr>\n",
       "  </thead>\n",
       "  <tbody>\n",
       "    <tr>\n",
       "      <th>0</th>\n",
       "      <td>12224879</td>\n",
       "      <td>Interactive Dynamic Video</td>\n",
       "      <td>http://www.interactivedynamicvideo.com/</td>\n",
       "      <td>386</td>\n",
       "      <td>52</td>\n",
       "      <td>ne0phyte</td>\n",
       "      <td>8/4/2016 11:52</td>\n",
       "    </tr>\n",
       "    <tr>\n",
       "      <th>1</th>\n",
       "      <td>10975351</td>\n",
       "      <td>How to Use Open Source and Shut the Fuck Up at...</td>\n",
       "      <td>http://hueniverse.com/2016/01/26/how-to-use-op...</td>\n",
       "      <td>39</td>\n",
       "      <td>10</td>\n",
       "      <td>josep2</td>\n",
       "      <td>1/26/2016 19:30</td>\n",
       "    </tr>\n",
       "    <tr>\n",
       "      <th>2</th>\n",
       "      <td>11964716</td>\n",
       "      <td>Florida DJs May Face Felony for April Fools' W...</td>\n",
       "      <td>http://www.thewire.com/entertainment/2013/04/f...</td>\n",
       "      <td>2</td>\n",
       "      <td>1</td>\n",
       "      <td>vezycash</td>\n",
       "      <td>6/23/2016 22:20</td>\n",
       "    </tr>\n",
       "  </tbody>\n",
       "</table>\n",
       "</div>"
      ],
      "text/plain": [
       "         id                                              title  \\\n",
       "0  12224879                          Interactive Dynamic Video   \n",
       "1  10975351  How to Use Open Source and Shut the Fuck Up at...   \n",
       "2  11964716  Florida DJs May Face Felony for April Fools' W...   \n",
       "\n",
       "                                                 url  num_points  \\\n",
       "0            http://www.interactivedynamicvideo.com/         386   \n",
       "1  http://hueniverse.com/2016/01/26/how-to-use-op...          39   \n",
       "2  http://www.thewire.com/entertainment/2013/04/f...           2   \n",
       "\n",
       "   num_comments    author       created_at  \n",
       "0            52  ne0phyte   8/4/2016 11:52  \n",
       "1            10    josep2  1/26/2016 19:30  \n",
       "2             1  vezycash  6/23/2016 22:20  "
      ]
     },
     "execution_count": 3,
     "metadata": {},
     "output_type": "execute_result"
    }
   ],
   "source": [
    "dataset.head(3)"
   ]
  },
  {
   "cell_type": "code",
   "execution_count": 4,
   "id": "1a826829",
   "metadata": {},
   "outputs": [
    {
     "data": {
      "text/plain": [
       "0          8/4/2016 11:52\n",
       "1         1/26/2016 19:30\n",
       "2         6/23/2016 22:20\n",
       "3          6/17/2016 0:01\n",
       "4          9/30/2015 4:12\n",
       "               ...       \n",
       "20095      8/29/2016 2:22\n",
       "20096     10/6/2015 14:57\n",
       "20097       1/2/2016 0:49\n",
       "20098    12/15/2015 19:32\n",
       "20099      5/12/2016 1:43\n",
       "Name: created_at, Length: 20100, dtype: object"
      ]
     },
     "execution_count": 4,
     "metadata": {},
     "output_type": "execute_result"
    }
   ],
   "source": [
    "dataset['created_at']"
   ]
  },
  {
   "cell_type": "code",
   "execution_count": 5,
   "id": "8ab7c77a",
   "metadata": {},
   "outputs": [
    {
     "data": {
      "text/plain": [
       "pandas.core.series.Series"
      ]
     },
     "execution_count": 5,
     "metadata": {},
     "output_type": "execute_result"
    }
   ],
   "source": [
    "type(dataset['created_at'])"
   ]
  },
  {
   "cell_type": "markdown",
   "id": "02610cdd",
   "metadata": {},
   "source": [
    "# to_datetime()"
   ]
  },
  {
   "cell_type": "code",
   "execution_count": 6,
   "id": "fe63d8bb",
   "metadata": {},
   "outputs": [],
   "source": [
    "dataset['created_at'] = pd.to_datetime(dataset['created_at'])"
   ]
  },
  {
   "cell_type": "code",
   "execution_count": 7,
   "id": "2997d558",
   "metadata": {},
   "outputs": [
    {
     "data": {
      "text/html": [
       "<div>\n",
       "<style scoped>\n",
       "    .dataframe tbody tr th:only-of-type {\n",
       "        vertical-align: middle;\n",
       "    }\n",
       "\n",
       "    .dataframe tbody tr th {\n",
       "        vertical-align: top;\n",
       "    }\n",
       "\n",
       "    .dataframe thead th {\n",
       "        text-align: right;\n",
       "    }\n",
       "</style>\n",
       "<table border=\"1\" class=\"dataframe\">\n",
       "  <thead>\n",
       "    <tr style=\"text-align: right;\">\n",
       "      <th></th>\n",
       "      <th>id</th>\n",
       "      <th>title</th>\n",
       "      <th>url</th>\n",
       "      <th>num_points</th>\n",
       "      <th>num_comments</th>\n",
       "      <th>author</th>\n",
       "      <th>created_at</th>\n",
       "    </tr>\n",
       "  </thead>\n",
       "  <tbody>\n",
       "    <tr>\n",
       "      <th>0</th>\n",
       "      <td>12224879</td>\n",
       "      <td>Interactive Dynamic Video</td>\n",
       "      <td>http://www.interactivedynamicvideo.com/</td>\n",
       "      <td>386</td>\n",
       "      <td>52</td>\n",
       "      <td>ne0phyte</td>\n",
       "      <td>2016-08-04 11:52:00</td>\n",
       "    </tr>\n",
       "    <tr>\n",
       "      <th>1</th>\n",
       "      <td>10975351</td>\n",
       "      <td>How to Use Open Source and Shut the Fuck Up at...</td>\n",
       "      <td>http://hueniverse.com/2016/01/26/how-to-use-op...</td>\n",
       "      <td>39</td>\n",
       "      <td>10</td>\n",
       "      <td>josep2</td>\n",
       "      <td>2016-01-26 19:30:00</td>\n",
       "    </tr>\n",
       "    <tr>\n",
       "      <th>2</th>\n",
       "      <td>11964716</td>\n",
       "      <td>Florida DJs May Face Felony for April Fools' W...</td>\n",
       "      <td>http://www.thewire.com/entertainment/2013/04/f...</td>\n",
       "      <td>2</td>\n",
       "      <td>1</td>\n",
       "      <td>vezycash</td>\n",
       "      <td>2016-06-23 22:20:00</td>\n",
       "    </tr>\n",
       "  </tbody>\n",
       "</table>\n",
       "</div>"
      ],
      "text/plain": [
       "         id                                              title  \\\n",
       "0  12224879                          Interactive Dynamic Video   \n",
       "1  10975351  How to Use Open Source and Shut the Fuck Up at...   \n",
       "2  11964716  Florida DJs May Face Felony for April Fools' W...   \n",
       "\n",
       "                                                 url  num_points  \\\n",
       "0            http://www.interactivedynamicvideo.com/         386   \n",
       "1  http://hueniverse.com/2016/01/26/how-to-use-op...          39   \n",
       "2  http://www.thewire.com/entertainment/2013/04/f...           2   \n",
       "\n",
       "   num_comments    author          created_at  \n",
       "0            52  ne0phyte 2016-08-04 11:52:00  \n",
       "1            10    josep2 2016-01-26 19:30:00  \n",
       "2             1  vezycash 2016-06-23 22:20:00  "
      ]
     },
     "execution_count": 7,
     "metadata": {},
     "output_type": "execute_result"
    }
   ],
   "source": [
    "dataset.head(3)"
   ]
  },
  {
   "cell_type": "markdown",
   "id": "f2a09f2f",
   "metadata": {},
   "source": [
    "# Skill Test - 1"
   ]
  },
  {
   "cell_type": "markdown",
   "id": "31adee6c",
   "metadata": {},
   "source": [
    "Extract hours from created_at column"
   ]
  },
  {
   "cell_type": "code",
   "execution_count": 8,
   "id": "b47d3f13",
   "metadata": {},
   "outputs": [
    {
     "data": {
      "text/plain": [
       "0       2016-08-04 11:52:00\n",
       "1       2016-01-26 19:30:00\n",
       "2       2016-06-23 22:20:00\n",
       "3       2016-06-17 00:01:00\n",
       "4       2015-09-30 04:12:00\n",
       "                ...        \n",
       "20095   2016-08-29 02:22:00\n",
       "20096   2015-10-06 14:57:00\n",
       "20097   2016-01-02 00:49:00\n",
       "20098   2015-12-15 19:32:00\n",
       "20099   2016-05-12 01:43:00\n",
       "Name: created_at, Length: 20100, dtype: datetime64[ns]"
      ]
     },
     "execution_count": 8,
     "metadata": {},
     "output_type": "execute_result"
    }
   ],
   "source": [
    "dataset['created_at']"
   ]
  },
  {
   "cell_type": "code",
   "execution_count": 9,
   "id": "280a19ac",
   "metadata": {},
   "outputs": [],
   "source": [
    "dataset['created_at_hour'] = dataset['created_at'].dt.hour"
   ]
  },
  {
   "cell_type": "code",
   "execution_count": 10,
   "id": "903433bd",
   "metadata": {},
   "outputs": [
    {
     "data": {
      "text/plain": [
       "0        11\n",
       "1        19\n",
       "2        22\n",
       "3         0\n",
       "4         4\n",
       "         ..\n",
       "20095     2\n",
       "20096    14\n",
       "20097     0\n",
       "20098    19\n",
       "20099     1\n",
       "Name: created_at_hour, Length: 20100, dtype: int64"
      ]
     },
     "execution_count": 10,
     "metadata": {},
     "output_type": "execute_result"
    }
   ],
   "source": [
    "dataset['created_at_hour']"
   ]
  },
  {
   "cell_type": "code",
   "execution_count": 11,
   "id": "8b82bc85",
   "metadata": {},
   "outputs": [],
   "source": [
    "dataset['title'] = dataset['title'].str.lower()"
   ]
  },
  {
   "cell_type": "code",
   "execution_count": 12,
   "id": "9a465a29",
   "metadata": {},
   "outputs": [
    {
     "data": {
      "text/plain": [
       "0                                interactive dynamic video\n",
       "1        how to use open source and shut the fuck up at...\n",
       "2        florida djs may face felony for april fools' w...\n",
       "3             technology ventures: from idea to enterprise\n",
       "4        note by note: the making of steinway l1037 (2007)\n",
       "                               ...                        \n",
       "20095    how purism avoids intels active management tec...\n",
       "20096            yc application translated and broken down\n",
       "20097    microkernels are slow and elvis didn't do no d...\n",
       "20098                        how product hunt really works\n",
       "20099    robobrowser: your friendly neighborhood web sc...\n",
       "Name: title, Length: 20100, dtype: object"
      ]
     },
     "execution_count": 12,
     "metadata": {},
     "output_type": "execute_result"
    }
   ],
   "source": [
    "dataset['title']"
   ]
  },
  {
   "cell_type": "markdown",
   "id": "7c9bab04",
   "metadata": {},
   "source": [
    "# Skill Test - 2\n",
    "- Filter records for Ask HN"
   ]
  },
  {
   "cell_type": "code",
   "execution_count": 13,
   "id": "817669eb",
   "metadata": {},
   "outputs": [],
   "source": [
    "ask = dataset['title'].str.startswith('ask hn')"
   ]
  },
  {
   "cell_type": "code",
   "execution_count": 14,
   "id": "0eae976d",
   "metadata": {},
   "outputs": [
    {
     "data": {
      "text/html": [
       "<div>\n",
       "<style scoped>\n",
       "    .dataframe tbody tr th:only-of-type {\n",
       "        vertical-align: middle;\n",
       "    }\n",
       "\n",
       "    .dataframe tbody tr th {\n",
       "        vertical-align: top;\n",
       "    }\n",
       "\n",
       "    .dataframe thead th {\n",
       "        text-align: right;\n",
       "    }\n",
       "</style>\n",
       "<table border=\"1\" class=\"dataframe\">\n",
       "  <thead>\n",
       "    <tr style=\"text-align: right;\">\n",
       "      <th></th>\n",
       "      <th>id</th>\n",
       "      <th>title</th>\n",
       "      <th>url</th>\n",
       "      <th>num_points</th>\n",
       "      <th>num_comments</th>\n",
       "      <th>author</th>\n",
       "      <th>created_at</th>\n",
       "      <th>created_at_hour</th>\n",
       "    </tr>\n",
       "  </thead>\n",
       "  <tbody>\n",
       "    <tr>\n",
       "      <th>7</th>\n",
       "      <td>12296411</td>\n",
       "      <td>ask hn: how to improve my personal website?</td>\n",
       "      <td>NaN</td>\n",
       "      <td>2</td>\n",
       "      <td>6</td>\n",
       "      <td>ahmedbaracat</td>\n",
       "      <td>2016-08-16 09:55:00</td>\n",
       "      <td>9</td>\n",
       "    </tr>\n",
       "    <tr>\n",
       "      <th>17</th>\n",
       "      <td>10610020</td>\n",
       "      <td>ask hn: am i the only one outraged by twitter ...</td>\n",
       "      <td>NaN</td>\n",
       "      <td>28</td>\n",
       "      <td>29</td>\n",
       "      <td>tkfx</td>\n",
       "      <td>2015-11-22 13:43:00</td>\n",
       "      <td>13</td>\n",
       "    </tr>\n",
       "    <tr>\n",
       "      <th>22</th>\n",
       "      <td>11610310</td>\n",
       "      <td>ask hn: aby recent changes to css that broke m...</td>\n",
       "      <td>NaN</td>\n",
       "      <td>1</td>\n",
       "      <td>1</td>\n",
       "      <td>polskibus</td>\n",
       "      <td>2016-05-02 10:14:00</td>\n",
       "      <td>10</td>\n",
       "    </tr>\n",
       "    <tr>\n",
       "      <th>30</th>\n",
       "      <td>12210105</td>\n",
       "      <td>ask hn: looking for employee #3 how do i do it?</td>\n",
       "      <td>NaN</td>\n",
       "      <td>1</td>\n",
       "      <td>3</td>\n",
       "      <td>sph130</td>\n",
       "      <td>2016-08-02 14:20:00</td>\n",
       "      <td>14</td>\n",
       "    </tr>\n",
       "    <tr>\n",
       "      <th>31</th>\n",
       "      <td>10394168</td>\n",
       "      <td>ask hn: someone offered to buy my browser exte...</td>\n",
       "      <td>NaN</td>\n",
       "      <td>28</td>\n",
       "      <td>17</td>\n",
       "      <td>roykolak</td>\n",
       "      <td>2015-10-15 16:38:00</td>\n",
       "      <td>16</td>\n",
       "    </tr>\n",
       "    <tr>\n",
       "      <th>...</th>\n",
       "      <td>...</td>\n",
       "      <td>...</td>\n",
       "      <td>...</td>\n",
       "      <td>...</td>\n",
       "      <td>...</td>\n",
       "      <td>...</td>\n",
       "      <td>...</td>\n",
       "      <td>...</td>\n",
       "    </tr>\n",
       "    <tr>\n",
       "      <th>20039</th>\n",
       "      <td>10994357</td>\n",
       "      <td>ask hn: is it feasible to port apple's swift t...</td>\n",
       "      <td>NaN</td>\n",
       "      <td>3</td>\n",
       "      <td>17</td>\n",
       "      <td>schappim</td>\n",
       "      <td>2016-01-29 09:42:00</td>\n",
       "      <td>9</td>\n",
       "    </tr>\n",
       "    <tr>\n",
       "      <th>20042</th>\n",
       "      <td>12241954</td>\n",
       "      <td>ask hn: what to do when a developer goes dark?</td>\n",
       "      <td>NaN</td>\n",
       "      <td>3</td>\n",
       "      <td>3</td>\n",
       "      <td>bittysdad</td>\n",
       "      <td>2016-08-07 12:58:00</td>\n",
       "      <td>12</td>\n",
       "    </tr>\n",
       "    <tr>\n",
       "      <th>20045</th>\n",
       "      <td>12029526</td>\n",
       "      <td>ask hn: killer app for ar?</td>\n",
       "      <td>NaN</td>\n",
       "      <td>2</td>\n",
       "      <td>2</td>\n",
       "      <td>davidiach</td>\n",
       "      <td>2016-07-04 08:50:00</td>\n",
       "      <td>8</td>\n",
       "    </tr>\n",
       "    <tr>\n",
       "      <th>20048</th>\n",
       "      <td>11227969</td>\n",
       "      <td>ask hn: how do you balance a serious relations...</td>\n",
       "      <td>NaN</td>\n",
       "      <td>10</td>\n",
       "      <td>4</td>\n",
       "      <td>audace</td>\n",
       "      <td>2016-03-05 01:25:00</td>\n",
       "      <td>1</td>\n",
       "    </tr>\n",
       "    <tr>\n",
       "      <th>20061</th>\n",
       "      <td>11743946</td>\n",
       "      <td>ask hn: why are papers still published as pdfs?</td>\n",
       "      <td>NaN</td>\n",
       "      <td>4</td>\n",
       "      <td>2</td>\n",
       "      <td>adius</td>\n",
       "      <td>2016-05-21 09:22:00</td>\n",
       "      <td>9</td>\n",
       "    </tr>\n",
       "  </tbody>\n",
       "</table>\n",
       "<p>1744 rows × 8 columns</p>\n",
       "</div>"
      ],
      "text/plain": [
       "             id                                              title  url  \\\n",
       "7      12296411        ask hn: how to improve my personal website?  NaN   \n",
       "17     10610020  ask hn: am i the only one outraged by twitter ...  NaN   \n",
       "22     11610310  ask hn: aby recent changes to css that broke m...  NaN   \n",
       "30     12210105    ask hn: looking for employee #3 how do i do it?  NaN   \n",
       "31     10394168  ask hn: someone offered to buy my browser exte...  NaN   \n",
       "...         ...                                                ...  ...   \n",
       "20039  10994357  ask hn: is it feasible to port apple's swift t...  NaN   \n",
       "20042  12241954     ask hn: what to do when a developer goes dark?  NaN   \n",
       "20045  12029526                         ask hn: killer app for ar?  NaN   \n",
       "20048  11227969  ask hn: how do you balance a serious relations...  NaN   \n",
       "20061  11743946    ask hn: why are papers still published as pdfs?  NaN   \n",
       "\n",
       "       num_points  num_comments        author          created_at  \\\n",
       "7               2             6  ahmedbaracat 2016-08-16 09:55:00   \n",
       "17             28            29          tkfx 2015-11-22 13:43:00   \n",
       "22              1             1     polskibus 2016-05-02 10:14:00   \n",
       "30              1             3        sph130 2016-08-02 14:20:00   \n",
       "31             28            17      roykolak 2015-10-15 16:38:00   \n",
       "...           ...           ...           ...                 ...   \n",
       "20039           3            17      schappim 2016-01-29 09:42:00   \n",
       "20042           3             3     bittysdad 2016-08-07 12:58:00   \n",
       "20045           2             2     davidiach 2016-07-04 08:50:00   \n",
       "20048          10             4        audace 2016-03-05 01:25:00   \n",
       "20061           4             2         adius 2016-05-21 09:22:00   \n",
       "\n",
       "       created_at_hour  \n",
       "7                    9  \n",
       "17                  13  \n",
       "22                  10  \n",
       "30                  14  \n",
       "31                  16  \n",
       "...                ...  \n",
       "20039                9  \n",
       "20042               12  \n",
       "20045                8  \n",
       "20048                1  \n",
       "20061                9  \n",
       "\n",
       "[1744 rows x 8 columns]"
      ]
     },
     "execution_count": 14,
     "metadata": {},
     "output_type": "execute_result"
    }
   ],
   "source": [
    "dataset[ask]"
   ]
  },
  {
   "cell_type": "markdown",
   "id": "7995f2af",
   "metadata": {},
   "source": [
    "# Skill Test - 3\n",
    "- Filter records show hn"
   ]
  },
  {
   "cell_type": "code",
   "execution_count": 15,
   "id": "a0649faa",
   "metadata": {},
   "outputs": [],
   "source": [
    "show = dataset['title'].str.startswith('show hn')"
   ]
  },
  {
   "cell_type": "code",
   "execution_count": 16,
   "id": "9445ab4a",
   "metadata": {},
   "outputs": [
    {
     "data": {
      "text/html": [
       "<div>\n",
       "<style scoped>\n",
       "    .dataframe tbody tr th:only-of-type {\n",
       "        vertical-align: middle;\n",
       "    }\n",
       "\n",
       "    .dataframe tbody tr th {\n",
       "        vertical-align: top;\n",
       "    }\n",
       "\n",
       "    .dataframe thead th {\n",
       "        text-align: right;\n",
       "    }\n",
       "</style>\n",
       "<table border=\"1\" class=\"dataframe\">\n",
       "  <thead>\n",
       "    <tr style=\"text-align: right;\">\n",
       "      <th></th>\n",
       "      <th>id</th>\n",
       "      <th>title</th>\n",
       "      <th>url</th>\n",
       "      <th>num_points</th>\n",
       "      <th>num_comments</th>\n",
       "      <th>author</th>\n",
       "      <th>created_at</th>\n",
       "      <th>created_at_hour</th>\n",
       "    </tr>\n",
       "  </thead>\n",
       "  <tbody>\n",
       "    <tr>\n",
       "      <th>13</th>\n",
       "      <td>10627194</td>\n",
       "      <td>show hn: wio link  esp8266 based web of things...</td>\n",
       "      <td>https://iot.seeed.cc</td>\n",
       "      <td>26</td>\n",
       "      <td>22</td>\n",
       "      <td>kfihihc</td>\n",
       "      <td>2015-11-25 14:03:00</td>\n",
       "      <td>14</td>\n",
       "    </tr>\n",
       "    <tr>\n",
       "      <th>39</th>\n",
       "      <td>10646440</td>\n",
       "      <td>show hn: something pointless i made</td>\n",
       "      <td>http://dn.ht/picklecat/</td>\n",
       "      <td>747</td>\n",
       "      <td>102</td>\n",
       "      <td>dhotson</td>\n",
       "      <td>2015-11-29 22:46:00</td>\n",
       "      <td>22</td>\n",
       "    </tr>\n",
       "    <tr>\n",
       "      <th>46</th>\n",
       "      <td>11590768</td>\n",
       "      <td>show hn: shanhu.io, a programming playground p...</td>\n",
       "      <td>https://shanhu.io</td>\n",
       "      <td>1</td>\n",
       "      <td>1</td>\n",
       "      <td>h8liu</td>\n",
       "      <td>2016-04-28 18:05:00</td>\n",
       "      <td>18</td>\n",
       "    </tr>\n",
       "    <tr>\n",
       "      <th>84</th>\n",
       "      <td>12178806</td>\n",
       "      <td>show hn: webscope  easy way for web developers...</td>\n",
       "      <td>http://webscopeapp.com</td>\n",
       "      <td>3</td>\n",
       "      <td>3</td>\n",
       "      <td>fastbrick</td>\n",
       "      <td>2016-07-28 07:11:00</td>\n",
       "      <td>7</td>\n",
       "    </tr>\n",
       "    <tr>\n",
       "      <th>97</th>\n",
       "      <td>10872799</td>\n",
       "      <td>show hn: geoscreenshot  easily test geo-ip bas...</td>\n",
       "      <td>https://www.geoscreenshot.com/</td>\n",
       "      <td>1</td>\n",
       "      <td>9</td>\n",
       "      <td>kpsychwave</td>\n",
       "      <td>2016-01-09 20:45:00</td>\n",
       "      <td>20</td>\n",
       "    </tr>\n",
       "    <tr>\n",
       "      <th>...</th>\n",
       "      <td>...</td>\n",
       "      <td>...</td>\n",
       "      <td>...</td>\n",
       "      <td>...</td>\n",
       "      <td>...</td>\n",
       "      <td>...</td>\n",
       "      <td>...</td>\n",
       "      <td>...</td>\n",
       "    </tr>\n",
       "    <tr>\n",
       "      <th>19993</th>\n",
       "      <td>11222099</td>\n",
       "      <td>show hn: geocoding api built with government o...</td>\n",
       "      <td>https://latlon.io</td>\n",
       "      <td>6</td>\n",
       "      <td>6</td>\n",
       "      <td>evanmarks</td>\n",
       "      <td>2016-03-04 04:50:00</td>\n",
       "      <td>4</td>\n",
       "    </tr>\n",
       "    <tr>\n",
       "      <th>19999</th>\n",
       "      <td>11735438</td>\n",
       "      <td>show hn: decorating: animated pulsed for your ...</td>\n",
       "      <td>https://github.com/ryukinix/decorating</td>\n",
       "      <td>3</td>\n",
       "      <td>1</td>\n",
       "      <td>lerax</td>\n",
       "      <td>2016-05-20 03:48:00</td>\n",
       "      <td>3</td>\n",
       "    </tr>\n",
       "    <tr>\n",
       "      <th>20014</th>\n",
       "      <td>10200913</td>\n",
       "      <td>show hn: idea to startup</td>\n",
       "      <td>https://ideatostartup.org</td>\n",
       "      <td>14</td>\n",
       "      <td>17</td>\n",
       "      <td>nikhildaga</td>\n",
       "      <td>2015-09-10 22:17:00</td>\n",
       "      <td>22</td>\n",
       "    </tr>\n",
       "    <tr>\n",
       "      <th>20065</th>\n",
       "      <td>11444393</td>\n",
       "      <td>show hn: phantomjscloud, headless browser saas</td>\n",
       "      <td>https://PhantomJsCloud.com</td>\n",
       "      <td>2</td>\n",
       "      <td>1</td>\n",
       "      <td>novaleaf</td>\n",
       "      <td>2016-04-07 03:04:00</td>\n",
       "      <td>3</td>\n",
       "    </tr>\n",
       "    <tr>\n",
       "      <th>20070</th>\n",
       "      <td>12149183</td>\n",
       "      <td>show hn: parse recipe ingredients using javasc...</td>\n",
       "      <td>https://github.com/herkyl/ingredients-parser</td>\n",
       "      <td>6</td>\n",
       "      <td>2</td>\n",
       "      <td>zongitsrinzler</td>\n",
       "      <td>2016-07-23 11:35:00</td>\n",
       "      <td>11</td>\n",
       "    </tr>\n",
       "  </tbody>\n",
       "</table>\n",
       "<p>1162 rows × 8 columns</p>\n",
       "</div>"
      ],
      "text/plain": [
       "             id                                              title  \\\n",
       "13     10627194  show hn: wio link  esp8266 based web of things...   \n",
       "39     10646440                show hn: something pointless i made   \n",
       "46     11590768  show hn: shanhu.io, a programming playground p...   \n",
       "84     12178806  show hn: webscope  easy way for web developers...   \n",
       "97     10872799  show hn: geoscreenshot  easily test geo-ip bas...   \n",
       "...         ...                                                ...   \n",
       "19993  11222099  show hn: geocoding api built with government o...   \n",
       "19999  11735438  show hn: decorating: animated pulsed for your ...   \n",
       "20014  10200913                           show hn: idea to startup   \n",
       "20065  11444393     show hn: phantomjscloud, headless browser saas   \n",
       "20070  12149183  show hn: parse recipe ingredients using javasc...   \n",
       "\n",
       "                                                url  num_points  num_comments  \\\n",
       "13                             https://iot.seeed.cc          26            22   \n",
       "39                          http://dn.ht/picklecat/         747           102   \n",
       "46                                https://shanhu.io           1             1   \n",
       "84                           http://webscopeapp.com           3             3   \n",
       "97                   https://www.geoscreenshot.com/           1             9   \n",
       "...                                             ...         ...           ...   \n",
       "19993                             https://latlon.io           6             6   \n",
       "19999        https://github.com/ryukinix/decorating           3             1   \n",
       "20014                     https://ideatostartup.org          14            17   \n",
       "20065                    https://PhantomJsCloud.com           2             1   \n",
       "20070  https://github.com/herkyl/ingredients-parser           6             2   \n",
       "\n",
       "               author          created_at  created_at_hour  \n",
       "13            kfihihc 2015-11-25 14:03:00               14  \n",
       "39            dhotson 2015-11-29 22:46:00               22  \n",
       "46              h8liu 2016-04-28 18:05:00               18  \n",
       "84          fastbrick 2016-07-28 07:11:00                7  \n",
       "97         kpsychwave 2016-01-09 20:45:00               20  \n",
       "...               ...                 ...              ...  \n",
       "19993       evanmarks 2016-03-04 04:50:00                4  \n",
       "19999           lerax 2016-05-20 03:48:00                3  \n",
       "20014      nikhildaga 2015-09-10 22:17:00               22  \n",
       "20065        novaleaf 2016-04-07 03:04:00                3  \n",
       "20070  zongitsrinzler 2016-07-23 11:35:00               11  \n",
       "\n",
       "[1162 rows x 8 columns]"
      ]
     },
     "execution_count": 16,
     "metadata": {},
     "output_type": "execute_result"
    }
   ],
   "source": [
    "dataset[show]"
   ]
  },
  {
   "cell_type": "markdown",
   "id": "4d419655",
   "metadata": {},
   "source": [
    "# Skill Test - 4"
   ]
  },
  {
   "cell_type": "markdown",
   "id": "f1d3376b",
   "metadata": {},
   "source": [
    "- Filter records other than ask hn and show hn"
   ]
  },
  {
   "cell_type": "markdown",
   "id": "d92c28ae",
   "metadata": {},
   "source": [
    "# Logical operators for boolean indexing in pandas"
   ]
  },
  {
   "cell_type": "markdown",
   "id": "65f6d3d7",
   "metadata": {},
   "source": [
    "- & # and\n",
    "- ~ # not \n",
    "- |  # or"
   ]
  },
  {
   "cell_type": "code",
   "execution_count": 17,
   "id": "b7c9036d",
   "metadata": {},
   "outputs": [
    {
     "data": {
      "text/html": [
       "<div>\n",
       "<style scoped>\n",
       "    .dataframe tbody tr th:only-of-type {\n",
       "        vertical-align: middle;\n",
       "    }\n",
       "\n",
       "    .dataframe tbody tr th {\n",
       "        vertical-align: top;\n",
       "    }\n",
       "\n",
       "    .dataframe thead th {\n",
       "        text-align: right;\n",
       "    }\n",
       "</style>\n",
       "<table border=\"1\" class=\"dataframe\">\n",
       "  <thead>\n",
       "    <tr style=\"text-align: right;\">\n",
       "      <th></th>\n",
       "      <th>id</th>\n",
       "      <th>title</th>\n",
       "      <th>url</th>\n",
       "      <th>num_points</th>\n",
       "      <th>num_comments</th>\n",
       "      <th>author</th>\n",
       "      <th>created_at</th>\n",
       "      <th>created_at_hour</th>\n",
       "    </tr>\n",
       "  </thead>\n",
       "  <tbody>\n",
       "    <tr>\n",
       "      <th>0</th>\n",
       "      <td>12224879</td>\n",
       "      <td>interactive dynamic video</td>\n",
       "      <td>http://www.interactivedynamicvideo.com/</td>\n",
       "      <td>386</td>\n",
       "      <td>52</td>\n",
       "      <td>ne0phyte</td>\n",
       "      <td>2016-08-04 11:52:00</td>\n",
       "      <td>11</td>\n",
       "    </tr>\n",
       "    <tr>\n",
       "      <th>1</th>\n",
       "      <td>10975351</td>\n",
       "      <td>how to use open source and shut the fuck up at...</td>\n",
       "      <td>http://hueniverse.com/2016/01/26/how-to-use-op...</td>\n",
       "      <td>39</td>\n",
       "      <td>10</td>\n",
       "      <td>josep2</td>\n",
       "      <td>2016-01-26 19:30:00</td>\n",
       "      <td>19</td>\n",
       "    </tr>\n",
       "    <tr>\n",
       "      <th>2</th>\n",
       "      <td>11964716</td>\n",
       "      <td>florida djs may face felony for april fools' w...</td>\n",
       "      <td>http://www.thewire.com/entertainment/2013/04/f...</td>\n",
       "      <td>2</td>\n",
       "      <td>1</td>\n",
       "      <td>vezycash</td>\n",
       "      <td>2016-06-23 22:20:00</td>\n",
       "      <td>22</td>\n",
       "    </tr>\n",
       "    <tr>\n",
       "      <th>3</th>\n",
       "      <td>11919867</td>\n",
       "      <td>technology ventures: from idea to enterprise</td>\n",
       "      <td>https://www.amazon.com/Technology-Ventures-Ent...</td>\n",
       "      <td>3</td>\n",
       "      <td>1</td>\n",
       "      <td>hswarna</td>\n",
       "      <td>2016-06-17 00:01:00</td>\n",
       "      <td>0</td>\n",
       "    </tr>\n",
       "    <tr>\n",
       "      <th>4</th>\n",
       "      <td>10301696</td>\n",
       "      <td>note by note: the making of steinway l1037 (2007)</td>\n",
       "      <td>http://www.nytimes.com/2007/11/07/movies/07ste...</td>\n",
       "      <td>8</td>\n",
       "      <td>2</td>\n",
       "      <td>walterbell</td>\n",
       "      <td>2015-09-30 04:12:00</td>\n",
       "      <td>4</td>\n",
       "    </tr>\n",
       "    <tr>\n",
       "      <th>...</th>\n",
       "      <td>...</td>\n",
       "      <td>...</td>\n",
       "      <td>...</td>\n",
       "      <td>...</td>\n",
       "      <td>...</td>\n",
       "      <td>...</td>\n",
       "      <td>...</td>\n",
       "      <td>...</td>\n",
       "    </tr>\n",
       "    <tr>\n",
       "      <th>20095</th>\n",
       "      <td>12379592</td>\n",
       "      <td>how purism avoids intels active management tec...</td>\n",
       "      <td>https://puri.sm/philosophy/how-purism-avoids-i...</td>\n",
       "      <td>10</td>\n",
       "      <td>6</td>\n",
       "      <td>AdmiralAsshat</td>\n",
       "      <td>2016-08-29 02:22:00</td>\n",
       "      <td>2</td>\n",
       "    </tr>\n",
       "    <tr>\n",
       "      <th>20096</th>\n",
       "      <td>10339284</td>\n",
       "      <td>yc application translated and broken down</td>\n",
       "      <td>https://medium.com/@zreitano/the-yc-applicatio...</td>\n",
       "      <td>4</td>\n",
       "      <td>1</td>\n",
       "      <td>zreitano</td>\n",
       "      <td>2015-10-06 14:57:00</td>\n",
       "      <td>14</td>\n",
       "    </tr>\n",
       "    <tr>\n",
       "      <th>20097</th>\n",
       "      <td>10824382</td>\n",
       "      <td>microkernels are slow and elvis didn't do no d...</td>\n",
       "      <td>http://blog.darknedgy.net/technology/2016/01/0...</td>\n",
       "      <td>169</td>\n",
       "      <td>132</td>\n",
       "      <td>vezzy-fnord</td>\n",
       "      <td>2016-01-02 00:49:00</td>\n",
       "      <td>0</td>\n",
       "    </tr>\n",
       "    <tr>\n",
       "      <th>20098</th>\n",
       "      <td>10739875</td>\n",
       "      <td>how product hunt really works</td>\n",
       "      <td>https://medium.com/@benjiwheeler/how-product-h...</td>\n",
       "      <td>695</td>\n",
       "      <td>222</td>\n",
       "      <td>brw12</td>\n",
       "      <td>2015-12-15 19:32:00</td>\n",
       "      <td>19</td>\n",
       "    </tr>\n",
       "    <tr>\n",
       "      <th>20099</th>\n",
       "      <td>11680777</td>\n",
       "      <td>robobrowser: your friendly neighborhood web sc...</td>\n",
       "      <td>https://github.com/jmcarp/robobrowser</td>\n",
       "      <td>182</td>\n",
       "      <td>58</td>\n",
       "      <td>pmoriarty</td>\n",
       "      <td>2016-05-12 01:43:00</td>\n",
       "      <td>1</td>\n",
       "    </tr>\n",
       "  </tbody>\n",
       "</table>\n",
       "<p>17194 rows × 8 columns</p>\n",
       "</div>"
      ],
      "text/plain": [
       "             id                                              title  \\\n",
       "0      12224879                          interactive dynamic video   \n",
       "1      10975351  how to use open source and shut the fuck up at...   \n",
       "2      11964716  florida djs may face felony for april fools' w...   \n",
       "3      11919867       technology ventures: from idea to enterprise   \n",
       "4      10301696  note by note: the making of steinway l1037 (2007)   \n",
       "...         ...                                                ...   \n",
       "20095  12379592  how purism avoids intels active management tec...   \n",
       "20096  10339284          yc application translated and broken down   \n",
       "20097  10824382  microkernels are slow and elvis didn't do no d...   \n",
       "20098  10739875                      how product hunt really works   \n",
       "20099  11680777  robobrowser: your friendly neighborhood web sc...   \n",
       "\n",
       "                                                     url  num_points  \\\n",
       "0                http://www.interactivedynamicvideo.com/         386   \n",
       "1      http://hueniverse.com/2016/01/26/how-to-use-op...          39   \n",
       "2      http://www.thewire.com/entertainment/2013/04/f...           2   \n",
       "3      https://www.amazon.com/Technology-Ventures-Ent...           3   \n",
       "4      http://www.nytimes.com/2007/11/07/movies/07ste...           8   \n",
       "...                                                  ...         ...   \n",
       "20095  https://puri.sm/philosophy/how-purism-avoids-i...          10   \n",
       "20096  https://medium.com/@zreitano/the-yc-applicatio...           4   \n",
       "20097  http://blog.darknedgy.net/technology/2016/01/0...         169   \n",
       "20098  https://medium.com/@benjiwheeler/how-product-h...         695   \n",
       "20099              https://github.com/jmcarp/robobrowser         182   \n",
       "\n",
       "       num_comments         author          created_at  created_at_hour  \n",
       "0                52       ne0phyte 2016-08-04 11:52:00               11  \n",
       "1                10         josep2 2016-01-26 19:30:00               19  \n",
       "2                 1       vezycash 2016-06-23 22:20:00               22  \n",
       "3                 1        hswarna 2016-06-17 00:01:00                0  \n",
       "4                 2     walterbell 2015-09-30 04:12:00                4  \n",
       "...             ...            ...                 ...              ...  \n",
       "20095             6  AdmiralAsshat 2016-08-29 02:22:00                2  \n",
       "20096             1       zreitano 2015-10-06 14:57:00               14  \n",
       "20097           132    vezzy-fnord 2016-01-02 00:49:00                0  \n",
       "20098           222          brw12 2015-12-15 19:32:00               19  \n",
       "20099            58      pmoriarty 2016-05-12 01:43:00                1  \n",
       "\n",
       "[17194 rows x 8 columns]"
      ]
     },
     "execution_count": 17,
     "metadata": {},
     "output_type": "execute_result"
    }
   ],
   "source": [
    "#dataset[~(ask | show)]\n",
    "dataset[~(ask) & ~(show)]"
   ]
  },
  {
   "cell_type": "code",
   "execution_count": 18,
   "id": "0ddacf45",
   "metadata": {},
   "outputs": [
    {
     "data": {
      "text/plain": [
       "(1744, 8)"
      ]
     },
     "execution_count": 18,
     "metadata": {},
     "output_type": "execute_result"
    }
   ],
   "source": [
    "dataset[ask].shape"
   ]
  },
  {
   "cell_type": "code",
   "execution_count": 19,
   "id": "97bb2b81",
   "metadata": {},
   "outputs": [
    {
     "data": {
      "text/plain": [
       "(1162, 8)"
      ]
     },
     "execution_count": 19,
     "metadata": {},
     "output_type": "execute_result"
    }
   ],
   "source": [
    "dataset[show].shape"
   ]
  },
  {
   "cell_type": "code",
   "execution_count": 20,
   "id": "b511839a",
   "metadata": {},
   "outputs": [
    {
     "data": {
      "text/plain": [
       "(20100, 8)"
      ]
     },
     "execution_count": 20,
     "metadata": {},
     "output_type": "execute_result"
    }
   ],
   "source": [
    "dataset.shape"
   ]
  },
  {
   "cell_type": "code",
   "execution_count": 21,
   "id": "fe7830eb",
   "metadata": {},
   "outputs": [
    {
     "data": {
      "text/plain": [
       "17194"
      ]
     },
     "execution_count": 21,
     "metadata": {},
     "output_type": "execute_result"
    }
   ],
   "source": [
    "20100-1162-1744 "
   ]
  },
  {
   "cell_type": "markdown",
   "id": "e7539a36",
   "metadata": {},
   "source": [
    "# Skill Test - 5"
   ]
  },
  {
   "cell_type": "markdown",
   "id": "9c1f2d4b",
   "metadata": {},
   "source": [
    "Calculate average number of comments 'ask hn' posts recieve"
   ]
  },
  {
   "cell_type": "code",
   "execution_count": 22,
   "id": "bf80aea5",
   "metadata": {},
   "outputs": [
    {
     "data": {
      "text/plain": [
       "14.04"
      ]
     },
     "execution_count": 22,
     "metadata": {},
     "output_type": "execute_result"
    }
   ],
   "source": [
    "round(dataset[ask]['num_comments'].mean(), 2)"
   ]
  },
  {
   "cell_type": "markdown",
   "id": "df24a67b",
   "metadata": {},
   "source": [
    "# Skill Test - 6"
   ]
  },
  {
   "cell_type": "markdown",
   "id": "779f16ec",
   "metadata": {},
   "source": [
    "Calculate average number of comments 'show hn' posts recieve"
   ]
  },
  {
   "cell_type": "code",
   "execution_count": 23,
   "id": "c9ea74d3",
   "metadata": {},
   "outputs": [
    {
     "data": {
      "text/plain": [
       "10.32"
      ]
     },
     "execution_count": 23,
     "metadata": {},
     "output_type": "execute_result"
    }
   ],
   "source": [
    "round(dataset[show]['num_comments'].mean(), 2)"
   ]
  },
  {
   "cell_type": "markdown",
   "id": "aaee63cb",
   "metadata": {},
   "source": [
    "# Skill Test -7 \n",
    "- What is the optimal hour to post, based on your analysis"
   ]
  },
  {
   "cell_type": "code",
   "execution_count": 24,
   "id": "0a68952e",
   "metadata": {},
   "outputs": [],
   "source": [
    "groupby_hour = dataset.groupby(by = 'created_at_hour')"
   ]
  },
  {
   "cell_type": "code",
   "execution_count": 25,
   "id": "f5b3a92c",
   "metadata": {},
   "outputs": [],
   "source": [
    "#groupby_hour.get_group(7)"
   ]
  },
  {
   "cell_type": "code",
   "execution_count": 26,
   "id": "2154384c",
   "metadata": {},
   "outputs": [
    {
     "data": {
      "text/plain": [
       "created_at_hour\n",
       "14    29.144222\n",
       "15    29.018639\n",
       "13    27.733212\n",
       "12    27.465872\n",
       "11    27.118110\n",
       "2     26.015123\n",
       "17    25.538913\n",
       "18    25.188995\n",
       "9     25.080460\n",
       "0     25.076040\n",
       "7     24.755906\n",
       "10    24.516035\n",
       "19    24.361572\n",
       "8     24.328720\n",
       "3     23.823770\n",
       "16    23.699693\n",
       "5     22.715232\n",
       "23    22.598972\n",
       "20    22.277831\n",
       "21    21.992233\n",
       "4     21.891841\n",
       "22    21.353143\n",
       "1     21.198980\n",
       "6     19.771368\n",
       "Name: num_comments, dtype: float64"
      ]
     },
     "execution_count": 26,
     "metadata": {},
     "output_type": "execute_result"
    }
   ],
   "source": [
    "groupby_hour['num_comments'].mean().sort_values(ascending=False)"
   ]
  },
  {
   "cell_type": "code",
   "execution_count": 27,
   "id": "5649fd93",
   "metadata": {},
   "outputs": [
    {
     "data": {
      "text/plain": [
       "29.14422241529105"
      ]
     },
     "execution_count": 27,
     "metadata": {},
     "output_type": "execute_result"
    }
   ],
   "source": [
    "groupby_hour['num_comments'].mean().max()"
   ]
  },
  {
   "cell_type": "code",
   "execution_count": 28,
   "id": "4c644e7c",
   "metadata": {},
   "outputs": [
    {
     "data": {
      "text/plain": [
       "created_at_hour\n",
       "14    29.144222\n",
       "Name: num_comments, dtype: float64"
      ]
     },
     "execution_count": 28,
     "metadata": {},
     "output_type": "execute_result"
    }
   ],
   "source": [
    "groupby_hour['num_comments'].mean().sort_values(ascending=False).head(1)"
   ]
  },
  {
   "cell_type": "markdown",
   "id": "f353b134",
   "metadata": {},
   "source": [
    "# Skill Test - 8\n",
    "- what are the top 5 recommended hours to post for 'ask hn' based on your analysis"
   ]
  },
  {
   "cell_type": "code",
   "execution_count": 29,
   "id": "ea142bec",
   "metadata": {},
   "outputs": [],
   "source": [
    "groupby_ask = dataset[ask].groupby('created_at_hour')"
   ]
  },
  {
   "cell_type": "code",
   "execution_count": 30,
   "id": "6e084a3a",
   "metadata": {},
   "outputs": [
    {
     "data": {
      "text/plain": [
       "created_at_hour\n",
       "15    38.594828\n",
       "2     23.810345\n",
       "20    21.525000\n",
       "16    16.796296\n",
       "21    16.009174\n",
       "Name: num_comments, dtype: float64"
      ]
     },
     "execution_count": 30,
     "metadata": {},
     "output_type": "execute_result"
    }
   ],
   "source": [
    "groupby_ask['num_comments'].mean().sort_values(ascending=False).head()"
   ]
  },
  {
   "cell_type": "markdown",
   "id": "e78d989e",
   "metadata": {},
   "source": [
    "# Skill Test - 9\n",
    "- what are the top 5 recommended hours to post for 'show hn' based on your analysis"
   ]
  },
  {
   "cell_type": "code",
   "execution_count": 31,
   "id": "fdcc740e",
   "metadata": {},
   "outputs": [],
   "source": [
    "groupby_show = dataset[show].groupby('created_at_hour')"
   ]
  },
  {
   "cell_type": "code",
   "execution_count": 32,
   "id": "ec93ea06",
   "metadata": {},
   "outputs": [
    {
     "data": {
      "text/plain": [
       "created_at_hour\n",
       "18    15.770492\n",
       "0     15.709677\n",
       "14    13.441860\n",
       "23    12.416667\n",
       "22    12.391304\n",
       "Name: num_comments, dtype: float64"
      ]
     },
     "execution_count": 32,
     "metadata": {},
     "output_type": "execute_result"
    }
   ],
   "source": [
    "groupby_show['num_comments'].mean().sort_values(ascending=False).head()"
   ]
  },
  {
   "cell_type": "markdown",
   "id": "2ee50c77",
   "metadata": {},
   "source": [
    "# pivot table"
   ]
  },
  {
   "cell_type": "code",
   "execution_count": 33,
   "id": "7440874d",
   "metadata": {},
   "outputs": [],
   "source": [
    "avgby_hour = dataset[ask].pivot_table(values = 'num_comments', index='created_at_hour', aggfunc='mean')"
   ]
  },
  {
   "cell_type": "code",
   "execution_count": 34,
   "id": "ea65bdf5",
   "metadata": {},
   "outputs": [
    {
     "data": {
      "text/plain": [
       "29.14422241529105"
      ]
     },
     "execution_count": 34,
     "metadata": {},
     "output_type": "execute_result"
    }
   ],
   "source": [
    "max(groupby_hour['num_comments'].mean())"
   ]
  },
  {
   "cell_type": "code",
   "execution_count": 35,
   "id": "459f9aea",
   "metadata": {},
   "outputs": [
    {
     "data": {
      "text/html": [
       "<div>\n",
       "<style scoped>\n",
       "    .dataframe tbody tr th:only-of-type {\n",
       "        vertical-align: middle;\n",
       "    }\n",
       "\n",
       "    .dataframe tbody tr th {\n",
       "        vertical-align: top;\n",
       "    }\n",
       "\n",
       "    .dataframe thead th {\n",
       "        text-align: right;\n",
       "    }\n",
       "</style>\n",
       "<table border=\"1\" class=\"dataframe\">\n",
       "  <thead>\n",
       "    <tr style=\"text-align: right;\">\n",
       "      <th></th>\n",
       "      <th>num_comments</th>\n",
       "    </tr>\n",
       "    <tr>\n",
       "      <th>created_at_hour</th>\n",
       "      <th></th>\n",
       "    </tr>\n",
       "  </thead>\n",
       "  <tbody>\n",
       "    <tr>\n",
       "      <th>15</th>\n",
       "      <td>38.594828</td>\n",
       "    </tr>\n",
       "    <tr>\n",
       "      <th>2</th>\n",
       "      <td>23.810345</td>\n",
       "    </tr>\n",
       "    <tr>\n",
       "      <th>20</th>\n",
       "      <td>21.525000</td>\n",
       "    </tr>\n",
       "    <tr>\n",
       "      <th>16</th>\n",
       "      <td>16.796296</td>\n",
       "    </tr>\n",
       "    <tr>\n",
       "      <th>21</th>\n",
       "      <td>16.009174</td>\n",
       "    </tr>\n",
       "  </tbody>\n",
       "</table>\n",
       "</div>"
      ],
      "text/plain": [
       "                 num_comments\n",
       "created_at_hour              \n",
       "15                  38.594828\n",
       "2                   23.810345\n",
       "20                  21.525000\n",
       "16                  16.796296\n",
       "21                  16.009174"
      ]
     },
     "execution_count": 35,
     "metadata": {},
     "output_type": "execute_result"
    }
   ],
   "source": [
    "avgby_hour.sort_values('num_comments', ascending=False).head()"
   ]
  },
  {
   "cell_type": "code",
   "execution_count": null,
   "id": "1fb63cd8",
   "metadata": {},
   "outputs": [],
   "source": []
  }
 ],
 "metadata": {
  "kernelspec": {
   "display_name": "Python 3 (ipykernel)",
   "language": "python",
   "name": "python3"
  },
  "language_info": {
   "codemirror_mode": {
    "name": "ipython",
    "version": 3
   },
   "file_extension": ".py",
   "mimetype": "text/x-python",
   "name": "python",
   "nbconvert_exporter": "python",
   "pygments_lexer": "ipython3",
   "version": "3.9.7"
  }
 },
 "nbformat": 4,
 "nbformat_minor": 5
}
