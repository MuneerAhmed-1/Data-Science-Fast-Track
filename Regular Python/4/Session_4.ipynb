{
 "cells": [
  {
   "cell_type": "markdown",
   "id": "0831ad43",
   "metadata": {},
   "source": [
    "# Woking On Dataset:"
   ]
  },
  {
   "cell_type": "code",
   "execution_count": 6,
   "id": "27298cf3",
   "metadata": {},
   "outputs": [],
   "source": [
    "#import library\n",
    "import csv"
   ]
  },
  {
   "cell_type": "code",
   "execution_count": 7,
   "id": "ad87cc95",
   "metadata": {},
   "outputs": [],
   "source": [
    "csv_file = 'students_data.csv'"
   ]
  },
  {
   "cell_type": "code",
   "execution_count": 8,
   "id": "3bc4a378",
   "metadata": {},
   "outputs": [],
   "source": [
    "opened_file = open(csv_file, encoding='UTF-8') #UTF-8, Latin-1, Windows-1251\n",
    "\n",
    "#ASCII\n",
    "# A -> 65 -> 010101"
   ]
  },
  {
   "cell_type": "code",
   "execution_count": 9,
   "id": "ddcd86eb",
   "metadata": {},
   "outputs": [],
   "source": [
    "read_file = csv.reader(opened_file)"
   ]
  },
  {
   "cell_type": "code",
   "execution_count": 10,
   "id": "6c641625",
   "metadata": {},
   "outputs": [
    {
     "data": {
      "text/plain": [
       "<_csv.reader at 0x2816e179700>"
      ]
     },
     "execution_count": 10,
     "metadata": {},
     "output_type": "execute_result"
    }
   ],
   "source": [
    "read_file"
   ]
  },
  {
   "cell_type": "code",
   "execution_count": 11,
   "id": "b64534a4",
   "metadata": {},
   "outputs": [],
   "source": [
    "dataset = list(read_file)"
   ]
  },
  {
   "cell_type": "code",
   "execution_count": 12,
   "id": "edb89a71",
   "metadata": {},
   "outputs": [],
   "source": [
    "#or we can also write as:\n",
    "#data_set = list(csv.reader(open(csv_file, encoding='UTF-8')))"
   ]
  },
  {
   "cell_type": "code",
   "execution_count": 13,
   "id": "0e81b31d",
   "metadata": {},
   "outputs": [
    {
     "data": {
      "text/plain": [
       "[['Roll No.', 'Name', 'Chemistry', 'Physics', 'Maths'],\n",
       " ['101', 'Aliza', '45', '99', '88'],\n",
       " ['102', 'Soban', '50', '97', '87'],\n",
       " ['103', 'Noman', '43', '94', '89'],\n",
       " ['104', 'Bilal', '42', '87', '85'],\n",
       " ['105', 'Saim', '39', '76', '76'],\n",
       " ['106', 'Shameer', '38', '58', '75'],\n",
       " ['107', 'Zainab', '47', '92', '78'],\n",
       " ['108', 'Umer', '46', '86', '73'],\n",
       " ['109', 'Umair', '35', '83', '89'],\n",
       " ['110', 'Fizzah', '36', '81', '97'],\n",
       " ['111', 'Zahra', '49', '90', '94'],\n",
       " ['112', 'Fatima', '45', '88', '99'],\n",
       " ['113', 'Tooba', '43', '80', '93'],\n",
       " ['114', 'Saad', '42', '90', '77'],\n",
       " ['115', 'Azher', '41', '93', '98'],\n",
       " ['116', 'Danial', '34', '82', '87'],\n",
       " ['117', 'kaiser', '45', '91', '86'],\n",
       " ['118', 'Jibran', '46', '77', '78'],\n",
       " ['119', 'Maria', '43', '69', '94'],\n",
       " ['120', 'Amna', '38', '89', '91'],\n",
       " ['121', 'Noreen', '37', '98', '90']]"
      ]
     },
     "execution_count": 13,
     "metadata": {},
     "output_type": "execute_result"
    }
   ],
   "source": [
    "dataset"
   ]
  },
  {
   "cell_type": "markdown",
   "id": "f586ea7a",
   "metadata": {},
   "source": [
    "# Skill Test:\n",
    "- Calculate and append Obt_Marks and Percentage in each record."
   ]
  },
  {
   "cell_type": "markdown",
   "id": "ff513643",
   "metadata": {},
   "source": [
    "- 300 total marks\n",
    "- What is percentage?"
   ]
  },
  {
   "cell_type": "code",
   "execution_count": 14,
   "id": "9d54eb74",
   "metadata": {},
   "outputs": [],
   "source": [
    "dataset[0].append('Obtain Marks')"
   ]
  },
  {
   "cell_type": "code",
   "execution_count": 15,
   "id": "8e122188",
   "metadata": {},
   "outputs": [],
   "source": [
    "dataset[0].append('Percentage')"
   ]
  },
  {
   "cell_type": "code",
   "execution_count": 16,
   "id": "330159af",
   "metadata": {},
   "outputs": [
    {
     "data": {
      "text/plain": [
       "[['Roll No.',\n",
       "  'Name',\n",
       "  'Chemistry',\n",
       "  'Physics',\n",
       "  'Maths',\n",
       "  'Obtain Marks',\n",
       "  'Percentage'],\n",
       " ['101', 'Aliza', '45', '99', '88'],\n",
       " ['102', 'Soban', '50', '97', '87'],\n",
       " ['103', 'Noman', '43', '94', '89'],\n",
       " ['104', 'Bilal', '42', '87', '85'],\n",
       " ['105', 'Saim', '39', '76', '76'],\n",
       " ['106', 'Shameer', '38', '58', '75'],\n",
       " ['107', 'Zainab', '47', '92', '78'],\n",
       " ['108', 'Umer', '46', '86', '73'],\n",
       " ['109', 'Umair', '35', '83', '89'],\n",
       " ['110', 'Fizzah', '36', '81', '97'],\n",
       " ['111', 'Zahra', '49', '90', '94'],\n",
       " ['112', 'Fatima', '45', '88', '99'],\n",
       " ['113', 'Tooba', '43', '80', '93'],\n",
       " ['114', 'Saad', '42', '90', '77'],\n",
       " ['115', 'Azher', '41', '93', '98'],\n",
       " ['116', 'Danial', '34', '82', '87'],\n",
       " ['117', 'kaiser', '45', '91', '86'],\n",
       " ['118', 'Jibran', '46', '77', '78'],\n",
       " ['119', 'Maria', '43', '69', '94'],\n",
       " ['120', 'Amna', '38', '89', '91'],\n",
       " ['121', 'Noreen', '37', '98', '90']]"
      ]
     },
     "execution_count": 16,
     "metadata": {},
     "output_type": "execute_result"
    }
   ],
   "source": [
    "dataset"
   ]
  },
  {
   "cell_type": "code",
   "execution_count": 17,
   "id": "40fc5412",
   "metadata": {},
   "outputs": [],
   "source": [
    "for i in dataset:\n",
    "    if i[0] == 'Roll No.':\n",
    "        continue\n",
    "    else:\n",
    "        sum = int(i[2]) + int(i[3]) + int(i[4])\n",
    "        i.append(sum)\n",
    "        percentage = round((sum/300)*100, 2)\n",
    "        i.append(percentage)"
   ]
  },
  {
   "cell_type": "code",
   "execution_count": 18,
   "id": "f84af18f",
   "metadata": {},
   "outputs": [],
   "source": [
    "# 45+99+88 = 232"
   ]
  },
  {
   "cell_type": "code",
   "execution_count": 19,
   "id": "3b989e13",
   "metadata": {},
   "outputs": [],
   "source": [
    "# (232/300)*100 = 77.33333333333"
   ]
  },
  {
   "cell_type": "code",
   "execution_count": 20,
   "id": "06ede9f6",
   "metadata": {},
   "outputs": [],
   "source": [
    "# round(55.55555, 2) = 55.56"
   ]
  },
  {
   "cell_type": "code",
   "execution_count": 21,
   "id": "7247afb6",
   "metadata": {},
   "outputs": [
    {
     "data": {
      "text/plain": [
       "[['Roll No.',\n",
       "  'Name',\n",
       "  'Chemistry',\n",
       "  'Physics',\n",
       "  'Maths',\n",
       "  'Obtain Marks',\n",
       "  'Percentage'],\n",
       " ['101', 'Aliza', '45', '99', '88', 232, 77.33],\n",
       " ['102', 'Soban', '50', '97', '87', 234, 78.0],\n",
       " ['103', 'Noman', '43', '94', '89', 226, 75.33],\n",
       " ['104', 'Bilal', '42', '87', '85', 214, 71.33],\n",
       " ['105', 'Saim', '39', '76', '76', 191, 63.67],\n",
       " ['106', 'Shameer', '38', '58', '75', 171, 57.0],\n",
       " ['107', 'Zainab', '47', '92', '78', 217, 72.33],\n",
       " ['108', 'Umer', '46', '86', '73', 205, 68.33],\n",
       " ['109', 'Umair', '35', '83', '89', 207, 69.0],\n",
       " ['110', 'Fizzah', '36', '81', '97', 214, 71.33],\n",
       " ['111', 'Zahra', '49', '90', '94', 233, 77.67],\n",
       " ['112', 'Fatima', '45', '88', '99', 232, 77.33],\n",
       " ['113', 'Tooba', '43', '80', '93', 216, 72.0],\n",
       " ['114', 'Saad', '42', '90', '77', 209, 69.67],\n",
       " ['115', 'Azher', '41', '93', '98', 232, 77.33],\n",
       " ['116', 'Danial', '34', '82', '87', 203, 67.67],\n",
       " ['117', 'kaiser', '45', '91', '86', 222, 74.0],\n",
       " ['118', 'Jibran', '46', '77', '78', 201, 67.0],\n",
       " ['119', 'Maria', '43', '69', '94', 206, 68.67],\n",
       " ['120', 'Amna', '38', '89', '91', 218, 72.67],\n",
       " ['121', 'Noreen', '37', '98', '90', 225, 75.0]]"
      ]
     },
     "execution_count": 21,
     "metadata": {},
     "output_type": "execute_result"
    }
   ],
   "source": [
    "dataset"
   ]
  },
  {
   "cell_type": "code",
   "execution_count": 22,
   "id": "c47b1c1e",
   "metadata": {},
   "outputs": [],
   "source": [
    "header = dataset[0]\n",
    "data = dataset[1:]"
   ]
  },
  {
   "cell_type": "code",
   "execution_count": 23,
   "id": "1cca716d",
   "metadata": {},
   "outputs": [
    {
     "data": {
      "text/plain": [
       "['Roll No.',\n",
       " 'Name',\n",
       " 'Chemistry',\n",
       " 'Physics',\n",
       " 'Maths',\n",
       " 'Obtain Marks',\n",
       " 'Percentage']"
      ]
     },
     "execution_count": 23,
     "metadata": {},
     "output_type": "execute_result"
    }
   ],
   "source": [
    "header"
   ]
  },
  {
   "cell_type": "code",
   "execution_count": 24,
   "id": "74871d48",
   "metadata": {},
   "outputs": [
    {
     "data": {
      "text/plain": [
       "[['101', 'Aliza', '45', '99', '88', 232, 77.33],\n",
       " ['102', 'Soban', '50', '97', '87', 234, 78.0],\n",
       " ['103', 'Noman', '43', '94', '89', 226, 75.33],\n",
       " ['104', 'Bilal', '42', '87', '85', 214, 71.33],\n",
       " ['105', 'Saim', '39', '76', '76', 191, 63.67],\n",
       " ['106', 'Shameer', '38', '58', '75', 171, 57.0],\n",
       " ['107', 'Zainab', '47', '92', '78', 217, 72.33],\n",
       " ['108', 'Umer', '46', '86', '73', 205, 68.33],\n",
       " ['109', 'Umair', '35', '83', '89', 207, 69.0],\n",
       " ['110', 'Fizzah', '36', '81', '97', 214, 71.33],\n",
       " ['111', 'Zahra', '49', '90', '94', 233, 77.67],\n",
       " ['112', 'Fatima', '45', '88', '99', 232, 77.33],\n",
       " ['113', 'Tooba', '43', '80', '93', 216, 72.0],\n",
       " ['114', 'Saad', '42', '90', '77', 209, 69.67],\n",
       " ['115', 'Azher', '41', '93', '98', 232, 77.33],\n",
       " ['116', 'Danial', '34', '82', '87', 203, 67.67],\n",
       " ['117', 'kaiser', '45', '91', '86', 222, 74.0],\n",
       " ['118', 'Jibran', '46', '77', '78', 201, 67.0],\n",
       " ['119', 'Maria', '43', '69', '94', 206, 68.67],\n",
       " ['120', 'Amna', '38', '89', '91', 218, 72.67],\n",
       " ['121', 'Noreen', '37', '98', '90', 225, 75.0]]"
      ]
     },
     "execution_count": 24,
     "metadata": {},
     "output_type": "execute_result"
    }
   ],
   "source": [
    "data"
   ]
  },
  {
   "cell_type": "markdown",
   "id": "f83e9656",
   "metadata": {},
   "source": [
    "# Skill Test"
   ]
  },
  {
   "cell_type": "markdown",
   "id": "e7f0e7bc",
   "metadata": {},
   "source": [
    "- Calculate avg for each subject"
   ]
  },
  {
   "cell_type": "code",
   "execution_count": 25,
   "id": "c7167b14",
   "metadata": {},
   "outputs": [
    {
     "name": "stdout",
     "output_type": "stream",
     "text": [
      "22\n",
      "21\n"
     ]
    }
   ],
   "source": [
    "print(len(dataset))\n",
    "print(len(data))"
   ]
  },
  {
   "cell_type": "code",
   "execution_count": 26,
   "id": "988fde7b",
   "metadata": {},
   "outputs": [],
   "source": [
    "Chemistry = 0\n",
    "Physics = 0\n",
    "Maths = 0\n",
    "counter = len(data)\n",
    "for i in data:\n",
    "    Chemistry += int(i[2])\n",
    "    Physics += int(i[3])\n",
    "    Maths += int(i[4])\n",
    "avg_chem = round(Chemistry/counter, 2)\n",
    "avg_phy = round(Physics/counter, 2)\n",
    "avg_math = round(Maths/counter, 2)"
   ]
  },
  {
   "cell_type": "code",
   "execution_count": 27,
   "id": "6c143e03",
   "metadata": {},
   "outputs": [
    {
     "data": {
      "text/plain": [
       "(42.1, 85.71, 86.86)"
      ]
     },
     "execution_count": 27,
     "metadata": {},
     "output_type": "execute_result"
    }
   ],
   "source": [
    "avg_chem, avg_phy, avg_math"
   ]
  },
  {
   "cell_type": "code",
   "execution_count": 30,
   "id": "060ed1e8",
   "metadata": {},
   "outputs": [
    {
     "name": "stdout",
     "output_type": "stream",
     "text": [
      "Chemistry: Sum = 884 Avg = 42.1 \n",
      "Physics: Sum = 1800 Avg = 85.71 \n",
      "Maths: Sum = 1824 Avg = 86.86\n"
     ]
    }
   ],
   "source": [
    "print(f'Chemistry: Sum = {Chemistry} Avg = {avg_chem} \\nPhysics: Sum = {Physics} Avg = {avg_phy} \\nMaths: Sum = {Maths} Avg = {avg_math}')"
   ]
  },
  {
   "cell_type": "code",
   "execution_count": 31,
   "id": "4d0a3ed3",
   "metadata": {},
   "outputs": [],
   "source": [
    "import pandas as pd\n",
    "d = pd.DataFrame(dataset)\n",
    "d.to_csv('students_data_updated.csv', index=False, header=False)"
   ]
  }
 ],
 "metadata": {
  "kernelspec": {
   "display_name": "Python 3 (ipykernel)",
   "language": "python",
   "name": "python3"
  },
  "language_info": {
   "codemirror_mode": {
    "name": "ipython",
    "version": 3
   },
   "file_extension": ".py",
   "mimetype": "text/x-python",
   "name": "python",
   "nbconvert_exporter": "python",
   "pygments_lexer": "ipython3",
   "version": "3.9.7"
  }
 },
 "nbformat": 4,
 "nbformat_minor": 5
}
