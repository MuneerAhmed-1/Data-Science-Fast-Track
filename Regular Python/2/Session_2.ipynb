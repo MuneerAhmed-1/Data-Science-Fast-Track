{
 "cells": [
  {
   "cell_type": "markdown",
   "id": "3b193c43",
   "metadata": {},
   "source": [
    "# Data Tyes"
   ]
  },
  {
   "cell_type": "code",
   "execution_count": 1,
   "id": "d78dd939",
   "metadata": {},
   "outputs": [
    {
     "data": {
      "text/plain": [
       "25"
      ]
     },
     "execution_count": 1,
     "metadata": {},
     "output_type": "execute_result"
    }
   ],
   "source": [
    "25"
   ]
  },
  {
   "cell_type": "code",
   "execution_count": 2,
   "id": "074ab4f8",
   "metadata": {},
   "outputs": [
    {
     "name": "stdout",
     "output_type": "stream",
     "text": [
      "25\n"
     ]
    }
   ],
   "source": [
    "print(25)"
   ]
  },
  {
   "cell_type": "code",
   "execution_count": 3,
   "id": "274f24bb",
   "metadata": {},
   "outputs": [],
   "source": [
    "var = 5"
   ]
  },
  {
   "cell_type": "code",
   "execution_count": 4,
   "id": "374ce805",
   "metadata": {},
   "outputs": [
    {
     "data": {
      "text/plain": [
       "5"
      ]
     },
     "execution_count": 4,
     "metadata": {},
     "output_type": "execute_result"
    }
   ],
   "source": [
    "var"
   ]
  },
  {
   "cell_type": "code",
   "execution_count": 5,
   "id": "a2ca9563",
   "metadata": {},
   "outputs": [],
   "source": [
    "#Integer\n",
    "# 25, 35, 45"
   ]
  },
  {
   "cell_type": "code",
   "execution_count": 7,
   "id": "ac778a7c",
   "metadata": {},
   "outputs": [
    {
     "data": {
      "text/plain": [
       "'Muneer Ahmed Quadri'"
      ]
     },
     "execution_count": 7,
     "metadata": {},
     "output_type": "execute_result"
    }
   ],
   "source": [
    "#String\n",
    "'Muneer Ahmed Quadri'"
   ]
  },
  {
   "cell_type": "code",
   "execution_count": 8,
   "id": "a37cadd7",
   "metadata": {},
   "outputs": [
    {
     "data": {
      "text/plain": [
       "'Data Science'"
      ]
     },
     "execution_count": 8,
     "metadata": {},
     "output_type": "execute_result"
    }
   ],
   "source": [
    "\"Data Science\""
   ]
  },
  {
   "cell_type": "code",
   "execution_count": 9,
   "id": "3bc2f884",
   "metadata": {},
   "outputs": [
    {
     "data": {
      "text/plain": [
       "\"Techma's Student\""
      ]
     },
     "execution_count": 9,
     "metadata": {},
     "output_type": "execute_result"
    }
   ],
   "source": [
    "\"Techma's Student\""
   ]
  },
  {
   "cell_type": "code",
   "execution_count": 10,
   "id": "fd993755",
   "metadata": {},
   "outputs": [],
   "source": [
    "#Float\n",
    "#20.5, 40.2, 60.8"
   ]
  },
  {
   "cell_type": "code",
   "execution_count": 12,
   "id": "42a3bcbf",
   "metadata": {},
   "outputs": [],
   "source": [
    "#Boolean/Bool\n",
    "#True/False\n",
    "#Yes/No"
   ]
  },
  {
   "cell_type": "markdown",
   "id": "3d9506d0",
   "metadata": {},
   "source": [
    "# Variable"
   ]
  },
  {
   "cell_type": "code",
   "execution_count": 13,
   "id": "f281430d",
   "metadata": {},
   "outputs": [],
   "source": [
    "#Container for storing data values."
   ]
  },
  {
   "cell_type": "markdown",
   "id": "60d3c7bc",
   "metadata": {},
   "source": [
    "# Rules\n",
    "- Variable should not start with a number or special character.\n",
    "- Variable can be in caps or small letter.\n",
    "- '_' can be used in a variable.\n",
    "- You can have numbers in a variable but not in start."
   ]
  },
  {
   "cell_type": "markdown",
   "id": "0bc11954",
   "metadata": {},
   "source": [
    "# Examples\n",
    "- a\n",
    "- a1\n",
    "- student_name\n",
    "- stu_name1"
   ]
  },
  {
   "cell_type": "code",
   "execution_count": 16,
   "id": "c33300fe",
   "metadata": {},
   "outputs": [],
   "source": [
    "name = \"Muneer Ahmed Quadri\" #string"
   ]
  },
  {
   "cell_type": "code",
   "execution_count": 17,
   "id": "604378ca",
   "metadata": {},
   "outputs": [
    {
     "data": {
      "text/plain": [
       "'Muneer Ahmed Quadri'"
      ]
     },
     "execution_count": 17,
     "metadata": {},
     "output_type": "execute_result"
    }
   ],
   "source": [
    "name"
   ]
  },
  {
   "cell_type": "code",
   "execution_count": 19,
   "id": "e994d899",
   "metadata": {},
   "outputs": [
    {
     "ename": "SyntaxError",
     "evalue": "leading zeros in decimal integer literals are not permitted; use an 0o prefix for octal integers (Temp/ipykernel_17220/674662169.py, line 1)",
     "output_type": "error",
     "traceback": [
      "\u001b[1;36m  File \u001b[1;32m\"C:\\Users\\dell\\AppData\\Local\\Temp/ipykernel_17220/674662169.py\"\u001b[1;36m, line \u001b[1;32m1\u001b[0m\n\u001b[1;33m    telephone = 012345678\u001b[0m\n\u001b[1;37m                        ^\u001b[0m\n\u001b[1;31mSyntaxError\u001b[0m\u001b[1;31m:\u001b[0m leading zeros in decimal integer literals are not permitted; use an 0o prefix for octal integers\n"
     ]
    }
   ],
   "source": [
    "telephone = 012345678"
   ]
  },
  {
   "cell_type": "code",
   "execution_count": 22,
   "id": "1d7bbcb1",
   "metadata": {},
   "outputs": [],
   "source": [
    "telephone = '012345678'"
   ]
  },
  {
   "cell_type": "code",
   "execution_count": 21,
   "id": "4feddf5b",
   "metadata": {},
   "outputs": [],
   "source": [
    "telephone = 12345678\n",
    "#Integers can not start with zero."
   ]
  },
  {
   "cell_type": "code",
   "execution_count": 23,
   "id": "b46c974d",
   "metadata": {},
   "outputs": [
    {
     "name": "stdout",
     "output_type": "stream",
     "text": [
      "Muneer Ahmed Quadri\n"
     ]
    }
   ],
   "source": [
    "print(name)"
   ]
  },
  {
   "cell_type": "markdown",
   "id": "6d511261",
   "metadata": {},
   "source": [
    "# type()"
   ]
  },
  {
   "cell_type": "code",
   "execution_count": 24,
   "id": "c0e84afd",
   "metadata": {},
   "outputs": [
    {
     "data": {
      "text/plain": [
       "str"
      ]
     },
     "execution_count": 24,
     "metadata": {},
     "output_type": "execute_result"
    }
   ],
   "source": [
    "type(name)"
   ]
  },
  {
   "cell_type": "code",
   "execution_count": 25,
   "id": "4ff8d59b",
   "metadata": {},
   "outputs": [
    {
     "data": {
      "text/plain": [
       "str"
      ]
     },
     "execution_count": 25,
     "metadata": {},
     "output_type": "execute_result"
    }
   ],
   "source": [
    "type(telephone)"
   ]
  },
  {
   "cell_type": "code",
   "execution_count": 26,
   "id": "d57d105f",
   "metadata": {},
   "outputs": [],
   "source": [
    "isMorning = False"
   ]
  },
  {
   "cell_type": "code",
   "execution_count": 27,
   "id": "1c78d766",
   "metadata": {},
   "outputs": [
    {
     "data": {
      "text/plain": [
       "bool"
      ]
     },
     "execution_count": 27,
     "metadata": {},
     "output_type": "execute_result"
    }
   ],
   "source": [
    "type(isMorning)"
   ]
  },
  {
   "cell_type": "code",
   "execution_count": 28,
   "id": "4cdc3592",
   "metadata": {},
   "outputs": [
    {
     "data": {
      "text/plain": [
       "int"
      ]
     },
     "execution_count": 28,
     "metadata": {},
     "output_type": "execute_result"
    }
   ],
   "source": [
    "type(1234)"
   ]
  },
  {
   "cell_type": "markdown",
   "id": "5f9ba313",
   "metadata": {},
   "source": [
    "# Type Casting"
   ]
  },
  {
   "cell_type": "code",
   "execution_count": 30,
   "id": "76963624",
   "metadata": {},
   "outputs": [],
   "source": [
    "num = '1234'"
   ]
  },
  {
   "cell_type": "code",
   "execution_count": 31,
   "id": "8c6b95f1",
   "metadata": {},
   "outputs": [
    {
     "data": {
      "text/plain": [
       "str"
      ]
     },
     "execution_count": 31,
     "metadata": {},
     "output_type": "execute_result"
    }
   ],
   "source": [
    "type(num)"
   ]
  },
  {
   "cell_type": "code",
   "execution_count": 32,
   "id": "b43dd248",
   "metadata": {},
   "outputs": [
    {
     "data": {
      "text/plain": [
       "1234"
      ]
     },
     "execution_count": 32,
     "metadata": {},
     "output_type": "execute_result"
    }
   ],
   "source": [
    "int(num)"
   ]
  },
  {
   "cell_type": "code",
   "execution_count": 33,
   "id": "0a3b930c",
   "metadata": {},
   "outputs": [
    {
     "data": {
      "text/plain": [
       "str"
      ]
     },
     "execution_count": 33,
     "metadata": {},
     "output_type": "execute_result"
    }
   ],
   "source": [
    "type(num)"
   ]
  },
  {
   "cell_type": "code",
   "execution_count": 34,
   "id": "ba655967",
   "metadata": {},
   "outputs": [],
   "source": [
    "num = int(num)"
   ]
  },
  {
   "cell_type": "code",
   "execution_count": 35,
   "id": "ef277e1c",
   "metadata": {},
   "outputs": [
    {
     "data": {
      "text/plain": [
       "int"
      ]
     },
     "execution_count": 35,
     "metadata": {},
     "output_type": "execute_result"
    }
   ],
   "source": [
    "type(num)"
   ]
  },
  {
   "cell_type": "code",
   "execution_count": 36,
   "id": "8f81fcf2",
   "metadata": {},
   "outputs": [],
   "source": [
    "#str()\n",
    "#float()"
   ]
  },
  {
   "cell_type": "markdown",
   "id": "4c8a6e52",
   "metadata": {},
   "source": [
    "# Strings"
   ]
  },
  {
   "cell_type": "code",
   "execution_count": 37,
   "id": "6e9d9c04",
   "metadata": {},
   "outputs": [
    {
     "data": {
      "text/plain": [
       "'Muneer Ahmed Quadri'"
      ]
     },
     "execution_count": 37,
     "metadata": {},
     "output_type": "execute_result"
    }
   ],
   "source": [
    "name"
   ]
  },
  {
   "cell_type": "code",
   "execution_count": 38,
   "id": "d15f1905",
   "metadata": {},
   "outputs": [
    {
     "data": {
      "text/plain": [
       "'My name is Muneer'"
      ]
     },
     "execution_count": 38,
     "metadata": {},
     "output_type": "execute_result"
    }
   ],
   "source": [
    "\"My name is Muneer\""
   ]
  },
  {
   "cell_type": "code",
   "execution_count": 40,
   "id": "7a617b12",
   "metadata": {},
   "outputs": [
    {
     "name": "stdout",
     "output_type": "stream",
     "text": [
      "Enter your name: Muneer Ahmed Quadri\n"
     ]
    }
   ],
   "source": [
    "name = input(\"Enter your name: \")"
   ]
  },
  {
   "cell_type": "code",
   "execution_count": 41,
   "id": "1b536633",
   "metadata": {},
   "outputs": [
    {
     "data": {
      "text/plain": [
       "str"
      ]
     },
     "execution_count": 41,
     "metadata": {},
     "output_type": "execute_result"
    }
   ],
   "source": [
    "type(name)"
   ]
  },
  {
   "cell_type": "code",
   "execution_count": 1,
   "id": "fde11883",
   "metadata": {},
   "outputs": [
    {
     "name": "stdout",
     "output_type": "stream",
     "text": [
      "Enter a number: 12345\n"
     ]
    },
    {
     "data": {
      "text/plain": [
       "int"
      ]
     },
     "execution_count": 1,
     "metadata": {},
     "output_type": "execute_result"
    }
   ],
   "source": [
    "num  = int(input(\"Enter a number: \"))\n",
    "type(num)"
   ]
  },
  {
   "cell_type": "code",
   "execution_count": 2,
   "id": "386797e8",
   "metadata": {},
   "outputs": [
    {
     "name": "stdout",
     "output_type": "stream",
     "text": [
      "Enter a number: Muneer\n"
     ]
    },
    {
     "ename": "ValueError",
     "evalue": "invalid literal for int() with base 10: 'Muneer'",
     "output_type": "error",
     "traceback": [
      "\u001b[1;31m---------------------------------------------------------------------------\u001b[0m",
      "\u001b[1;31mValueError\u001b[0m                                Traceback (most recent call last)",
      "\u001b[1;32m~\\AppData\\Local\\Temp/ipykernel_10808/3478236258.py\u001b[0m in \u001b[0;36m<module>\u001b[1;34m\u001b[0m\n\u001b[1;32m----> 1\u001b[1;33m \u001b[0mnum\u001b[0m  \u001b[1;33m=\u001b[0m \u001b[0mint\u001b[0m\u001b[1;33m(\u001b[0m\u001b[0minput\u001b[0m\u001b[1;33m(\u001b[0m\u001b[1;34m\"Enter a number: \"\u001b[0m\u001b[1;33m)\u001b[0m\u001b[1;33m)\u001b[0m\u001b[1;33m\u001b[0m\u001b[1;33m\u001b[0m\u001b[0m\n\u001b[0m\u001b[0;32m      2\u001b[0m \u001b[0mtype\u001b[0m\u001b[1;33m(\u001b[0m\u001b[0mnum\u001b[0m\u001b[1;33m)\u001b[0m\u001b[1;33m\u001b[0m\u001b[1;33m\u001b[0m\u001b[0m\n",
      "\u001b[1;31mValueError\u001b[0m: invalid literal for int() with base 10: 'Muneer'"
     ]
    }
   ],
   "source": [
    "num  = int(input(\"Enter a number: \"))\n",
    "type(num)"
   ]
  },
  {
   "cell_type": "code",
   "execution_count": 2,
   "id": "e01ba5b2",
   "metadata": {},
   "outputs": [
    {
     "name": "stdout",
     "output_type": "stream",
     "text": [
      "Enter your number: Muneer\n",
      "Hello, Mr./Mrs. Ahmed\n"
     ]
    }
   ],
   "source": [
    "name = input(\"Enter your number: \")\n",
    "print('Hello, Mr./Mrs. Ahmed')"
   ]
  },
  {
   "cell_type": "code",
   "execution_count": 3,
   "id": "d7278173",
   "metadata": {},
   "outputs": [
    {
     "name": "stdout",
     "output_type": "stream",
     "text": [
      "Enter your number: Muneer\n",
      "Hello, Mr./Mrs. Muneer\n"
     ]
    }
   ],
   "source": [
    "name = input(\"Enter your number: \")\n",
    "print('Hello, Mr./Mrs. '+ name) #Concatenation"
   ]
  },
  {
   "cell_type": "code",
   "execution_count": 5,
   "id": "51314603",
   "metadata": {},
   "outputs": [
    {
     "name": "stdout",
     "output_type": "stream",
     "text": [
      "Enter your number: Muneer\n",
      "Hello, Mr./Mrs. Muneer\n"
     ]
    }
   ],
   "source": [
    "name = input(\"Enter your number: \")\n",
    "print('Hello, Mr./Mrs.', name)"
   ]
  },
  {
   "cell_type": "code",
   "execution_count": 6,
   "id": "7425adb2",
   "metadata": {},
   "outputs": [
    {
     "name": "stdout",
     "output_type": "stream",
     "text": [
      "Enter your number: Muneer\n",
      "Hello, Mr./Mrs. Muneer\n"
     ]
    }
   ],
   "source": [
    "name = input(\"Enter your number: \")\n",
    "print(f'Hello, Mr./Mrs. {name}') #Formatting"
   ]
  },
  {
   "cell_type": "markdown",
   "id": "834c3f66",
   "metadata": {},
   "source": [
    "# Length"
   ]
  },
  {
   "cell_type": "code",
   "execution_count": 9,
   "id": "bae2ef27",
   "metadata": {},
   "outputs": [
    {
     "name": "stdout",
     "output_type": "stream",
     "text": [
      "Muneer\n"
     ]
    },
    {
     "data": {
      "text/plain": [
       "6"
      ]
     },
     "execution_count": 9,
     "metadata": {},
     "output_type": "execute_result"
    }
   ],
   "source": [
    "#len()\n",
    "print(name)\n",
    "len(name)"
   ]
  },
  {
   "cell_type": "markdown",
   "id": "15d528b0",
   "metadata": {},
   "source": [
    "# Slicing"
   ]
  },
  {
   "cell_type": "code",
   "execution_count": 10,
   "id": "c078f948",
   "metadata": {},
   "outputs": [],
   "source": [
    "name = 'Techma Zone'"
   ]
  },
  {
   "cell_type": "code",
   "execution_count": 11,
   "id": "8cf001ef",
   "metadata": {},
   "outputs": [],
   "source": [
    "#T->0\n",
    "#e->1\n",
    "#c->2"
   ]
  },
  {
   "cell_type": "code",
   "execution_count": 12,
   "id": "186c281c",
   "metadata": {},
   "outputs": [
    {
     "data": {
      "text/plain": [
       "11"
      ]
     },
     "execution_count": 12,
     "metadata": {},
     "output_type": "execute_result"
    }
   ],
   "source": [
    "len(name)"
   ]
  },
  {
   "cell_type": "code",
   "execution_count": 13,
   "id": "35ab5133",
   "metadata": {},
   "outputs": [
    {
     "data": {
      "text/plain": [
       "'c'"
      ]
     },
     "execution_count": 13,
     "metadata": {},
     "output_type": "execute_result"
    }
   ],
   "source": [
    "name[2]"
   ]
  },
  {
   "cell_type": "code",
   "execution_count": 14,
   "id": "be071d99",
   "metadata": {},
   "outputs": [
    {
     "data": {
      "text/plain": [
       "'h'"
      ]
     },
     "execution_count": 14,
     "metadata": {},
     "output_type": "execute_result"
    }
   ],
   "source": [
    "name[3]"
   ]
  },
  {
   "cell_type": "code",
   "execution_count": 15,
   "id": "4c33ab73",
   "metadata": {},
   "outputs": [
    {
     "data": {
      "text/plain": [
       "'Techma'"
      ]
     },
     "execution_count": 15,
     "metadata": {},
     "output_type": "execute_result"
    }
   ],
   "source": [
    "#name[start:stop(n-1):number of steps]\n",
    "name[0:6]"
   ]
  },
  {
   "cell_type": "code",
   "execution_count": 16,
   "id": "e31bf643",
   "metadata": {},
   "outputs": [
    {
     "name": "stdout",
     "output_type": "stream",
     "text": [
      "Techma\n",
      "Zone\n"
     ]
    }
   ],
   "source": [
    "print(name[:6])\n",
    "print(name[7:])"
   ]
  },
  {
   "cell_type": "code",
   "execution_count": 17,
   "id": "8f1b615d",
   "metadata": {},
   "outputs": [
    {
     "data": {
      "text/plain": [
       "'e'"
      ]
     },
     "execution_count": 17,
     "metadata": {},
     "output_type": "execute_result"
    }
   ],
   "source": [
    "name[-1]"
   ]
  },
  {
   "cell_type": "code",
   "execution_count": 18,
   "id": "e299c562",
   "metadata": {},
   "outputs": [
    {
     "data": {
      "text/plain": [
       "'enoZ amhceT'"
      ]
     },
     "execution_count": 18,
     "metadata": {},
     "output_type": "execute_result"
    }
   ],
   "source": [
    "name[::-1]"
   ]
  },
  {
   "cell_type": "code",
   "execution_count": 19,
   "id": "8e775446",
   "metadata": {},
   "outputs": [
    {
     "data": {
      "text/plain": [
       "'Techma Zone'"
      ]
     },
     "execution_count": 19,
     "metadata": {},
     "output_type": "execute_result"
    }
   ],
   "source": [
    "name[::1]"
   ]
  },
  {
   "cell_type": "code",
   "execution_count": 20,
   "id": "32b28e1e",
   "metadata": {},
   "outputs": [
    {
     "data": {
      "text/plain": [
       "'Tcm oe'"
      ]
     },
     "execution_count": 20,
     "metadata": {},
     "output_type": "execute_result"
    }
   ],
   "source": [
    "name[::2]"
   ]
  },
  {
   "cell_type": "markdown",
   "id": "8f4949f7",
   "metadata": {},
   "source": [
    "# Boolean and Operators"
   ]
  },
  {
   "cell_type": "code",
   "execution_count": 21,
   "id": "a57341dd",
   "metadata": {},
   "outputs": [
    {
     "data": {
      "text/plain": [
       "True"
      ]
     },
     "execution_count": 21,
     "metadata": {},
     "output_type": "execute_result"
    }
   ],
   "source": [
    "#bool()\n",
    "bool('name')"
   ]
  },
  {
   "cell_type": "code",
   "execution_count": 22,
   "id": "2bb4b8bc",
   "metadata": {},
   "outputs": [
    {
     "data": {
      "text/plain": [
       "False"
      ]
     },
     "execution_count": 22,
     "metadata": {},
     "output_type": "execute_result"
    }
   ],
   "source": [
    "#null values\n",
    "bool(None)"
   ]
  },
  {
   "cell_type": "code",
   "execution_count": 24,
   "id": "81a6dc32",
   "metadata": {},
   "outputs": [
    {
     "data": {
      "text/plain": [
       "29"
      ]
     },
     "execution_count": 24,
     "metadata": {},
     "output_type": "execute_result"
    }
   ],
   "source": [
    "#Airthmetic Operator\n",
    "20 + 9"
   ]
  },
  {
   "cell_type": "code",
   "execution_count": 26,
   "id": "504104d2",
   "metadata": {},
   "outputs": [
    {
     "data": {
      "text/plain": [
       "25"
      ]
     },
     "execution_count": 26,
     "metadata": {},
     "output_type": "execute_result"
    }
   ],
   "source": [
    "age = 20+5\n",
    "age"
   ]
  },
  {
   "cell_type": "code",
   "execution_count": 28,
   "id": "ae5e7db6",
   "metadata": {},
   "outputs": [
    {
     "data": {
      "text/plain": [
       "50"
      ]
     },
     "execution_count": 28,
     "metadata": {},
     "output_type": "execute_result"
    }
   ],
   "source": [
    "100-50"
   ]
  },
  {
   "cell_type": "code",
   "execution_count": 29,
   "id": "7d6f5ed9",
   "metadata": {},
   "outputs": [
    {
     "data": {
      "text/plain": [
       "5000"
      ]
     },
     "execution_count": 29,
     "metadata": {},
     "output_type": "execute_result"
    }
   ],
   "source": [
    "100*50"
   ]
  },
  {
   "cell_type": "code",
   "execution_count": 30,
   "id": "083304df",
   "metadata": {},
   "outputs": [
    {
     "data": {
      "text/plain": [
       "20.0"
      ]
     },
     "execution_count": 30,
     "metadata": {},
     "output_type": "execute_result"
    }
   ],
   "source": [
    "100/5"
   ]
  },
  {
   "cell_type": "code",
   "execution_count": 31,
   "id": "3eb55009",
   "metadata": {},
   "outputs": [
    {
     "data": {
      "text/plain": [
       "20"
      ]
     },
     "execution_count": 31,
     "metadata": {},
     "output_type": "execute_result"
    }
   ],
   "source": [
    "100//5 #floor division"
   ]
  },
  {
   "cell_type": "code",
   "execution_count": 33,
   "id": "9dfa7e4e",
   "metadata": {},
   "outputs": [
    {
     "data": {
      "text/plain": [
       "100000"
      ]
     },
     "execution_count": 33,
     "metadata": {},
     "output_type": "execute_result"
    }
   ],
   "source": [
    "10**5"
   ]
  },
  {
   "cell_type": "code",
   "execution_count": 2,
   "id": "19485b4a",
   "metadata": {},
   "outputs": [
    {
     "data": {
      "text/plain": [
       "20"
      ]
     },
     "execution_count": 2,
     "metadata": {},
     "output_type": "execute_result"
    }
   ],
   "source": [
    "100%40"
   ]
  },
  {
   "cell_type": "markdown",
   "id": "900dd980",
   "metadata": {},
   "source": [
    "# Comparision Operator"
   ]
  },
  {
   "cell_type": "code",
   "execution_count": 3,
   "id": "fa7b3cbb",
   "metadata": {},
   "outputs": [
    {
     "data": {
      "text/plain": [
       "True"
      ]
     },
     "execution_count": 3,
     "metadata": {},
     "output_type": "execute_result"
    }
   ],
   "source": [
    "5 == 5"
   ]
  },
  {
   "cell_type": "code",
   "execution_count": 4,
   "id": "04feb854",
   "metadata": {},
   "outputs": [
    {
     "data": {
      "text/plain": [
       "False"
      ]
     },
     "execution_count": 4,
     "metadata": {},
     "output_type": "execute_result"
    }
   ],
   "source": [
    "5 != 5"
   ]
  },
  {
   "cell_type": "code",
   "execution_count": 5,
   "id": "97283808",
   "metadata": {},
   "outputs": [
    {
     "data": {
      "text/plain": [
       "True"
      ]
     },
     "execution_count": 5,
     "metadata": {},
     "output_type": "execute_result"
    }
   ],
   "source": [
    "10 > 5"
   ]
  },
  {
   "cell_type": "code",
   "execution_count": 6,
   "id": "12cdf5dc",
   "metadata": {},
   "outputs": [
    {
     "data": {
      "text/plain": [
       "False"
      ]
     },
     "execution_count": 6,
     "metadata": {},
     "output_type": "execute_result"
    }
   ],
   "source": [
    "10 < 5"
   ]
  },
  {
   "cell_type": "markdown",
   "id": "491b8655",
   "metadata": {},
   "source": [
    "# Program"
   ]
  },
  {
   "cell_type": "code",
   "execution_count": 7,
   "id": "0b87f352",
   "metadata": {},
   "outputs": [
    {
     "name": "stdout",
     "output_type": "stream",
     "text": [
      "Enter any number: 12\n"
     ]
    },
    {
     "data": {
      "text/plain": [
       "False"
      ]
     },
     "execution_count": 7,
     "metadata": {},
     "output_type": "execute_result"
    }
   ],
   "source": [
    "age = int(input(\"Enter any number: \"))\n",
    "age >= 18"
   ]
  },
  {
   "cell_type": "code",
   "execution_count": 8,
   "id": "05f6c80c",
   "metadata": {},
   "outputs": [
    {
     "name": "stdout",
     "output_type": "stream",
     "text": [
      "Enter any number: 18\n"
     ]
    },
    {
     "data": {
      "text/plain": [
       "True"
      ]
     },
     "execution_count": 8,
     "metadata": {},
     "output_type": "execute_result"
    }
   ],
   "source": [
    "age = int(input(\"Enter any number: \"))\n",
    "age >= 18"
   ]
  },
  {
   "cell_type": "code",
   "execution_count": null,
   "id": "bb3bfb8e",
   "metadata": {},
   "outputs": [],
   "source": []
  }
 ],
 "metadata": {
  "kernelspec": {
   "display_name": "Python 3 (ipykernel)",
   "language": "python",
   "name": "python3"
  },
  "language_info": {
   "codemirror_mode": {
    "name": "ipython",
    "version": 3
   },
   "file_extension": ".py",
   "mimetype": "text/x-python",
   "name": "python",
   "nbconvert_exporter": "python",
   "pygments_lexer": "ipython3",
   "version": "3.9.7"
  }
 },
 "nbformat": 4,
 "nbformat_minor": 5
}
