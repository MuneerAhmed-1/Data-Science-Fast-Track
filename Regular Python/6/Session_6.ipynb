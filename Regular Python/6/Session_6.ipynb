{
 "cells": [
  {
   "cell_type": "markdown",
   "id": "45514a19",
   "metadata": {},
   "source": [
    "# Generating frequency table using Dictionary"
   ]
  },
  {
   "cell_type": "code",
   "execution_count": 1,
   "id": "7d6b2da5",
   "metadata": {},
   "outputs": [],
   "source": [
    "from csv import reader"
   ]
  },
  {
   "cell_type": "code",
   "execution_count": 2,
   "id": "bf19e5df",
   "metadata": {},
   "outputs": [],
   "source": [
    "fruits = ['banana', 'orange', 'kiwi', 'apple', 'banana', 'orange', 'peach', 'kiwi', 'orange', 'peach', 'kiwi', 'apple', 'banana', 'peach', 'kiwi', 'apple', 'banana', 'kiwi']"
   ]
  },
  {
   "cell_type": "code",
   "execution_count": 3,
   "id": "c26362f6",
   "metadata": {},
   "outputs": [],
   "source": [
    "freq = {}\n",
    "for i in fruits:\n",
    "    if i not in freq:\n",
    "        freq[i] = 1\n",
    "    else:\n",
    "        freq[i] += 1"
   ]
  },
  {
   "cell_type": "code",
   "execution_count": 4,
   "id": "c748236f",
   "metadata": {},
   "outputs": [
    {
     "data": {
      "text/plain": [
       "{'banana': 4, 'orange': 3, 'kiwi': 5, 'apple': 3, 'peach': 3}"
      ]
     },
     "execution_count": 4,
     "metadata": {},
     "output_type": "execute_result"
    }
   ],
   "source": [
    "freq"
   ]
  },
  {
   "cell_type": "code",
   "execution_count": 5,
   "id": "51153b84",
   "metadata": {},
   "outputs": [
    {
     "data": {
      "text/plain": [
       "dict_items([('banana', 4), ('orange', 3), ('kiwi', 5), ('apple', 3), ('peach', 3)])"
      ]
     },
     "execution_count": 5,
     "metadata": {},
     "output_type": "execute_result"
    }
   ],
   "source": [
    "freq.items()"
   ]
  },
  {
   "cell_type": "markdown",
   "id": "5e98e55d",
   "metadata": {},
   "source": [
    "# str.format() method"
   ]
  },
  {
   "cell_type": "code",
   "execution_count": 6,
   "id": "f72128e8",
   "metadata": {},
   "outputs": [
    {
     "data": {
      "text/plain": [
       "'saad is a Data Scientist'"
      ]
     },
     "execution_count": 6,
     "metadata": {},
     "output_type": "execute_result"
    }
   ],
   "source": [
    "'saad is a Data Scientist'"
   ]
  },
  {
   "cell_type": "code",
   "execution_count": 7,
   "id": "72d33166",
   "metadata": {},
   "outputs": [],
   "source": [
    "dataset = list(reader(open('students_data_updated.csv', encoding = 'utf-8')))"
   ]
  },
  {
   "cell_type": "code",
   "execution_count": 8,
   "id": "5381b68e",
   "metadata": {},
   "outputs": [
    {
     "name": "stdout",
     "output_type": "stream",
     "text": [
      "saad is a Data Scientist and achieve 80.0 grade in their exams. their salary is 100,000 \n"
     ]
    }
   ],
   "source": [
    "name = 'saad'\n",
    "per = '80.0'\n",
    "salary = 100000\n",
    "print('{} is a Data Scientist and achieve {} grade in their exams. their salary is {:,} '.format(name, per, salary))"
   ]
  },
  {
   "cell_type": "code",
   "execution_count": 9,
   "id": "166ec6f9",
   "metadata": {},
   "outputs": [
    {
     "name": "stdout",
     "output_type": "stream",
     "text": [
      "saad is a Data Scientist and achieve 80.0 grade in their exams. their salary is 100,000.0 \n"
     ]
    }
   ],
   "source": [
    "print('{} is a Data Scientist and achieve {} grade in their exams. their salary is {:,.1f} '.format(name, per, salary))"
   ]
  },
  {
   "cell_type": "code",
   "execution_count": 10,
   "id": "44038f2c",
   "metadata": {},
   "outputs": [
    {
     "name": "stdout",
     "output_type": "stream",
     "text": [
      "saad is a Data Scientist and achieve 80.0 grade in their exams. their salary is 100000.0 \n"
     ]
    }
   ],
   "source": [
    "print('{} is a Data Scientist and achieve {} grade in their exams. their salary is {:.1f} '.format(name, per, salary))"
   ]
  },
  {
   "cell_type": "markdown",
   "id": "5bb535b5",
   "metadata": {},
   "source": [
    "# Functions"
   ]
  },
  {
   "cell_type": "raw",
   "id": "49beec05",
   "metadata": {},
   "source": [
    "def fun_name():\n",
    "    statements\n",
    "    return value"
   ]
  },
  {
   "cell_type": "code",
   "execution_count": 11,
   "id": "6d370aea",
   "metadata": {},
   "outputs": [],
   "source": [
    "def output():\n",
    "    return 'Hello World'"
   ]
  },
  {
   "cell_type": "code",
   "execution_count": 12,
   "id": "08dd13d5",
   "metadata": {},
   "outputs": [],
   "source": [
    "x = output()"
   ]
  },
  {
   "cell_type": "code",
   "execution_count": 13,
   "id": "c319bd78",
   "metadata": {},
   "outputs": [
    {
     "name": "stdout",
     "output_type": "stream",
     "text": [
      "Hello World\n"
     ]
    }
   ],
   "source": [
    "print(x)"
   ]
  },
  {
   "cell_type": "code",
   "execution_count": 14,
   "id": "be62b3ae",
   "metadata": {},
   "outputs": [],
   "source": [
    "def add(x, y):\n",
    "    return x+y"
   ]
  },
  {
   "cell_type": "code",
   "execution_count": 15,
   "id": "51927ce5",
   "metadata": {},
   "outputs": [
    {
     "data": {
      "text/plain": [
       "27"
      ]
     },
     "execution_count": 15,
     "metadata": {},
     "output_type": "execute_result"
    }
   ],
   "source": [
    "add(12, 15)"
   ]
  },
  {
   "cell_type": "code",
   "execution_count": 16,
   "id": "fe659779",
   "metadata": {},
   "outputs": [],
   "source": [
    "def calculator(a, b, c):\n",
    "    return a+b, b-c"
   ]
  },
  {
   "cell_type": "code",
   "execution_count": 17,
   "id": "0a8d7ff8",
   "metadata": {},
   "outputs": [],
   "source": [
    "ansa, ansb = calculator(5, 7, 3)"
   ]
  },
  {
   "cell_type": "code",
   "execution_count": 18,
   "id": "83d1b0f3",
   "metadata": {},
   "outputs": [
    {
     "data": {
      "text/plain": [
       "12"
      ]
     },
     "execution_count": 18,
     "metadata": {},
     "output_type": "execute_result"
    }
   ],
   "source": [
    "ansa"
   ]
  },
  {
   "cell_type": "code",
   "execution_count": 19,
   "id": "1d4f3fbc",
   "metadata": {},
   "outputs": [
    {
     "data": {
      "text/plain": [
       "4"
      ]
     },
     "execution_count": 19,
     "metadata": {},
     "output_type": "execute_result"
    }
   ],
   "source": [
    "ansb"
   ]
  },
  {
   "cell_type": "code",
   "execution_count": 20,
   "id": "12135557",
   "metadata": {},
   "outputs": [
    {
     "data": {
      "text/plain": [
       "(10, 2)"
      ]
     },
     "execution_count": 20,
     "metadata": {},
     "output_type": "execute_result"
    }
   ],
   "source": [
    "calculator(c=5, a=3, b=7)"
   ]
  },
  {
   "cell_type": "code",
   "execution_count": 21,
   "id": "b614154a",
   "metadata": {},
   "outputs": [],
   "source": [
    "def discount(price, rate = 0.15):\n",
    "    return price * rate"
   ]
  },
  {
   "cell_type": "code",
   "execution_count": 22,
   "id": "21595f0b",
   "metadata": {},
   "outputs": [
    {
     "data": {
      "text/plain": [
       "15.0"
      ]
     },
     "execution_count": 22,
     "metadata": {},
     "output_type": "execute_result"
    }
   ],
   "source": [
    "discount(100)"
   ]
  },
  {
   "cell_type": "code",
   "execution_count": 23,
   "id": "6b992c0a",
   "metadata": {},
   "outputs": [
    {
     "data": {
      "text/plain": [
       "10.0"
      ]
     },
     "execution_count": 23,
     "metadata": {},
     "output_type": "execute_result"
    }
   ],
   "source": [
    "discount(100, 0.10)"
   ]
  },
  {
   "cell_type": "markdown",
   "id": "50ea4aac",
   "metadata": {},
   "source": [
    "# Skill Test:"
   ]
  },
  {
   "cell_type": "code",
   "execution_count": 24,
   "id": "ea4eaa77",
   "metadata": {},
   "outputs": [],
   "source": [
    "header = dataset[0]\n",
    "data = dataset[1:]"
   ]
  },
  {
   "cell_type": "code",
   "execution_count": 25,
   "id": "84818a28",
   "metadata": {},
   "outputs": [],
   "source": [
    "for i in data:\n",
    "    per = float(i[6])\n",
    "    if 90 <= per <= 100:\n",
    "        i.insert(7, 'A+')\n",
    "    elif 80 <= per < 90:\n",
    "        i.insert(7, 'A')\n",
    "    elif 70 <= per < 80:\n",
    "        i.insert(7, 'B')\n",
    "    elif 60 <= per < 70:\n",
    "        i.insert(7, 'C')\n",
    "    elif 50 <= per < 60:\n",
    "        i.insert(7, 'D')\n",
    "    else:\n",
    "        i.insert(7, 'Fail')"
   ]
  },
  {
   "cell_type": "code",
   "execution_count": 26,
   "id": "65e58c09",
   "metadata": {},
   "outputs": [
    {
     "data": {
      "text/plain": [
       "[['101', 'Aliza', '45', '99', '88', '232', '77.33', 'B'],\n",
       " ['102', 'Soban', '50', '97', '87', '234', '78.0', 'B'],\n",
       " ['103', 'Noman', '43', '94', '89', '226', '75.33', 'B'],\n",
       " ['104', 'Bilal', '42', '87', '85', '214', '71.33', 'B'],\n",
       " ['105', 'Saim', '39', '76', '76', '191', '63.67', 'C'],\n",
       " ['106', 'Shameer', '38', '58', '75', '171', '57.0', 'D'],\n",
       " ['107', 'Zainab', '47', '92', '78', '217', '72.33', 'B'],\n",
       " ['108', 'Umer', '46', '86', '73', '205', '68.33', 'C'],\n",
       " ['109', 'Umair', '35', '83', '89', '207', '69.0', 'C'],\n",
       " ['110', 'Fizzah', '36', '81', '97', '214', '71.33', 'B'],\n",
       " ['111', 'Zahra', '49', '90', '94', '233', '77.67', 'B'],\n",
       " ['112', 'Fatima', '45', '88', '99', '232', '77.33', 'B'],\n",
       " ['113', 'Tooba', '43', '80', '93', '216', '72.0', 'B'],\n",
       " ['114', 'Saad', '42', '90', '77', '209', '69.67', 'C'],\n",
       " ['115', 'Azher', '41', '93', '98', '232', '77.33', 'B'],\n",
       " ['116', 'Danial', '34', '82', '87', '203', '67.67', 'C'],\n",
       " ['117', 'kaiser', '45', '91', '86', '222', '74.0', 'B'],\n",
       " ['118', 'Jibran', '46', '77', '78', '201', '67.0', 'C'],\n",
       " ['119', 'Maria', '43', '69', '94', '206', '68.67', 'C'],\n",
       " ['120', 'Amna', '38', '89', '91', '218', '72.67', 'B'],\n",
       " ['121', 'Noreen', '37', '98', '90', '225', '75.0', 'B']]"
      ]
     },
     "execution_count": 26,
     "metadata": {},
     "output_type": "execute_result"
    }
   ],
   "source": [
    "data"
   ]
  },
  {
   "cell_type": "code",
   "execution_count": 29,
   "id": "dba0c6f3",
   "metadata": {},
   "outputs": [],
   "source": [
    "def grades():\n",
    "    freq = {}\n",
    "    for i in data:\n",
    "        if i[7] not in freq:\n",
    "            freq[i[7]] = 1\n",
    "        else:\n",
    "            freq[i[7]] += 1\n",
    "    return freq"
   ]
  },
  {
   "cell_type": "code",
   "execution_count": 30,
   "id": "2e50fdf0",
   "metadata": {},
   "outputs": [
    {
     "data": {
      "text/plain": [
       "{'B': 13, 'C': 7, 'D': 1}"
      ]
     },
     "execution_count": 30,
     "metadata": {},
     "output_type": "execute_result"
    }
   ],
   "source": [
    "grades()"
   ]
  },
  {
   "cell_type": "code",
   "execution_count": 33,
   "id": "198942df",
   "metadata": {},
   "outputs": [
    {
     "data": {
      "text/plain": [
       "['Roll No.',\n",
       " 'Name',\n",
       " 'Chemistry',\n",
       " 'Physics',\n",
       " 'Maths',\n",
       " 'Obtain Marks',\n",
       " 'Percentage',\n",
       " 'Grades']"
      ]
     },
     "execution_count": 33,
     "metadata": {},
     "output_type": "execute_result"
    }
   ],
   "source": [
    "header"
   ]
  },
  {
   "cell_type": "code",
   "execution_count": null,
   "id": "f65fdb9d",
   "metadata": {},
   "outputs": [],
   "source": []
  }
 ],
 "metadata": {
  "kernelspec": {
   "display_name": "Python 3 (ipykernel)",
   "language": "python",
   "name": "python3"
  },
  "language_info": {
   "codemirror_mode": {
    "name": "ipython",
    "version": 3
   },
   "file_extension": ".py",
   "mimetype": "text/x-python",
   "name": "python",
   "nbconvert_exporter": "python",
   "pygments_lexer": "ipython3",
   "version": "3.9.7"
  }
 },
 "nbformat": 4,
 "nbformat_minor": 5
}
