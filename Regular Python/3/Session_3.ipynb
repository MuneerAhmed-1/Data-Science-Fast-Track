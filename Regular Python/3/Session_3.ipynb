{
 "cells": [
  {
   "cell_type": "markdown",
   "id": "6b6ec10e",
   "metadata": {},
   "source": [
    "# Lists\n",
    "- Can be of any length\n",
    "- Can have more than one datatype\n",
    "- Can allow duplicates"
   ]
  },
  {
   "cell_type": "code",
   "execution_count": 4,
   "id": "245112b0",
   "metadata": {},
   "outputs": [],
   "source": [
    "#variable\n",
    "a = 5"
   ]
  },
  {
   "cell_type": "code",
   "execution_count": 5,
   "id": "702ed72d",
   "metadata": {},
   "outputs": [],
   "source": [
    "#list\n",
    "fruits = ['apple', 'banana', 'orange', 'mango']"
   ]
  },
  {
   "cell_type": "code",
   "execution_count": 6,
   "id": "83e0937b",
   "metadata": {},
   "outputs": [],
   "source": [
    "name = ['apple', 5, 5.5, True]"
   ]
  },
  {
   "cell_type": "code",
   "execution_count": 7,
   "id": "c2ce3072",
   "metadata": {},
   "outputs": [
    {
     "data": {
      "text/plain": [
       "list"
      ]
     },
     "execution_count": 7,
     "metadata": {},
     "output_type": "execute_result"
    }
   ],
   "source": [
    "type(name)"
   ]
  },
  {
   "cell_type": "code",
   "execution_count": 8,
   "id": "f860efa6",
   "metadata": {},
   "outputs": [],
   "source": [
    "name = ['apple', 5, 5.5, True, 'apple']"
   ]
  },
  {
   "cell_type": "code",
   "execution_count": 9,
   "id": "05056fb9",
   "metadata": {},
   "outputs": [
    {
     "data": {
      "text/plain": [
       "5"
      ]
     },
     "execution_count": 9,
     "metadata": {},
     "output_type": "execute_result"
    }
   ],
   "source": [
    "len(name)"
   ]
  },
  {
   "cell_type": "code",
   "execution_count": 10,
   "id": "dc21370b",
   "metadata": {},
   "outputs": [],
   "source": [
    "staff = ['Yuann', 'Daniyal', 'Ali', 'Sara', 'Zain']"
   ]
  },
  {
   "cell_type": "code",
   "execution_count": 11,
   "id": "00b40200",
   "metadata": {},
   "outputs": [
    {
     "data": {
      "text/plain": [
       "'Ali'"
      ]
     },
     "execution_count": 11,
     "metadata": {},
     "output_type": "execute_result"
    }
   ],
   "source": [
    "staff[2]"
   ]
  },
  {
   "cell_type": "code",
   "execution_count": 12,
   "id": "cea62d72",
   "metadata": {},
   "outputs": [
    {
     "data": {
      "text/plain": [
       "['Ali', 'Sara', 'Zain']"
      ]
     },
     "execution_count": 12,
     "metadata": {},
     "output_type": "execute_result"
    }
   ],
   "source": [
    "staff[2:]"
   ]
  },
  {
   "cell_type": "code",
   "execution_count": 13,
   "id": "ebbfc1fa",
   "metadata": {},
   "outputs": [
    {
     "data": {
      "text/plain": [
       "['Yuann', 'Daniyal', 'Ali']"
      ]
     },
     "execution_count": 13,
     "metadata": {},
     "output_type": "execute_result"
    }
   ],
   "source": [
    "staff[:3]"
   ]
  },
  {
   "cell_type": "markdown",
   "id": "bc442ed4",
   "metadata": {},
   "source": [
    "# Exercise:"
   ]
  },
  {
   "cell_type": "code",
   "execution_count": 14,
   "id": "d428c930",
   "metadata": {},
   "outputs": [],
   "source": [
    "name = ['Yuann', 'Daniyal', 'Ali', 'Sara', 'Zain']\n",
    "salary = [10000, 50000, 20000, 35000, 7000]"
   ]
  },
  {
   "cell_type": "markdown",
   "id": "864d2883",
   "metadata": {},
   "source": [
    "- Total salary?\n",
    "- Daniyal, Ali, Zain?"
   ]
  },
  {
   "cell_type": "code",
   "execution_count": 15,
   "id": "43a8f3f6",
   "metadata": {},
   "outputs": [
    {
     "name": "stdout",
     "output_type": "stream",
     "text": [
      "80000\n"
     ]
    }
   ],
   "source": [
    "total = salary[0] + salary[1] + salary[2]\n",
    "print(total)"
   ]
  },
  {
   "cell_type": "code",
   "execution_count": 16,
   "id": "2e050bae",
   "metadata": {},
   "outputs": [
    {
     "data": {
      "text/plain": [
       "122000"
      ]
     },
     "execution_count": 16,
     "metadata": {},
     "output_type": "execute_result"
    }
   ],
   "source": [
    "sum(salary)"
   ]
  },
  {
   "cell_type": "markdown",
   "id": "57f3b323",
   "metadata": {},
   "source": [
    "# append()"
   ]
  },
  {
   "cell_type": "code",
   "execution_count": 17,
   "id": "32c213bd",
   "metadata": {},
   "outputs": [],
   "source": [
    "name = ['Yuann', 'Daniyal', 'Ali', 'Sara', 'Zain']"
   ]
  },
  {
   "cell_type": "code",
   "execution_count": 18,
   "id": "60b0c8a0",
   "metadata": {},
   "outputs": [],
   "source": [
    "name.append('Muneer')"
   ]
  },
  {
   "cell_type": "code",
   "execution_count": 19,
   "id": "94e85bb7",
   "metadata": {},
   "outputs": [
    {
     "data": {
      "text/plain": [
       "['Yuann', 'Daniyal', 'Ali', 'Sara', 'Zain', 'Muneer']"
      ]
     },
     "execution_count": 19,
     "metadata": {},
     "output_type": "execute_result"
    }
   ],
   "source": [
    "name"
   ]
  },
  {
   "cell_type": "code",
   "execution_count": 20,
   "id": "b6525499",
   "metadata": {},
   "outputs": [],
   "source": [
    "name[0] = 'Asad'"
   ]
  },
  {
   "cell_type": "code",
   "execution_count": 21,
   "id": "f4c04af3",
   "metadata": {},
   "outputs": [
    {
     "data": {
      "text/plain": [
       "['Asad', 'Daniyal', 'Ali', 'Sara', 'Zain', 'Muneer']"
      ]
     },
     "execution_count": 21,
     "metadata": {},
     "output_type": "execute_result"
    }
   ],
   "source": [
    "name"
   ]
  },
  {
   "cell_type": "code",
   "execution_count": 22,
   "id": "c2418d70",
   "metadata": {},
   "outputs": [],
   "source": [
    "name.append(6)"
   ]
  },
  {
   "cell_type": "code",
   "execution_count": 23,
   "id": "0522d0be",
   "metadata": {},
   "outputs": [
    {
     "data": {
      "text/plain": [
       "['Asad', 'Daniyal', 'Ali', 'Sara', 'Zain', 'Muneer', 6]"
      ]
     },
     "execution_count": 23,
     "metadata": {},
     "output_type": "execute_result"
    }
   ],
   "source": [
    "name"
   ]
  },
  {
   "cell_type": "code",
   "execution_count": 24,
   "id": "01ef6623",
   "metadata": {},
   "outputs": [],
   "source": [
    "name[1:3] = [5000, 6000]"
   ]
  },
  {
   "cell_type": "code",
   "execution_count": 25,
   "id": "42f239cb",
   "metadata": {},
   "outputs": [
    {
     "data": {
      "text/plain": [
       "['Asad', 5000, 6000, 'Sara', 'Zain', 'Muneer', 6]"
      ]
     },
     "execution_count": 25,
     "metadata": {},
     "output_type": "execute_result"
    }
   ],
   "source": [
    "name"
   ]
  },
  {
   "cell_type": "markdown",
   "id": "69f28cd8",
   "metadata": {},
   "source": [
    "# Insert()"
   ]
  },
  {
   "cell_type": "code",
   "execution_count": 26,
   "id": "ebc53a59",
   "metadata": {},
   "outputs": [],
   "source": [
    "name.insert(3, 'Ali')"
   ]
  },
  {
   "cell_type": "code",
   "execution_count": 27,
   "id": "68469ef9",
   "metadata": {},
   "outputs": [
    {
     "data": {
      "text/plain": [
       "['Asad', 5000, 6000, 'Ali', 'Sara', 'Zain', 'Muneer', 6]"
      ]
     },
     "execution_count": 27,
     "metadata": {},
     "output_type": "execute_result"
    }
   ],
   "source": [
    "name"
   ]
  },
  {
   "cell_type": "markdown",
   "id": "27ad23bc",
   "metadata": {},
   "source": [
    "# remove()"
   ]
  },
  {
   "cell_type": "code",
   "execution_count": 28,
   "id": "11ae514e",
   "metadata": {},
   "outputs": [],
   "source": [
    "name.remove('Zain')"
   ]
  },
  {
   "cell_type": "code",
   "execution_count": 29,
   "id": "1505d0aa",
   "metadata": {},
   "outputs": [
    {
     "data": {
      "text/plain": [
       "['Asad', 5000, 6000, 'Ali', 'Sara', 'Muneer', 6]"
      ]
     },
     "execution_count": 29,
     "metadata": {},
     "output_type": "execute_result"
    }
   ],
   "source": [
    "name"
   ]
  },
  {
   "cell_type": "markdown",
   "id": "b3bdfaf9",
   "metadata": {},
   "source": [
    "# pop()"
   ]
  },
  {
   "cell_type": "code",
   "execution_count": 30,
   "id": "05f0d176",
   "metadata": {},
   "outputs": [
    {
     "data": {
      "text/plain": [
       "6000"
      ]
     },
     "execution_count": 30,
     "metadata": {},
     "output_type": "execute_result"
    }
   ],
   "source": [
    "name.pop(2)"
   ]
  },
  {
   "cell_type": "code",
   "execution_count": 31,
   "id": "61e9d4d2",
   "metadata": {},
   "outputs": [
    {
     "data": {
      "text/plain": [
       "['Asad', 5000, 'Ali', 'Sara', 'Muneer', 6]"
      ]
     },
     "execution_count": 31,
     "metadata": {},
     "output_type": "execute_result"
    }
   ],
   "source": [
    "name"
   ]
  },
  {
   "cell_type": "markdown",
   "id": "ade6fee3",
   "metadata": {},
   "source": [
    "# sort()"
   ]
  },
  {
   "cell_type": "code",
   "execution_count": 32,
   "id": "3e1c18fe",
   "metadata": {},
   "outputs": [],
   "source": [
    "fruits = ['orange', 'mango', 'apple', 'banana']\n",
    "fruits.sort()"
   ]
  },
  {
   "cell_type": "code",
   "execution_count": 33,
   "id": "e63776c0",
   "metadata": {},
   "outputs": [
    {
     "data": {
      "text/plain": [
       "['apple', 'banana', 'mango', 'orange']"
      ]
     },
     "execution_count": 33,
     "metadata": {},
     "output_type": "execute_result"
    }
   ],
   "source": [
    "fruits"
   ]
  },
  {
   "cell_type": "markdown",
   "id": "925524ad",
   "metadata": {},
   "source": [
    "# List of Lists"
   ]
  },
  {
   "cell_type": "code",
   "execution_count": 34,
   "id": "d9aa9991",
   "metadata": {},
   "outputs": [],
   "source": [
    "emp_1 = ['Muhammad', 25, 25000, 'Male']\n",
    "emp_2 = ['Qasim', 22, 50000, 'Male']\n",
    "emp_3 = ['Aliza', 45000, 'Female']"
   ]
  },
  {
   "cell_type": "code",
   "execution_count": 35,
   "id": "bd37a8d8",
   "metadata": {},
   "outputs": [],
   "source": [
    "employees = [emp_1, emp_2, emp_3]"
   ]
  },
  {
   "cell_type": "code",
   "execution_count": 36,
   "id": "8e50c4c9",
   "metadata": {},
   "outputs": [
    {
     "data": {
      "text/plain": [
       "[['Muhammad', 25, 25000, 'Male'],\n",
       " ['Qasim', 22, 50000, 'Male'],\n",
       " ['Aliza', 45000, 'Female']]"
      ]
     },
     "execution_count": 36,
     "metadata": {},
     "output_type": "execute_result"
    }
   ],
   "source": [
    "employees"
   ]
  },
  {
   "cell_type": "code",
   "execution_count": 37,
   "id": "66cb37bc",
   "metadata": {},
   "outputs": [
    {
     "data": {
      "text/plain": [
       "'Male'"
      ]
     },
     "execution_count": 37,
     "metadata": {},
     "output_type": "execute_result"
    }
   ],
   "source": [
    "employees[0][3]"
   ]
  },
  {
   "cell_type": "code",
   "execution_count": 38,
   "id": "7516443a",
   "metadata": {},
   "outputs": [
    {
     "data": {
      "text/plain": [
       "['Qasim', 22, 50000, 'Male']"
      ]
     },
     "execution_count": 38,
     "metadata": {},
     "output_type": "execute_result"
    }
   ],
   "source": [
    "employees[1]"
   ]
  },
  {
   "cell_type": "code",
   "execution_count": 39,
   "id": "4cdae800",
   "metadata": {},
   "outputs": [
    {
     "data": {
      "text/plain": [
       "50000"
      ]
     },
     "execution_count": 39,
     "metadata": {},
     "output_type": "execute_result"
    }
   ],
   "source": [
    "employees[1][2]"
   ]
  },
  {
   "cell_type": "markdown",
   "id": "141ca275",
   "metadata": {},
   "source": [
    "# Exercise:"
   ]
  },
  {
   "cell_type": "code",
   "execution_count": 40,
   "id": "befad285",
   "metadata": {},
   "outputs": [],
   "source": [
    "emp_1 = ['Muhammad', 25, 25000, 'Male']\n",
    "emp_2 = ['Qasim', 22, 50000, 'Male']\n",
    "emp_3 = ['Aliza', 45000, 'Female']\n",
    "emp_4 = ['Hafsa', 35000, 'Female']"
   ]
  },
  {
   "cell_type": "code",
   "execution_count": 41,
   "id": "f7257341",
   "metadata": {},
   "outputs": [],
   "source": [
    "employees = [emp_1, emp_2, emp_3, emp_4]"
   ]
  },
  {
   "cell_type": "code",
   "execution_count": 42,
   "id": "7e22e526",
   "metadata": {},
   "outputs": [
    {
     "data": {
      "text/plain": [
       "[['Muhammad', 25, 25000, 'Male'],\n",
       " ['Qasim', 22, 50000, 'Male'],\n",
       " ['Aliza', 45000, 'Female'],\n",
       " ['Hafsa', 35000, 'Female']]"
      ]
     },
     "execution_count": 42,
     "metadata": {},
     "output_type": "execute_result"
    }
   ],
   "source": [
    "employees"
   ]
  },
  {
   "cell_type": "markdown",
   "id": "11740d31",
   "metadata": {},
   "source": [
    "- Q:find the total of employee salary.\n",
    "- Q:find out the avg salary."
   ]
  },
  {
   "cell_type": "code",
   "execution_count": 43,
   "id": "5f3396c6",
   "metadata": {},
   "outputs": [],
   "source": [
    "total_salary = employees[0][2] + employees[1][2] + employees[2][1] + employees[3][1]"
   ]
  },
  {
   "cell_type": "code",
   "execution_count": 44,
   "id": "39046bb0",
   "metadata": {},
   "outputs": [
    {
     "name": "stdout",
     "output_type": "stream",
     "text": [
      "155000\n"
     ]
    }
   ],
   "source": [
    "print(total_salary)"
   ]
  },
  {
   "cell_type": "code",
   "execution_count": 45,
   "id": "89cd5e94",
   "metadata": {},
   "outputs": [],
   "source": [
    "length = len(employees)"
   ]
  },
  {
   "cell_type": "code",
   "execution_count": 46,
   "id": "4872139d",
   "metadata": {},
   "outputs": [],
   "source": [
    "avg = total_salary/length"
   ]
  },
  {
   "cell_type": "code",
   "execution_count": 47,
   "id": "86f7c9d6",
   "metadata": {},
   "outputs": [
    {
     "data": {
      "text/plain": [
       "38750.0"
      ]
     },
     "execution_count": 47,
     "metadata": {},
     "output_type": "execute_result"
    }
   ],
   "source": [
    "avg"
   ]
  },
  {
   "cell_type": "markdown",
   "id": "0a01025f",
   "metadata": {},
   "source": [
    "# For Loops\n",
    "- For loop is used for iteration over a sequence.\n",
    "- A set of statement/code is performed for each iteration."
   ]
  },
  {
   "cell_type": "code",
   "execution_count": 48,
   "id": "fa3b0b83",
   "metadata": {},
   "outputs": [
    {
     "data": {
      "text/plain": [
       "[['Muhammad', 25, 25000, 'Male'],\n",
       " ['Qasim', 22, 50000, 'Male'],\n",
       " ['Aliza', 45000, 'Female'],\n",
       " ['Hafsa', 35000, 'Female']]"
      ]
     },
     "execution_count": 48,
     "metadata": {},
     "output_type": "execute_result"
    }
   ],
   "source": [
    "employees"
   ]
  },
  {
   "cell_type": "code",
   "execution_count": 49,
   "id": "6840a99f",
   "metadata": {},
   "outputs": [
    {
     "name": "stdout",
     "output_type": "stream",
     "text": [
      "['Muhammad', 25, 25000, 'Male']\n",
      "['Qasim', 22, 50000, 'Male']\n",
      "['Aliza', 45000, 'Female']\n",
      "['Hafsa', 35000, 'Female']\n"
     ]
    }
   ],
   "source": [
    "for i in employees: #refers to item\n",
    "    print(i) #indentation"
   ]
  },
  {
   "cell_type": "code",
   "execution_count": 50,
   "id": "4bf1a390",
   "metadata": {},
   "outputs": [
    {
     "name": "stdout",
     "output_type": "stream",
     "text": [
      "Muhammad\n",
      "Qasim\n",
      "Aliza\n",
      "Hafsa\n"
     ]
    }
   ],
   "source": [
    "for emp in employees:\n",
    "    print(emp[0])"
   ]
  },
  {
   "cell_type": "markdown",
   "id": "e0ca895b",
   "metadata": {},
   "source": [
    "# Exercise:"
   ]
  },
  {
   "cell_type": "markdown",
   "id": "00287467",
   "metadata": {},
   "source": [
    "- use the employee list to create a new list 'names' and store all the employee name."
   ]
  },
  {
   "cell_type": "code",
   "execution_count": 51,
   "id": "4f768a63",
   "metadata": {},
   "outputs": [
    {
     "name": "stdout",
     "output_type": "stream",
     "text": [
      "['Muhammad', 'Qasim', 'Aliza', 'Hafsa']\n"
     ]
    }
   ],
   "source": [
    "names = []\n",
    "for j in employees:\n",
    "    names.append(j[0])\n",
    "print(names)"
   ]
  },
  {
   "cell_type": "code",
   "execution_count": 52,
   "id": "8eccd2fa",
   "metadata": {},
   "outputs": [
    {
     "data": {
      "text/plain": [
       "['Muhammad', 'Qasim', 'Aliza', 'Hafsa']"
      ]
     },
     "execution_count": 52,
     "metadata": {},
     "output_type": "execute_result"
    }
   ],
   "source": [
    "names"
   ]
  },
  {
   "cell_type": "markdown",
   "id": "2be2f0a1",
   "metadata": {},
   "source": [
    "# range()"
   ]
  },
  {
   "cell_type": "markdown",
   "id": "1868a537",
   "metadata": {},
   "source": [
    "- It returns a sequence of numbers, generally starting from 0 and increment by 1(default), and stops one value before\n",
    "the specified number"
   ]
  },
  {
   "cell_type": "markdown",
   "id": "e4eeeb2f",
   "metadata": {},
   "source": [
    "range(#start, #stop, #step)"
   ]
  },
  {
   "cell_type": "code",
   "execution_count": 53,
   "id": "58434ff3",
   "metadata": {},
   "outputs": [
    {
     "data": {
      "text/plain": [
       "range(0, 1)"
      ]
     },
     "execution_count": 53,
     "metadata": {},
     "output_type": "execute_result"
    }
   ],
   "source": [
    "range(1)"
   ]
  },
  {
   "cell_type": "code",
   "execution_count": 54,
   "id": "aa168e10",
   "metadata": {},
   "outputs": [
    {
     "data": {
      "text/plain": [
       "range(0, 10)"
      ]
     },
     "execution_count": 54,
     "metadata": {},
     "output_type": "execute_result"
    }
   ],
   "source": [
    "range(10)"
   ]
  },
  {
   "cell_type": "code",
   "execution_count": 55,
   "id": "d1aa9b80",
   "metadata": {},
   "outputs": [
    {
     "name": "stdout",
     "output_type": "stream",
     "text": [
      "0\n",
      "1\n",
      "2\n",
      "3\n"
     ]
    }
   ],
   "source": [
    "for i in range(4):\n",
    "    print(i)"
   ]
  },
  {
   "cell_type": "code",
   "execution_count": 56,
   "id": "1d1430e1",
   "metadata": {},
   "outputs": [
    {
     "name": "stdout",
     "output_type": "stream",
     "text": [
      "5\n",
      "6\n",
      "7\n",
      "8\n",
      "9\n",
      "10\n",
      "11\n",
      "12\n",
      "13\n",
      "14\n"
     ]
    }
   ],
   "source": [
    "for i in range(5, 15):\n",
    "    print(i)"
   ]
  },
  {
   "cell_type": "code",
   "execution_count": 57,
   "id": "4e122b9e",
   "metadata": {},
   "outputs": [
    {
     "name": "stdout",
     "output_type": "stream",
     "text": [
      "5\n",
      "7\n",
      "9\n",
      "11\n",
      "13\n"
     ]
    }
   ],
   "source": [
    "for i in range(5, 15, 2):\n",
    "    print(i)"
   ]
  },
  {
   "cell_type": "code",
   "execution_count": 58,
   "id": "253a1e6e",
   "metadata": {},
   "outputs": [
    {
     "name": "stdout",
     "output_type": "stream",
     "text": [
      "10\n",
      "9\n",
      "8\n",
      "7\n",
      "6\n",
      "5\n",
      "4\n",
      "3\n",
      "2\n",
      "1\n"
     ]
    }
   ],
   "source": [
    "for i in range(10, 0, -1):\n",
    "    print(i)"
   ]
  },
  {
   "cell_type": "code",
   "execution_count": 59,
   "id": "92ac0a38",
   "metadata": {},
   "outputs": [
    {
     "name": "stdout",
     "output_type": "stream",
     "text": [
      "4\n",
      "8\n",
      "12\n",
      "16\n",
      "20\n",
      "24\n",
      "28\n",
      "32\n",
      "36\n",
      "40\n"
     ]
    }
   ],
   "source": [
    "for i in range(4, 41, 4):\n",
    "    print(i)"
   ]
  },
  {
   "cell_type": "markdown",
   "id": "3ffe5a70",
   "metadata": {},
   "source": [
    "# Exercise:"
   ]
  },
  {
   "cell_type": "markdown",
   "id": "7195d681",
   "metadata": {},
   "source": [
    "- Extract salary from emp using for loop and range.\n",
    "- fing out the total salary and avg salary"
   ]
  },
  {
   "cell_type": "code",
   "execution_count": 60,
   "id": "4aad4016",
   "metadata": {},
   "outputs": [
    {
     "data": {
      "text/plain": [
       "[['Muhammad', 25, 25000, 'Male'],\n",
       " ['Qasim', 22, 50000, 'Male'],\n",
       " ['Aliza', 45000, 'Female'],\n",
       " ['Hafsa', 35000, 'Female']]"
      ]
     },
     "execution_count": 60,
     "metadata": {},
     "output_type": "execute_result"
    }
   ],
   "source": [
    "employees"
   ]
  },
  {
   "cell_type": "code",
   "execution_count": 61,
   "id": "33d18e69",
   "metadata": {},
   "outputs": [
    {
     "name": "stdout",
     "output_type": "stream",
     "text": [
      "4\n"
     ]
    }
   ],
   "source": [
    "length = len(employees)\n",
    "print(length)"
   ]
  },
  {
   "cell_type": "code",
   "execution_count": 62,
   "id": "fa8d4b4f",
   "metadata": {},
   "outputs": [
    {
     "name": "stdout",
     "output_type": "stream",
     "text": [
      "[25000, 50000, 45000, 35000]\n",
      "155000\n",
      "38750.0\n"
     ]
    }
   ],
   "source": [
    "lst = []\n",
    "total = 0\n",
    "avg = 0\n",
    "for i in range(len(employees)):\n",
    "    lst.append(employees[i][-2])\n",
    "    total += employees[i][-2]  \n",
    "print(lst)\n",
    "print(total)\n",
    "avg = total/len(employees)\n",
    "print(avg)"
   ]
  },
  {
   "cell_type": "code",
   "execution_count": null,
   "id": "abcccd54",
   "metadata": {},
   "outputs": [],
   "source": []
  }
 ],
 "metadata": {
  "kernelspec": {
   "display_name": "Python 3 (ipykernel)",
   "language": "python",
   "name": "python3"
  },
  "language_info": {
   "codemirror_mode": {
    "name": "ipython",
    "version": 3
   },
   "file_extension": ".py",
   "mimetype": "text/x-python",
   "name": "python",
   "nbconvert_exporter": "python",
   "pygments_lexer": "ipython3",
   "version": "3.9.7"
  }
 },
 "nbformat": 4,
 "nbformat_minor": 5
}
