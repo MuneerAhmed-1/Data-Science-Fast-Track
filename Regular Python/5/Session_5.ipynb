{
 "cells": [
  {
   "cell_type": "markdown",
   "id": "e1f0be0c",
   "metadata": {},
   "source": [
    "# Comparision Operators"
   ]
  },
  {
   "cell_type": "raw",
   "id": "e4c688a4",
   "metadata": {},
   "source": [
    "- == equal to\n",
    "- != not equal to\n",
    "- > gretare then\n",
    "- < less then\n",
    "- >= greater then equals to\n",
    "- <= less then equal to"
   ]
  },
  {
   "cell_type": "code",
   "execution_count": 3,
   "id": "c41f6d53",
   "metadata": {},
   "outputs": [],
   "source": [
    "age = 18"
   ]
  },
  {
   "cell_type": "code",
   "execution_count": 4,
   "id": "d76e0708",
   "metadata": {},
   "outputs": [
    {
     "data": {
      "text/plain": [
       "True"
      ]
     },
     "execution_count": 4,
     "metadata": {},
     "output_type": "execute_result"
    }
   ],
   "source": [
    "age == 18"
   ]
  },
  {
   "cell_type": "code",
   "execution_count": 5,
   "id": "7c69d7e8",
   "metadata": {},
   "outputs": [
    {
     "data": {
      "text/plain": [
       "True"
      ]
     },
     "execution_count": 5,
     "metadata": {},
     "output_type": "execute_result"
    }
   ],
   "source": [
    "age != 19"
   ]
  },
  {
   "cell_type": "code",
   "execution_count": 6,
   "id": "2cdb5215",
   "metadata": {},
   "outputs": [
    {
     "data": {
      "text/plain": [
       "False"
      ]
     },
     "execution_count": 6,
     "metadata": {},
     "output_type": "execute_result"
    }
   ],
   "source": [
    "age > 18"
   ]
  },
  {
   "cell_type": "code",
   "execution_count": 7,
   "id": "f57ae588",
   "metadata": {},
   "outputs": [
    {
     "data": {
      "text/plain": [
       "False"
      ]
     },
     "execution_count": 7,
     "metadata": {},
     "output_type": "execute_result"
    }
   ],
   "source": [
    "age < 18"
   ]
  },
  {
   "cell_type": "markdown",
   "id": "ee30041e",
   "metadata": {},
   "source": [
    "# if-else statement"
   ]
  },
  {
   "cell_type": "markdown",
   "id": "26c88e8f",
   "metadata": {},
   "source": [
    "# syntax:\n",
    "    if condition:\n",
    "        statement\n",
    "    else:\n",
    "        statement"
   ]
  },
  {
   "cell_type": "code",
   "execution_count": 8,
   "id": "438b4dfe",
   "metadata": {},
   "outputs": [
    {
     "name": "stdout",
     "output_type": "stream",
     "text": [
      "Eligible to vote\n"
     ]
    }
   ],
   "source": [
    "age = 20\n",
    "if age >= 18:\n",
    "    print(\"Eligible to vote\")\n",
    "else:\n",
    "    print(\"not Eligible to vote\")"
   ]
  },
  {
   "cell_type": "markdown",
   "id": "c752aaab",
   "metadata": {},
   "source": [
    "# Import the students_data_updated file:"
   ]
  },
  {
   "cell_type": "code",
   "execution_count": 9,
   "id": "2dff0584",
   "metadata": {},
   "outputs": [],
   "source": [
    "import csv"
   ]
  },
  {
   "cell_type": "code",
   "execution_count": 10,
   "id": "7f7fc633",
   "metadata": {},
   "outputs": [],
   "source": [
    "dataset = list(csv.reader(open('students_data_updated.csv')))"
   ]
  },
  {
   "cell_type": "code",
   "execution_count": 11,
   "id": "2c0635b3",
   "metadata": {},
   "outputs": [
    {
     "data": {
      "text/plain": [
       "[['Roll No.',\n",
       "  'Name',\n",
       "  'Chemistry',\n",
       "  'Physics',\n",
       "  'Maths',\n",
       "  'Obtain Marks',\n",
       "  'Percentage'],\n",
       " ['101', 'Aliza', '45', '99', '88', '232', '77.33'],\n",
       " ['102', 'Soban', '50', '97', '87', '234', '78.0'],\n",
       " ['103', 'Noman', '43', '94', '89', '226', '75.33'],\n",
       " ['104', 'Bilal', '42', '87', '85', '214', '71.33'],\n",
       " ['105', 'Saim', '39', '76', '76', '191', '63.67'],\n",
       " ['106', 'Shameer', '38', '58', '75', '171', '57.0'],\n",
       " ['107', 'Zainab', '47', '92', '78', '217', '72.33'],\n",
       " ['108', 'Umer', '46', '86', '73', '205', '68.33'],\n",
       " ['109', 'Umair', '35', '83', '89', '207', '69.0'],\n",
       " ['110', 'Fizzah', '36', '81', '97', '214', '71.33'],\n",
       " ['111', 'Zahra', '49', '90', '94', '233', '77.67'],\n",
       " ['112', 'Fatima', '45', '88', '99', '232', '77.33'],\n",
       " ['113', 'Tooba', '43', '80', '93', '216', '72.0'],\n",
       " ['114', 'Saad', '42', '90', '77', '209', '69.67'],\n",
       " ['115', 'Azher', '41', '93', '98', '232', '77.33'],\n",
       " ['116', 'Danial', '34', '82', '87', '203', '67.67'],\n",
       " ['117', 'kaiser', '45', '91', '86', '222', '74.0'],\n",
       " ['118', 'Jibran', '46', '77', '78', '201', '67.0'],\n",
       " ['119', 'Maria', '43', '69', '94', '206', '68.67'],\n",
       " ['120', 'Amna', '38', '89', '91', '218', '72.67'],\n",
       " ['121', 'Noreen', '37', '98', '90', '225', '75.0']]"
      ]
     },
     "execution_count": 11,
     "metadata": {},
     "output_type": "execute_result"
    }
   ],
   "source": [
    "dataset"
   ]
  },
  {
   "cell_type": "code",
   "execution_count": 12,
   "id": "cd241ba1",
   "metadata": {},
   "outputs": [],
   "source": [
    "header = dataset[0]\n",
    "data = dataset[1:]"
   ]
  },
  {
   "cell_type": "markdown",
   "id": "4ebdb35c",
   "metadata": {},
   "source": [
    "# Skill Test\n",
    "- append satisfy if per > 70\n",
    "- append unsatisfactory if per < 70"
   ]
  },
  {
   "cell_type": "code",
   "execution_count": 13,
   "id": "ad0c09b7",
   "metadata": {},
   "outputs": [],
   "source": [
    "dataset[0].append(\"Remarks\")"
   ]
  },
  {
   "cell_type": "code",
   "execution_count": 14,
   "id": "79cec920",
   "metadata": {},
   "outputs": [
    {
     "data": {
      "text/plain": [
       "['Roll No.',\n",
       " 'Name',\n",
       " 'Chemistry',\n",
       " 'Physics',\n",
       " 'Maths',\n",
       " 'Obtain Marks',\n",
       " 'Percentage',\n",
       " 'Remarks']"
      ]
     },
     "execution_count": 14,
     "metadata": {},
     "output_type": "execute_result"
    }
   ],
   "source": [
    "dataset[0]"
   ]
  },
  {
   "cell_type": "code",
   "execution_count": 15,
   "id": "547f5f76",
   "metadata": {},
   "outputs": [],
   "source": [
    "for i in data:\n",
    "    if float(i[-1]) > 70:\n",
    "        i.append('satisfactory')\n",
    "    else:\n",
    "        i.append('unsatisfactory')"
   ]
  },
  {
   "cell_type": "code",
   "execution_count": 16,
   "id": "fe808e15",
   "metadata": {},
   "outputs": [
    {
     "data": {
      "text/plain": [
       "[['101', 'Aliza', '45', '99', '88', '232', '77.33', 'satisfactory'],\n",
       " ['102', 'Soban', '50', '97', '87', '234', '78.0', 'satisfactory'],\n",
       " ['103', 'Noman', '43', '94', '89', '226', '75.33', 'satisfactory'],\n",
       " ['104', 'Bilal', '42', '87', '85', '214', '71.33', 'satisfactory'],\n",
       " ['105', 'Saim', '39', '76', '76', '191', '63.67', 'unsatisfactory'],\n",
       " ['106', 'Shameer', '38', '58', '75', '171', '57.0', 'unsatisfactory'],\n",
       " ['107', 'Zainab', '47', '92', '78', '217', '72.33', 'satisfactory'],\n",
       " ['108', 'Umer', '46', '86', '73', '205', '68.33', 'unsatisfactory'],\n",
       " ['109', 'Umair', '35', '83', '89', '207', '69.0', 'unsatisfactory'],\n",
       " ['110', 'Fizzah', '36', '81', '97', '214', '71.33', 'satisfactory'],\n",
       " ['111', 'Zahra', '49', '90', '94', '233', '77.67', 'satisfactory'],\n",
       " ['112', 'Fatima', '45', '88', '99', '232', '77.33', 'satisfactory'],\n",
       " ['113', 'Tooba', '43', '80', '93', '216', '72.0', 'satisfactory'],\n",
       " ['114', 'Saad', '42', '90', '77', '209', '69.67', 'unsatisfactory'],\n",
       " ['115', 'Azher', '41', '93', '98', '232', '77.33', 'satisfactory'],\n",
       " ['116', 'Danial', '34', '82', '87', '203', '67.67', 'unsatisfactory'],\n",
       " ['117', 'kaiser', '45', '91', '86', '222', '74.0', 'satisfactory'],\n",
       " ['118', 'Jibran', '46', '77', '78', '201', '67.0', 'unsatisfactory'],\n",
       " ['119', 'Maria', '43', '69', '94', '206', '68.67', 'unsatisfactory'],\n",
       " ['120', 'Amna', '38', '89', '91', '218', '72.67', 'satisfactory'],\n",
       " ['121', 'Noreen', '37', '98', '90', '225', '75.0', 'satisfactory']]"
      ]
     },
     "execution_count": 16,
     "metadata": {},
     "output_type": "execute_result"
    }
   ],
   "source": [
    "data"
   ]
  },
  {
   "cell_type": "markdown",
   "id": "427b1caf",
   "metadata": {},
   "source": [
    "# if_elif statement"
   ]
  },
  {
   "cell_type": "raw",
   "id": "66878a0b",
   "metadata": {},
   "source": [
    "syntax:\n",
    "    if condition:\n",
    "        statement\n",
    "    elif condition:\n",
    "        statement\n",
    "    elif condition:\n",
    "        statement\n",
    "    else: #(optional)\n",
    "        statement"
   ]
  },
  {
   "cell_type": "code",
   "execution_count": 68,
   "id": "c6c40e02",
   "metadata": {},
   "outputs": [
    {
     "name": "stdout",
     "output_type": "stream",
     "text": [
      "enter any number: 2\n",
      "child\n"
     ]
    }
   ],
   "source": [
    "age = int(input('enter any number: '))\n",
    "if 0 < age < 13:\n",
    "    print('child')\n",
    "elif 13 <= age < 18:\n",
    "    print('teenager')\n",
    "elif 18 <= age < 50:\n",
    "    print('adult')\n",
    "else:\n",
    "    print('senior citizen')"
   ]
  },
  {
   "cell_type": "markdown",
   "id": "91773e84",
   "metadata": {},
   "source": [
    "# Skill Test"
   ]
  },
  {
   "cell_type": "markdown",
   "id": "8fc28ea6",
   "metadata": {},
   "source": [
    "Grades\n",
    "- per >= 90 -> A+\n",
    "- per >= 80 -> A\n",
    "- per >= 70 -> B\n",
    "- per >= 60 -> C\n",
    "- per >= 50 -> D\n",
    "- per < 50 -> F"
   ]
  },
  {
   "cell_type": "code",
   "execution_count": 17,
   "id": "269ffdcc",
   "metadata": {},
   "outputs": [],
   "source": [
    "header.insert(7, 'Grades')"
   ]
  },
  {
   "cell_type": "code",
   "execution_count": 18,
   "id": "6bf4bacb",
   "metadata": {},
   "outputs": [
    {
     "data": {
      "text/plain": [
       "['Roll No.',\n",
       " 'Name',\n",
       " 'Chemistry',\n",
       " 'Physics',\n",
       " 'Maths',\n",
       " 'Obtain Marks',\n",
       " 'Percentage',\n",
       " 'Grades',\n",
       " 'Remarks']"
      ]
     },
     "execution_count": 18,
     "metadata": {},
     "output_type": "execute_result"
    }
   ],
   "source": [
    "header"
   ]
  },
  {
   "cell_type": "code",
   "execution_count": 19,
   "id": "62f3de78",
   "metadata": {},
   "outputs": [],
   "source": [
    "for i in data:\n",
    "    per = float(i[6])\n",
    "    if 90 <= per <= 100:\n",
    "        i.insert(7, 'A+')\n",
    "    elif 80 <= per < 90:\n",
    "        i.insert(7, 'A')\n",
    "    elif 70 <= per < 80:\n",
    "        i.insert(7, 'B')\n",
    "    elif 60 <= per < 70:\n",
    "        i.insert(7, 'C')\n",
    "    elif 50 <= per < 60:\n",
    "        i.insert(7, 'D')\n",
    "    else:\n",
    "        i.insert(7, 'Fail')"
   ]
  },
  {
   "cell_type": "code",
   "execution_count": 20,
   "id": "84f41ed8",
   "metadata": {},
   "outputs": [
    {
     "data": {
      "text/plain": [
       "[['101', 'Aliza', '45', '99', '88', '232', '77.33', 'B', 'satisfactory'],\n",
       " ['102', 'Soban', '50', '97', '87', '234', '78.0', 'B', 'satisfactory'],\n",
       " ['103', 'Noman', '43', '94', '89', '226', '75.33', 'B', 'satisfactory'],\n",
       " ['104', 'Bilal', '42', '87', '85', '214', '71.33', 'B', 'satisfactory'],\n",
       " ['105', 'Saim', '39', '76', '76', '191', '63.67', 'C', 'unsatisfactory'],\n",
       " ['106', 'Shameer', '38', '58', '75', '171', '57.0', 'D', 'unsatisfactory'],\n",
       " ['107', 'Zainab', '47', '92', '78', '217', '72.33', 'B', 'satisfactory'],\n",
       " ['108', 'Umer', '46', '86', '73', '205', '68.33', 'C', 'unsatisfactory'],\n",
       " ['109', 'Umair', '35', '83', '89', '207', '69.0', 'C', 'unsatisfactory'],\n",
       " ['110', 'Fizzah', '36', '81', '97', '214', '71.33', 'B', 'satisfactory'],\n",
       " ['111', 'Zahra', '49', '90', '94', '233', '77.67', 'B', 'satisfactory'],\n",
       " ['112', 'Fatima', '45', '88', '99', '232', '77.33', 'B', 'satisfactory'],\n",
       " ['113', 'Tooba', '43', '80', '93', '216', '72.0', 'B', 'satisfactory'],\n",
       " ['114', 'Saad', '42', '90', '77', '209', '69.67', 'C', 'unsatisfactory'],\n",
       " ['115', 'Azher', '41', '93', '98', '232', '77.33', 'B', 'satisfactory'],\n",
       " ['116', 'Danial', '34', '82', '87', '203', '67.67', 'C', 'unsatisfactory'],\n",
       " ['117', 'kaiser', '45', '91', '86', '222', '74.0', 'B', 'satisfactory'],\n",
       " ['118', 'Jibran', '46', '77', '78', '201', '67.0', 'C', 'unsatisfactory'],\n",
       " ['119', 'Maria', '43', '69', '94', '206', '68.67', 'C', 'unsatisfactory'],\n",
       " ['120', 'Amna', '38', '89', '91', '218', '72.67', 'B', 'satisfactory'],\n",
       " ['121', 'Noreen', '37', '98', '90', '225', '75.0', 'B', 'satisfactory']]"
      ]
     },
     "execution_count": 20,
     "metadata": {},
     "output_type": "execute_result"
    }
   ],
   "source": [
    "data"
   ]
  },
  {
   "cell_type": "markdown",
   "id": "20c36811",
   "metadata": {},
   "source": [
    "# Logical Operators"
   ]
  },
  {
   "cell_type": "markdown",
   "id": "ba29bd19",
   "metadata": {},
   "source": [
    "- or (if single True so True)\n",
    "- and (if all True so True)\n",
    "- not"
   ]
  },
  {
   "cell_type": "code",
   "execution_count": 24,
   "id": "86079649",
   "metadata": {},
   "outputs": [
    {
     "name": "stdout",
     "output_type": "stream",
     "text": [
      "Saim\n",
      "Shameer\n",
      "Umer\n",
      "Umair\n",
      "Saad\n",
      "Danial\n",
      "Jibran\n",
      "Maria\n"
     ]
    }
   ],
   "source": [
    "for i in data:\n",
    "    if not i[-1] == 'satisfactory':\n",
    "        print(i[1])"
   ]
  },
  {
   "cell_type": "code",
   "execution_count": 22,
   "id": "ba3fad1c",
   "metadata": {},
   "outputs": [
    {
     "name": "stdout",
     "output_type": "stream",
     "text": [
      "Aliza\n",
      "Soban\n",
      "Noman\n",
      "Bilal\n",
      "Shameer\n",
      "Zainab\n",
      "Fizzah\n",
      "Zahra\n",
      "Fatima\n",
      "Tooba\n",
      "Azher\n",
      "kaiser\n",
      "Amna\n",
      "Noreen\n"
     ]
    }
   ],
   "source": [
    "for i in data:\n",
    "    if i[-1] == 'satisfactory' or i[-2] == 'D':\n",
    "        print(i[1])"
   ]
  },
  {
   "cell_type": "code",
   "execution_count": 26,
   "id": "510cf20b",
   "metadata": {},
   "outputs": [
    {
     "name": "stdout",
     "output_type": "stream",
     "text": [
      "Shameer\n"
     ]
    }
   ],
   "source": [
    "for i in data:\n",
    "    if i[-1] == 'unsatisfactory' and i[-2] == 'D':\n",
    "        print(i[1])"
   ]
  },
  {
   "cell_type": "markdown",
   "id": "9e16b43f",
   "metadata": {},
   "source": [
    "# Dictionary"
   ]
  },
  {
   "cell_type": "code",
   "execution_count": 27,
   "id": "abfa3301",
   "metadata": {},
   "outputs": [],
   "source": [
    "emp_name = 'asad'\n",
    "emp_age = 20\n",
    "emp_salary = 30000.0"
   ]
  },
  {
   "cell_type": "code",
   "execution_count": 28,
   "id": "58e33ffb",
   "metadata": {},
   "outputs": [],
   "source": [
    "emp = [emp_name, emp_age, emp_salary]"
   ]
  },
  {
   "cell_type": "code",
   "execution_count": 29,
   "id": "46bc416e",
   "metadata": {},
   "outputs": [
    {
     "data": {
      "text/plain": [
       "['asad', 20, 30000.0]"
      ]
     },
     "execution_count": 29,
     "metadata": {},
     "output_type": "execute_result"
    }
   ],
   "source": [
    "emp"
   ]
  },
  {
   "cell_type": "code",
   "execution_count": 30,
   "id": "1b47e676",
   "metadata": {},
   "outputs": [
    {
     "data": {
      "text/plain": [
       "list"
      ]
     },
     "execution_count": 30,
     "metadata": {},
     "output_type": "execute_result"
    }
   ],
   "source": [
    "type(emp)"
   ]
  },
  {
   "cell_type": "code",
   "execution_count": 36,
   "id": "f3740b17",
   "metadata": {},
   "outputs": [],
   "source": [
    "#key:value\n",
    "emp_dict = {'emp_name':'asad', 'emp_age':22, 'emp_salary':30000.0}"
   ]
  },
  {
   "cell_type": "code",
   "execution_count": 37,
   "id": "dd2c65ea",
   "metadata": {},
   "outputs": [
    {
     "data": {
      "text/plain": [
       "{'emp_name': 'asad', 'emp_age': 22, 'emp_salary': 30000.0}"
      ]
     },
     "execution_count": 37,
     "metadata": {},
     "output_type": "execute_result"
    }
   ],
   "source": [
    "emp_dict"
   ]
  },
  {
   "cell_type": "code",
   "execution_count": 38,
   "id": "e715cde7",
   "metadata": {},
   "outputs": [
    {
     "data": {
      "text/plain": [
       "dict"
      ]
     },
     "execution_count": 38,
     "metadata": {},
     "output_type": "execute_result"
    }
   ],
   "source": [
    "type(emp_dict)"
   ]
  },
  {
   "cell_type": "code",
   "execution_count": 39,
   "id": "f0243c27",
   "metadata": {},
   "outputs": [
    {
     "data": {
      "text/plain": [
       "30000.0"
      ]
     },
     "execution_count": 39,
     "metadata": {},
     "output_type": "execute_result"
    }
   ],
   "source": [
    "emp_dict['emp_salary']"
   ]
  },
  {
   "cell_type": "code",
   "execution_count": 42,
   "id": "27cd1dd8",
   "metadata": {},
   "outputs": [
    {
     "data": {
      "text/plain": [
       "dict_keys(['emp_name', 'emp_age', 'emp_salary'])"
      ]
     },
     "execution_count": 42,
     "metadata": {},
     "output_type": "execute_result"
    }
   ],
   "source": [
    "emp_dict.keys()"
   ]
  },
  {
   "cell_type": "code",
   "execution_count": 44,
   "id": "27f14187",
   "metadata": {},
   "outputs": [
    {
     "data": {
      "text/plain": [
       "dict_values(['asad', 22, 30000.0])"
      ]
     },
     "execution_count": 44,
     "metadata": {},
     "output_type": "execute_result"
    }
   ],
   "source": [
    "emp_dict.values()"
   ]
  },
  {
   "cell_type": "markdown",
   "id": "6413a874",
   "metadata": {},
   "source": [
    "# Membership Operator - in"
   ]
  },
  {
   "cell_type": "code",
   "execution_count": 45,
   "id": "6b27d70f",
   "metadata": {},
   "outputs": [
    {
     "data": {
      "text/plain": [
       "True"
      ]
     },
     "execution_count": 45,
     "metadata": {},
     "output_type": "execute_result"
    }
   ],
   "source": [
    "'emp_salary' in emp_dict"
   ]
  },
  {
   "cell_type": "code",
   "execution_count": 46,
   "id": "859cdb26",
   "metadata": {},
   "outputs": [
    {
     "data": {
      "text/plain": [
       "False"
      ]
     },
     "execution_count": 46,
     "metadata": {},
     "output_type": "execute_result"
    }
   ],
   "source": [
    "'emp_address' in emp_dict"
   ]
  },
  {
   "cell_type": "code",
   "execution_count": 47,
   "id": "92fcabc7",
   "metadata": {},
   "outputs": [],
   "source": [
    "emp_dict['emp_address'] = 'Gulshan'"
   ]
  },
  {
   "cell_type": "code",
   "execution_count": 48,
   "id": "32180ef0",
   "metadata": {},
   "outputs": [
    {
     "data": {
      "text/plain": [
       "{'emp_name': 'asad',\n",
       " 'emp_age': 22,\n",
       " 'emp_salary': 30000.0,\n",
       " 'emp_address': 'Gulshan'}"
      ]
     },
     "execution_count": 48,
     "metadata": {},
     "output_type": "execute_result"
    }
   ],
   "source": [
    "emp_dict"
   ]
  },
  {
   "cell_type": "code",
   "execution_count": 49,
   "id": "56747dd3",
   "metadata": {},
   "outputs": [],
   "source": [
    "emp_dict['emp_name'] = 'Ali'"
   ]
  },
  {
   "cell_type": "code",
   "execution_count": 50,
   "id": "6c2df902",
   "metadata": {},
   "outputs": [
    {
     "data": {
      "text/plain": [
       "{'emp_name': 'Ali',\n",
       " 'emp_age': 22,\n",
       " 'emp_salary': 30000.0,\n",
       " 'emp_address': 'Gulshan'}"
      ]
     },
     "execution_count": 50,
     "metadata": {},
     "output_type": "execute_result"
    }
   ],
   "source": [
    "emp_dict"
   ]
  },
  {
   "cell_type": "code",
   "execution_count": 51,
   "id": "7b630b81",
   "metadata": {},
   "outputs": [],
   "source": [
    "emp_dict['emp_no'] = ['0321-1234567', '0321-9876543']"
   ]
  },
  {
   "cell_type": "code",
   "execution_count": 52,
   "id": "f260dbd0",
   "metadata": {},
   "outputs": [
    {
     "data": {
      "text/plain": [
       "{'emp_name': 'Ali',\n",
       " 'emp_age': 22,\n",
       " 'emp_salary': 30000.0,\n",
       " 'emp_address': 'Gulshan',\n",
       " 'emp_no': ['0321-1234567', '0321-9876543']}"
      ]
     },
     "execution_count": 52,
     "metadata": {},
     "output_type": "execute_result"
    }
   ],
   "source": [
    "emp_dict"
   ]
  },
  {
   "cell_type": "code",
   "execution_count": 57,
   "id": "14f1df02",
   "metadata": {},
   "outputs": [
    {
     "data": {
      "text/plain": [
       "'0321-9876543'"
      ]
     },
     "execution_count": 57,
     "metadata": {},
     "output_type": "execute_result"
    }
   ],
   "source": [
    "emp_dict['emp_no'][1]"
   ]
  }
 ],
 "metadata": {
  "kernelspec": {
   "display_name": "Python 3 (ipykernel)",
   "language": "python",
   "name": "python3"
  },
  "language_info": {
   "codemirror_mode": {
    "name": "ipython",
    "version": 3
   },
   "file_extension": ".py",
   "mimetype": "text/x-python",
   "name": "python",
   "nbconvert_exporter": "python",
   "pygments_lexer": "ipython3",
   "version": "3.9.7"
  }
 },
 "nbformat": 4,
 "nbformat_minor": 5
}
